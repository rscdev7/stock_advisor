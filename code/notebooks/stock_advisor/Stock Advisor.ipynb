{
 "cells": [
  {
   "cell_type": "markdown",
   "id": "811d8017",
   "metadata": {},
   "source": [
    "<img src=\"data/project_logo.png\" alt=\"Project Logo\" width=\"500\" height=\"178\" align=\"left\">"
   ]
  },
  {
   "cell_type": "markdown",
   "id": "ccb511aa",
   "metadata": {},
   "source": [
    "<br>\n",
    "<b>-> Author: Rosario Scalia   <br>\n",
    "-> Matriculation Number: 1000008648 "
   ]
  },
  {
   "cell_type": "markdown",
   "id": "a3f0b566",
   "metadata": {},
   "source": [
    "## Table of Contents"
   ]
  },
  {
   "cell_type": "markdown",
   "id": "e826db74",
   "metadata": {},
   "source": [
    "* [Introduction](#intro)\n",
    "    * [Interest Domain](#domain)\n",
    "    * [Project Goal](#goal)\n",
    "* [Dataset](#dataset)\n",
    "    * [Data Source](#source)\n",
    "    * [Data Description](#descr)\n",
    "* [Statistical Analysis](#stats_an)\n",
    "    * [Data Visualization](#view)\n",
    "    * [Data Insights](#ins)\n",
    "* [Probabilistic Analysis](#prob)\n",
    "* [Modellistic Analysis](#model)\n",
    "    * [Seasonal ARIMA](#sarima)\n",
    "    * [Holt-Winters](#holt)\n",
    "    * [Prophet](#prophet)\n",
    "    * [Forecasting Analysis](#forecast)\n",
    "* [Conclusion](#end)\n",
    "* [References](#ref)"
   ]
  },
  {
   "cell_type": "markdown",
   "id": "459d76b2",
   "metadata": {},
   "source": [
    "<a class=\"anchor\" id=\"intro\"></a>\n",
    "## Introduction "
   ]
  },
  {
   "cell_type": "markdown",
   "id": "a47e2739",
   "metadata": {},
   "source": [
    "<a class=\"anchor\" id=\"domain\"></a>\n",
    "### Interest Domain"
   ]
  },
  {
   "cell_type": "markdown",
   "id": "ba9b1c6d",
   "metadata": {},
   "source": [
    "<a class=\"anchor\" id=\"goal\"></a>\n",
    "### Project Goal"
   ]
  },
  {
   "cell_type": "markdown",
   "id": "2b3dc661",
   "metadata": {},
   "source": [
    "<a class=\"anchor\" id=\"dataset\"></a>\n",
    "## Dataset"
   ]
  },
  {
   "cell_type": "markdown",
   "id": "4f21669f",
   "metadata": {},
   "source": [
    "<a class=\"anchor\" id=\"source\"></a>\n",
    "### Data Source\n"
   ]
  },
  {
   "cell_type": "markdown",
   "id": "c3887c93",
   "metadata": {},
   "source": [
    "<a class=\"anchor\" id=\"descr\"></a> \n",
    "### Data Description\n"
   ]
  },
  {
   "cell_type": "markdown",
   "id": "106bcc22",
   "metadata": {},
   "source": [
    "<a class=\"anchor\" id=\"stats_an\"></a> \n",
    "## Statistical Analysis \n"
   ]
  },
  {
   "cell_type": "markdown",
   "id": "9166dc24",
   "metadata": {},
   "source": [
    "<a class=\"anchor\" id=\"view\"></a>\n",
    "### Data Visualization\n"
   ]
  },
  {
   "cell_type": "markdown",
   "id": "3a4cb006",
   "metadata": {},
   "source": [
    "<a class=\"anchor\" id=\"ins\"></a>\n",
    "### Data Insights\n"
   ]
  },
  {
   "cell_type": "markdown",
   "id": "7cde95d6",
   "metadata": {},
   "source": [
    "<a class=\"anchor\" id=\"prob\"></a>\n",
    "## Probabilistic Analysis\n"
   ]
  },
  {
   "cell_type": "markdown",
   "id": "316d37cb",
   "metadata": {},
   "source": [
    "<a class=\"anchor\" id=\"model\"></a>\n",
    "## Modellistic Analysis"
   ]
  },
  {
   "cell_type": "markdown",
   "id": "33800d3e",
   "metadata": {},
   "source": [
    "<a class=\"anchor\" id=\"sarima\"></a>\n",
    "### Seasonal ARIMA"
   ]
  },
  {
   "cell_type": "markdown",
   "id": "e9ee6aeb",
   "metadata": {},
   "source": [
    "Seasonal ARIMA (Autoregressive-Integrated-Moving Average) is a statistical model for analyzing and forecasting time series data and more in generale Stochastic Processes.\n",
    "\n",
    "The Model is a composition of two further ones:\n",
    "1. Autoregressive Model \n",
    "2. Moving Average Model \n",
    "\n",
    "**Autoregressive Model (AR)** is a linear model that describes the outcome of a Stochastic Process as a linear combination of its own previous values and a stochastic term (an imperfectly predictable term); thus the model is in the form of a stochastic difference equation.\n",
    "\n",
    "The analytic form of the AR model is the following:\n",
    "\n",
    "<br>\n",
    "<br>\n",
    "<div class='math'>\n",
    "    \\begin{equation}\n",
    "        F_{t} \\, = \\, \\text{AR}_{p}(t) \\,=\\, c + \\varepsilon_{t} + \\sum_{i=1}^{p}\\phi_{i} \\cdot X_{t-i} \n",
    "    \\end{equation}\n",
    "</div>\n",
    "<br>\n",
    "<br>\n",
    "\n",
    "The above Formula shows the following cues:\n",
    "1. $\\mathbf{F_t}$ is the predicted value of time serie at time t given the last p values of time serie\n",
    "2. $\\mathbf{c}$, costant value\n",
    "3. $\\mathbf{\\phi_i}$, parameters of the model\n",
    "4. $\\mathbf{p}$, hyperparamiter that set the number of past observations in order to perform inference for the next step.\n",
    "For that, the model is usually referred as AR(p) where p is the aforementioned hyperparam\n",
    "5. $\\mathbf{\\varepsilon_t}$, white noise term that model the error\n",
    "6. $\\mathbf{X_t}$ is the actual value of time time at step t\n",
    "\n",
    "An autoregressive model can thus be viewed as the output of an *all-pole infinite impulse response filter* whose input is white noise.\n",
    "\n",
    "**Moving Average Model (MA)** is the other sub-part of SARIMA Model.\n",
    "\n",
    "The moving-average model specifies that the output variable depends linearly on the current and various past values of a stochastic (imperfectly predictable) term.\n",
    "\n",
    "The analytic form of MA model is the following:\n",
    "\n",
    "<br>\n",
    "<br>\n",
    "<div class='math'>\n",
    "    \\begin{equation}\n",
    "        F_{t} \\, = \\, \\text{MA}_{q}(t) \\,=\\, \\mu + \\varepsilon_t  + \\sum_{i=1}^{q}\\theta_{i} \\cdot \\varepsilon_{t-i} \n",
    "    \\end{equation}\n",
    "</div>\n",
    "<br>\n",
    "<br>\n",
    "\n",
    "The formula shows the following features:\n",
    "1. $\\mathbf{F_t}$ is the predicted value of time serie at time t given the last q random shocks suffered by the system\n",
    "2. $\\mathbf{\\mu}$ is the mean of the time serie\n",
    "3. $\\mathbf{\\varepsilon_{t-i}}$ is the random shock (or error term) occured at time t-i\n",
    "4. $\\mathbf{\\theta_i}$ are the parameters of the Model\n",
    "5. $\\mathbf{q}$ is the hyperparameter of the model, it rules the number of past random shocks to employ for the inference of the next step of the time serie. For that, MA model is usually referred as MA(q) model.\n",
    "6. $\\mathbf{X_t}$ is the actual value of time time at step t\n",
    "\n",
    "Random shocks at each point are assumed to be mutually independent and to come from the same distribution, typically a normal distribution, with location at zero and constant scale.\n",
    "\n",
    "From a Signal Processing perspective, the moving-average model is a finite impulse response filter applied to white noise.\n",
    "\n",
    "**Seasonal ARIMA** is a combination of these two models enriched with a *specific pre-processing* of data in order to ensure the *weak stationarity* of the Stochastic Process induced by the time serie.\n",
    "\n",
    "Before explaining the pre-processing needed, we briefly report the definition of Weak Stationarity.\n",
    "\n",
    "A Stochastic Process $X$ is Weak Stationary if and only if:\n",
    "1. $\\mu(X_t) = \\mu(X_t+\\tau) \\quad \\forall \\tau \\in \\mathbb{R}$\n",
    "<br>\n",
    "\n",
    "2. $Cov_{X,X}\\,(t_1,t_2) = Cov_{X,X}\\,(t_1-t_2,0) \\quad \\forall t_1,t_2 \\in \\mathbb{R}$\n",
    "<br>\n",
    "\n",
    "3. $\\mathbb{E}\\,[|X_t|^{2}] < \\infty \\quad \\forall t \\in \\mathbb{R}$\n",
    "<br>\n",
    "\n",
    "In essence, the definition is telling us that the mean of the time serie not vary respect the time.\n",
    "\n",
    "Said that, it is worth saying that AR, MA models and ARMA (combination of AR and MA) are models designed for Weak Stationary Stochastic Process (a.k.a. Weak Stationary Time Series).\n",
    "\n",
    "Usually, real time series are not stationary, for this reason it would take a way to transform.\n",
    "\n",
    "The method is the *Differencing* and corresponde to the letter \"I\" of the SARIMA model.\n",
    "\n",
    "Differencing involves the following operation:\n",
    "<br>\n",
    "<br>\n",
    "<div class='math'>\n",
    "    \\begin{equation}\n",
    "        z_t \\,=\\,\\nabla\\, X_t \\,=\\, X_t - X_{t-1}\n",
    "    \\end{equation}\n",
    "</div>\n",
    "<br>\n",
    "<br>\n",
    "\n",
    "This operation ,essentialy, removes *Trends* from the time serie and enforce Weak Stationarity of hers.\n",
    "\n",
    "Furthermore, is worth notice that data can require more steps of differencing in order to reach the weak stationarity.\n",
    "\n",
    "In all cases, an ARMA model applied to the differenced data is usually referred as *ARIMA* model.\n",
    "\n",
    "From a Signalt Theory point of view, Differencing acts as high-pass filter to the original signal.\n",
    "\n",
    "Another important issue of time series data is *Seasonality*.\n",
    "\n",
    "Usually, some specific behaviour of the Stochastic Process happpens at cyclic intervals of time (think at the grow of purchases in corrispondance of the Christmas Holidays).\n",
    "\n",
    "This issue is called *Seasonality* and must be put in the accout in order to perform good forecast.\n",
    "\n",
    "Therefore, we properly combine two ARIMA models (one for regular data and one for Seasonal Data extracted from the studied time serie) in the Seasonal ARIMA model.\n",
    "\n",
    "This model has the following analytic expression:\n",
    "<br>\n",
    "<br>\n",
    "<div class='math'>\n",
    "    \\begin{equation}\n",
    "        F_t\\,=\\, \\text{SARIMA}^{\\,(p,d,q) \\,\\times\\, (P,D,Q)_{s}} \\,=\\,\\biggl[ \\text{MA}^{(seas)}_{Q}(t) \\cdot \\text{MA}^{(reg)}_{q}(t) \\biggl ]- \\biggl[ \\text{AR}^{(seas)}_{P}(t) \\cdot \\text{AR}^{(reg)}_{p}(t) \\biggl ]\n",
    "    \\end{equation}\n",
    "</div>\n",
    "<br>\n",
    "<br>\n",
    "\n",
    "This model is usually referred as $\\text{SARIMA}^{\\,(p,d,q) \\,\\times\\, (P,D,Q)_{s}}$ and has the following hyperparams:\n",
    "1. $\\mathbf{p}$, number of past observation for the computation of the Regular AR Model\n",
    "2. $\\mathbf{d}$, number of differecing performed to the Regular Data\n",
    "3. $\\mathbf{q}$, number of past random shocks for the computation of the Regular MA Model\n",
    "4. $\\mathbf{P}$, number of past observation for the computation of the Seasonal AR Model\n",
    "5. $\\mathbf{D}$, number of differecing performed to the Seasonal Data extracted from the Regular Data\n",
    "6. $\\mathbf{Q}$, number of past random shocks for the computation of the Seasonal MA Model\n",
    "7. $\\mathbf{s}$, period of a season\n",
    "\n",
    "At this point, one can ask how to compute optimal SARIMA hyper params value.\n",
    "\n",
    "Well, there is 3 ways:\n",
    "1. Plotting Autocorrelation (AFCF) and Partial Autocorrelation (PACF) of the data and try to guess the right model with the help of some *common sense* rules.\n",
    "2. Optimizing a specific criterion respect to the hyperparamiters (ex. BIC, AIC etc..)\n",
    "3. Perform GridSearch on a restricted space of hyperparamiters"
   ]
  },
  {
   "cell_type": "markdown",
   "id": "5048875e",
   "metadata": {},
   "source": [
    "<a class=\"anchor\" id=\"holt\"></a>\n",
    "### Holt-Winters\n"
   ]
  },
  {
   "cell_type": "markdown",
   "id": "89197691",
   "metadata": {},
   "source": [
    "Holt-Winters is a forecasting algorithm based on the following three techniques of smoothing:\n",
    "\n",
    "1. Weighted Average\n",
    "2. Exponential Smoothing \n",
    "3. Holt Exponential Smoothing\n",
    "\n",
    "**Weighted Average** is a simple mean where each observation is weighted with a specific weight; the denominator of the mean is the sum of all weights.\n",
    "\n",
    "Usually, the weight of a Weighted Average are modelled throught specific mathematical functions.\n",
    "\n",
    "**Exponential Smoothing** is a weighted average where weights decay exponentials from the most recent to the oldest historical value.\n",
    "\n",
    "In this setup, you make the assumption that recent values in the time serie are most important than old ones in order to perform forecasting.\n",
    "\n",
    "This assumption is deleterious in case of time series that show Trend and Seasonality.\n",
    "\n",
    "**Holt Exponential Smoothing** is an arrangment of Exponential Smoothing in order to fix the Trend problem aforementioned.\n",
    "\n",
    "**Holt-Winters Algorithm** is an improvement of Holt in order to fix the problems relative to Seasonality.\n",
    "\n",
    "The algorithm is declined in two flavours respect to the \"type\" of Seasonality: *Additive* or *Multiplicative*.\n",
    "\n",
    "In case of Multiplicative Seasonality, the algorithm induce the following Recursive set of Equations:\n",
    "\n",
    "<br>\n",
    "<br>\n",
    "<div class='math'>\n",
    "    \\begin{cases}\n",
    "        F_{t+m}\\,&=\\,(s_t + m \\cdot b_t) \\cdot c_{t-L+m \\,\\,mod\\,\\, L} \\\\\n",
    "        s_t \\,&=\\, \\alpha \\cdot \\frac{X_t}{c_{t-L}}+(1-\\alpha)\\cdot(s_{t-1}+b_{t-1})\\\\\n",
    "        b_t\\,&=\\,\\beta\\cdot (s_t - s_{t-1}) + (1-\\beta) \\cdot b_{t-1}\\\\\n",
    "        c_t\\,&=\\,\\gamma \\cdot \\frac{X_t}{s_t} + (1 - \\gamma) \\cdot c_{t-L}\\\\\n",
    "    \\end{cases}\n",
    "</div>\n",
    "<br>\n",
    "<br>\n",
    "\n",
    "The above set of equations employ the following symbols:\n",
    "\n",
    "1. $\\mathbf{F_{t+m}}$, forecasting at step t+m\n",
    "2. $\\mathbf{s_t}$, smoothed value of the *Level* of time serie at step t\n",
    "3. $\\mathbf{b_t}$, smmothed value of the *Trend* of time serie at step t\n",
    "4. $\\mathbf{c_t}$, smmothed value of the *Seasonality* of time serie at step t\n",
    "5. $\\mathbf{L}$, period of seasonality\n",
    "6. $\\mathbf{\\alpha}$, smoothing paramiter for the Level estimate, must lie in the [0,1] interval.\n",
    "7. $\\mathbf{\\beta}$, smoothing paramiter for the Trend estimate, must lie in the [0,1] interval.\n",
    "8. $\\mathbf{\\gamma}$, smoothing paramiter for the Seasonality estimate, must lie in the [0,1] interval.\n",
    "9. $\\mathbf{X_t}$, value of time serie at step t\n",
    "10. $\\mathbf{t}$, current time\n",
    "\n",
    "The showed equations underline the following cues of the algorithm:\n",
    "1. Holt-Winters algorithm perform a Triple Exponential Smoothing respectively on: Level, Trend and Seasonality features of the time serie analyzed.\n",
    "2. Holt-Winters combine the smoothed values in order to do the forecasts\n",
    "3. Seasonality smoothed value can be used in a *moltiplicative* or *additive* manner in order to do forecast\n",
    "\n",
    "\n",
    "The Seasonal Additive version of the algorithm is the following:\n",
    "<br>\n",
    "<br>\n",
    "<div class='math'>\n",
    "    \\begin{cases}\n",
    "        F_{t+m}\\,&=\\, s_t + m \\cdot b_t + c_{t-L+m \\,\\, mod \\,\\, L}\\\\\n",
    "        s_t \\,&=\\, \\alpha \\cdot (X_t - c_{t-L}) + (1- \\alpha) \\cdot (s_{t-1} + b_{t-1}) \\\\\n",
    "            b_t\\,&=\\,\\beta \\cdot (s_t - s_{t-1}) + (1-\\beta) \\cdot b_{t-1} \\\\\n",
    "        c_t\\,&=\\,\\gamma \\cdot (X_t - s_{t-1} -b_{t-1}) + (1- \\gamma) \\cdot c_{t-L}\\\\\n",
    "    \\end{cases}\n",
    "</div>\n",
    "<br>\n",
    "<br>\n",
    "\n",
    "The symbols employed are the same of the Multiplicative Version."
   ]
  },
  {
   "cell_type": "markdown",
   "id": "fe414362",
   "metadata": {},
   "source": [
    "<a class=\"anchor\" id=\"prophet\"></a>\n",
    "### Prophet\n"
   ]
  },
  {
   "cell_type": "markdown",
   "id": "826709a4",
   "metadata": {},
   "source": [
    "<a class=\"anchor\" id=\"forecast\"></a>\n",
    "### Forecasting Analysis\n"
   ]
  },
  {
   "cell_type": "markdown",
   "id": "7cb6dcd0",
   "metadata": {},
   "source": [
    "<a class=\"anchor\" id=\"end\"></a>\n",
    "## Conclusion\n"
   ]
  },
  {
   "cell_type": "markdown",
   "id": "51fcf5ff",
   "metadata": {},
   "source": [
    "<a class=\"anchor\" id=\"ref\"></a>\n",
    "## References\n"
   ]
  },
  {
   "cell_type": "markdown",
   "id": "56f1456f",
   "metadata": {},
   "source": [
    "- [[1]](https://www.wiley.com/en-us/Time+Series+Analysis+and+Forecasting+by+Example-p-9780470540640) Bisgaard, Kulahci - Time Series Analysis and Forecasting by Example (First Edition)\n",
    "- [[2]](https://www.springer.com/gp/book/9783319298528) Brockwell, Davis - Introduction to Time Series and Forecasting (Third Edition)\n",
    "- [[3]](https://peerj.com/preprints/3190.pdf) Taylor et. al. (Facebook Research) - Forecasting at Scale\n",
    "- [[4]](https://datahub.io/core/s-and-p-500#data-cli) Standard and Poor's (S&P) 500 Index Data\n",
    "- [[5]](https://www.scipy.org/) SciPy, python-based ecosystem for mathematics, science, and engineering\n",
    "- [[6]](https://facebookresearch.github.io/Kats/) Kats, one stop shop for time series analysis in Python"
   ]
  }
 ],
 "metadata": {
  "kernelspec": {
   "display_name": "Python 3",
   "language": "python",
   "name": "python3"
  },
  "language_info": {
   "codemirror_mode": {
    "name": "ipython",
    "version": 3
   },
   "file_extension": ".py",
   "mimetype": "text/x-python",
   "name": "python",
   "nbconvert_exporter": "python",
   "pygments_lexer": "ipython3",
   "version": "3.7.10"
  }
 },
 "nbformat": 4,
 "nbformat_minor": 5
}
