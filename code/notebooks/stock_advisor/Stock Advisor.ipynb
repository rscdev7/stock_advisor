{
 "cells": [
  {
   "cell_type": "markdown",
   "id": "811d8017",
   "metadata": {},
   "source": [
    "<img src=\"data/project_logo.png\" alt=\"Project Logo\" width=\"500\" height=\"178\" align=\"left\">"
   ]
  },
  {
   "cell_type": "markdown",
   "id": "ccb511aa",
   "metadata": {},
   "source": [
    "<br>\n",
    "<b>Rosario Scalia \n",
    "(1000008648)"
   ]
  },
  {
   "cell_type": "markdown",
   "id": "a3f0b566",
   "metadata": {},
   "source": [
    "## Table of Contents"
   ]
  },
  {
   "cell_type": "markdown",
   "id": "e826db74",
   "metadata": {},
   "source": [
    "* [Introduction](#intro)\n",
    "    * [Interest Domain](#domain)\n",
    "    * [Project Goal](#goal)\n",
    "* [Dataset](#dataset)\n",
    "    * [Data Source](#source)\n",
    "    * [Data Description](#descr)\n",
    "* [Statistical Analysis](#stats_an)\n",
    "    * [Data Visualization](#view)\n",
    "    * [Data Insights](#ins)\n",
    "* [Probabilistic Analysis](#prob)\n",
    "* [Algorithmic Analysis](#algo)\n",
    "    * [Clustering](#cls)\n",
    "    * [Dimensionality Reduction](#rid)\n",
    "* [Modellistic Analysis](#model)\n",
    "    * [Seasonal ARIMA](#sarima)\n",
    "    * [Holt-Winters](#holt)\n",
    "    * [Prophet](#prophet)\n",
    "    * [LSTM](#lstm)\n",
    "    * [Forecasting Analysis](#forecast)\n",
    "* [Conclusion](#end)\n",
    "* [References](#ref)"
   ]
  },
  {
   "cell_type": "markdown",
   "id": "459d76b2",
   "metadata": {},
   "source": [
    "<a class=\"anchor\" id=\"intro\"></a>\n",
    "## Introduction "
   ]
  },
  {
   "cell_type": "markdown",
   "id": "a47e2739",
   "metadata": {},
   "source": [
    "<a class=\"anchor\" id=\"domain\"></a>\n",
    "### Interest Domain"
   ]
  },
  {
   "cell_type": "markdown",
   "id": "ba9b1c6d",
   "metadata": {},
   "source": [
    "<a class=\"anchor\" id=\"goal\"></a>\n",
    "### Project Goal"
   ]
  },
  {
   "cell_type": "markdown",
   "id": "2b3dc661",
   "metadata": {},
   "source": [
    "<a class=\"anchor\" id=\"dataset\"></a>\n",
    "## Dataset"
   ]
  },
  {
   "cell_type": "markdown",
   "id": "4f21669f",
   "metadata": {},
   "source": [
    "<a class=\"anchor\" id=\"source\"></a>\n",
    "### Data Source\n"
   ]
  },
  {
   "cell_type": "markdown",
   "id": "c3887c93",
   "metadata": {},
   "source": [
    "<a class=\"anchor\" id=\"descr\"></a> \n",
    "### Data Description\n"
   ]
  },
  {
   "cell_type": "markdown",
   "id": "106bcc22",
   "metadata": {},
   "source": [
    "<a class=\"anchor\" id=\"stats_an\"></a> \n",
    "## Statistical Analysis \n"
   ]
  },
  {
   "cell_type": "markdown",
   "id": "9166dc24",
   "metadata": {},
   "source": [
    "<a class=\"anchor\" id=\"view\"></a>\n",
    "### Data Visualization\n"
   ]
  },
  {
   "cell_type": "markdown",
   "id": "3a4cb006",
   "metadata": {},
   "source": [
    "<a class=\"anchor\" id=\"ins\"></a>\n",
    "### Data Insights\n"
   ]
  },
  {
   "cell_type": "markdown",
   "id": "7cde95d6",
   "metadata": {},
   "source": [
    "<a class=\"anchor\" id=\"prob\"></a>\n",
    "## Probabilistic Analysis\n"
   ]
  },
  {
   "cell_type": "markdown",
   "id": "e7e54104",
   "metadata": {},
   "source": [
    "<a class=\"anchor\" id=\"algo\"></a>\n",
    "## Algorithmic Analysis\n"
   ]
  },
  {
   "cell_type": "markdown",
   "id": "f6d63d1a",
   "metadata": {},
   "source": [
    "<a class=\"anchor\" id=\"cls\"></a>\n",
    "### Clustering\n"
   ]
  },
  {
   "cell_type": "markdown",
   "id": "bb63bd55",
   "metadata": {},
   "source": [
    "<a class=\"anchor\" id=\"rid\"></a>\n",
    "### Dimensionality Reduction\n"
   ]
  },
  {
   "cell_type": "markdown",
   "id": "316d37cb",
   "metadata": {},
   "source": [
    "<a class=\"anchor\" id=\"model\"></a>\n",
    "## Modellistic Analysis"
   ]
  },
  {
   "cell_type": "markdown",
   "id": "33800d3e",
   "metadata": {},
   "source": [
    "<a class=\"anchor\" id=\"sarima\"></a>\n",
    "### Seasonal ARIMA\n"
   ]
  },
  {
   "cell_type": "markdown",
   "id": "5048875e",
   "metadata": {},
   "source": [
    "<a class=\"anchor\" id=\"holt\"></a>\n",
    "### Holt-Winters\n"
   ]
  },
  {
   "cell_type": "markdown",
   "id": "fe414362",
   "metadata": {},
   "source": [
    "<a class=\"anchor\" id=\"prophet\"></a>\n",
    "### Prophet\n"
   ]
  },
  {
   "cell_type": "markdown",
   "id": "c106e118",
   "metadata": {},
   "source": [
    "<a class=\"anchor\" id=\"lstm\"></a>\n",
    "### LSTM\n"
   ]
  },
  {
   "cell_type": "markdown",
   "id": "826709a4",
   "metadata": {},
   "source": [
    "<a class=\"anchor\" id=\"forecast\"></a>\n",
    "### Forecasting Analysis\n"
   ]
  },
  {
   "cell_type": "markdown",
   "id": "7cb6dcd0",
   "metadata": {},
   "source": [
    "<a class=\"anchor\" id=\"end\"></a>\n",
    "## Conclusion\n"
   ]
  },
  {
   "cell_type": "markdown",
   "id": "51fcf5ff",
   "metadata": {},
   "source": [
    "<a class=\"anchor\" id=\"ref\"></a>\n",
    "## References\n"
   ]
  },
  {
   "cell_type": "markdown",
   "id": "56f1456f",
   "metadata": {},
   "source": [
    "- [[1]](https://www.wiley.com/en-us/Time+Series+Analysis+and+Forecasting+by+Example-p-9780470540640) Bisgaard, Kulahci - Time Series Analysis and Forecasting by Example (First Edition)\n",
    "- [[2]](https://www.springer.com/gp/book/9783319298528) Brockwell, Davis - Introduction to Time Series and Forecasting (Third Edition)\n",
    "- [[3]](https://peerj.com/preprints/3190.pdf) Taylor et. al. (Facebook Research) - Forecasting at Scale\n",
    "- [[4]](https://datahub.io/core/s-and-p-500#data-cli) Standard and Poor's (S&P) 500 Index Data\n",
    "- [[5]](https://www.scipy.org/) SciPy, python-based ecosystem for mathematics, science, and engineering\n",
    "- [[6]](https://facebookresearch.github.io/Kats/) Kats, one stop shop for time series analysis in Python"
   ]
  }
 ],
 "metadata": {
  "kernelspec": {
   "display_name": "Python 3",
   "language": "python",
   "name": "python3"
  },
  "language_info": {
   "codemirror_mode": {
    "name": "ipython",
    "version": 3
   },
   "file_extension": ".py",
   "mimetype": "text/x-python",
   "name": "python",
   "nbconvert_exporter": "python",
   "pygments_lexer": "ipython3",
   "version": "3.7.10"
  }
 },
 "nbformat": 4,
 "nbformat_minor": 5
}
