{
 "cells": [
  {
   "cell_type": "markdown",
   "id": "811d8017",
   "metadata": {},
   "source": [
    "<img src=\"data/project_logo.png\" alt=\"Project Logo\" width=\"500\" height=\"178\" align=\"left\">"
   ]
  },
  {
   "cell_type": "markdown",
   "id": "ccb511aa",
   "metadata": {},
   "source": [
    "<br>\n",
    "<b>-> Author: Rosario Scalia   <br>\n",
    "-> Matriculation Number: 1000008648 "
   ]
  },
  {
   "cell_type": "markdown",
   "id": "a3f0b566",
   "metadata": {},
   "source": [
    "## Table of Contents"
   ]
  },
  {
   "cell_type": "markdown",
   "id": "e826db74",
   "metadata": {},
   "source": [
    "* [Introduction](#intro)\n",
    "    * [Interest Domain](#domain)\n",
    "    * [Project Goal](#goal)\n",
    "* [Dataset](#dataset)\n",
    "    * [Data Source and Description](#data)\n",
    "* [Exploratory Data Analysis](#stats_an)\n",
    "    * [Descriptive Analysis](#des)\n",
    "    * [Time Series Decomposition](#dec)\n",
    "    * [Data Visualization](#view)\n",
    "    * [Stationary Analysis](#stat)\n",
    "    * [Outlier Detection](#out)\n",
    "    * [Changepoints Detection](#ch)\n",
    "* [Forecast Experiments](#fc)\n",
    "    * [Seasonal ARIMA](#sarima)\n",
    "    * [Holt-Winters](#holt)\n",
    "    * [Prophet](#prophet)\n",
    "    * [Models Evaluation](#eval)\n",
    "    * [Experiments](#exp)\n",
    "* [Classification Experiments](#cls)\n",
    "    * [SP500 Classification](#cls_sp)\n",
    "    * [Mixture Dataset Classification](#cls_mix)\n",
    "* [Conclusion](#end)\n",
    "* [References](#ref)"
   ]
  },
  {
   "cell_type": "markdown",
   "id": "459d76b2",
   "metadata": {},
   "source": [
    "<a class=\"anchor\" id=\"intro\"></a>\n",
    "## Introduction "
   ]
  },
  {
   "cell_type": "markdown",
   "id": "a47e2739",
   "metadata": {},
   "source": [
    "<a class=\"anchor\" id=\"domain\"></a>\n",
    "### Interest Domain"
   ]
  },
  {
   "cell_type": "markdown",
   "id": "0e9f5e5a",
   "metadata": {},
   "source": [
    "Time Series are an important class of data to analyze nowadays.\n",
    "\n",
    "This kind of data can give useful insights in a wide spectrum of fields in order to understand what is the current and future behaviour of the studied system.\n",
    "\n",
    "An important field related to Time Series are Finance.\n",
    "\n",
    "In this scenario, it is crucial to understand and guess the trend of for example a Stock Market.\n",
    "\n",
    "Knowing this insights provide several benefits like:\n",
    "1. Choose the right investment with more security\n",
    "2. Sell Stocks of a Company in a waning phase before company go in waning phase\n",
    "3. Predict economical side-effects due to Stock Market Movements\n",
    "4. Predict future value of a currency\n",
    "\n",
    "An important Financial Index nowedays is the *Standard & Poor 500 (S&P)* index.\n",
    "\n",
    "S&P is a is a free-float, capitalization-weighted index of the top 500 publicly listed stocks in the US (top 500 by market cap).\n",
    "\n",
    "Having insights on this index can provide useful information about the trend of American Economy and ,for political reason, of the world economy."
   ]
  },
  {
   "cell_type": "markdown",
   "id": "ba9b1c6d",
   "metadata": {},
   "source": [
    "<a class=\"anchor\" id=\"goal\"></a>\n",
    "### Project Goal"
   ]
  },
  {
   "cell_type": "markdown",
   "id": "4317c19d",
   "metadata": {},
   "source": [
    "The aim of this project is to analyze a Time Series dataset about some financial information (S&P index included) along the history.\n",
    "\n",
    "The goals of analysis are extract meaningful insights from data and forecasting future S&P 500 Indexes.\n",
    "\n",
    "Another sub-goal of this project is to understand base concepts for analyzing a Time Series dataset."
   ]
  },
  {
   "cell_type": "markdown",
   "id": "2b3dc661",
   "metadata": {},
   "source": [
    "<a class=\"anchor\" id=\"dataset\"></a>\n",
    "## Dataset"
   ]
  },
  {
   "cell_type": "markdown",
   "id": "c3887c93",
   "metadata": {},
   "source": [
    "<a class=\"anchor\" id=\"data\"></a> \n",
    "### Data Source and Description\n"
   ]
  },
  {
   "cell_type": "markdown",
   "id": "80fa3d3c",
   "metadata": {},
   "source": [
    "Analyzed data was released in 2018 by *Data Hub* [[7]](#sp).\n",
    "\n",
    "Topic of dataset is Finance, in particular data lake contains several measurements about top 500 leading publicly traded companies in the U.S.\n",
    "\n",
    "Dataset is a Multi-Variate time series one having 1,769 data points.\n",
    "\n",
    "Data was collected on monthly basis by *Robert Shiller* and ranges from 1871 to 2018.\n",
    "\n",
    "Below, we report a brief note of the author about the procedure of data collection:\n",
    "<br/><br/>\n",
    "\n",
    "> Stock market data used in my book, Irrational Exuberance [Princeton University Press 2000, Broadway Books 2001, 2nd ed., 2005] are available for download, Excel file (xls). This data set consists of monthly stock price, dividends, and earnings data and the consumer price index (to allow conversion to real values), all starting January 1871.\n",
    ">\n",
    "> The price, dividend, and earnings series are from the same sources as described in Chapter 26 of my earlier book (Market Volatility [Cambridge, MA: MIT Press, 1989]), although now I use monthly data, rather than annual data. Monthly dividend and earnings data are computed from the S&P four-quarter totals for the quarter since 1926, with linear interpolation to monthly figures. Dividend and earnings data before 1926 are from Cowles and associates (Common Stock Indexes, 2nd ed. [Bloomington, Ind.: Principia Press, 1939]), interpolated from annual data.\n",
    ">\n",
    "> Stock price data are monthly averages of daily closing prices through January 2000, the last month available as this book goes to press. The CPI-U (Consumer Price Index-All Urban Consumers) published by the U.S. Bureau of Labor Statistics begins in 1913; for years before 1913 1 spliced to the CPI Warren and Pearson’s price index, by multiplying it by the ratio of the indexes in January 1913. December 1999 and January 2000 values for the CPI-U are extrapolated. See George F. Warren and Frank A. Pearson, Gold and Prices (New York: John Wiley and Sons, 1935). Data are from their Table 1, pp. 11–14.\n",
    ">\n",
    "> For the Plots, I have multiplied the inflation-corrected series by a constant so that their value in january 2000 >equals their nominal value, i.e., so that all prices are effectively in January 2000 dollars.\n",
    "> \n",
    "> \n",
    "> \n",
    "> Robert Shiller\n",
    "\n",
    "<br/><br/>\n",
    "Features of dataset is listed below:\n",
    "\n",
    "\n",
    "| **Date**        | **SP500**       | **Dividend**    | **Earnings**    | **Consumer Price Index** | **Long Interest Rate** | **Real Price** | **Real Dividend**  | **Real Earnings** | **PE10**        | \n",
    "| ----------- | ----------- | ----------- | ----------- | ----------- | -----------    | -----------        | ----------- | -----------  | ----------- |\n",
    "| Date      | Number       | Number       | Number       | Number          | Number          | Number              | Number       | Number        | Number       |\n",
    "\n",
    "<br/><br/>\n",
    "- **SP500**, The S&P 500 Index, or Standard & Poor's 500 Index, is a market-capitalization-weighted index of 500 leading publicly traded companies in the U.S. \n",
    "\n",
    "    It is not an exact list of the top 500 U.S. companies by market cap because there are other criteria to be included in the index. \n",
    "    \n",
    "    The index is regarded as one of the best gauges of large-cap U.S. equities. \n",
    "    \n",
    "    Another common U.S. stock market benchmark is the Dow Jones Industrial Average (DJIA).\n",
    "    \n",
    "    The S&P is a float-weighted index, meaning the market capitalizations of the companies in the index are adjusted by the number of shares available for public trading.\n",
    "    \n",
    "    Because it is widely considered the best gauge of large-cap U.S. equities, many funds are designed to track the performance of the S&P.\n",
    "\n",
    "\n",
    "- **Dividend**, A dividend is the distribution of some of a company's earnings to a class of its shareholders, as determined by the company's board of directors. \n",
    "\n",
    "    Common shareholders of dividend-paying companies are typically eligible as long as they own the stock before the ex-dividend date.\n",
    "\n",
    "    Dividends may be paid out as cash or in the form of additional stock.\n",
    "\n",
    "    Dividends are payments made by publicly listed companies as a reward to investors for putting their money into the venture.\n",
    "    \n",
    "    \n",
    "- **Earnings**, A company's earnings are its after-tax net income. \n",
    "\n",
    "    This is the company's bottom line or its profits.\n",
    "\n",
    "    Earnings are perhaps the single most important and most closely studied number in a company's financial statements. \n",
    "    \n",
    "    It shows a company's real profitability compared to the analyst estimates, its own historical performance, and the earnings of its competitors and industry peers.\n",
    "\n",
    "    Earnings are the main determinant of a public company's share price because they can be used in only two ways: They can be invested in the business to increase its earnings in the future, or they can be used to reward stockholders with dividends.\n",
    "    \n",
    " \n",
    "- **Consumer Price Index (CPI)**, The Consumer Price Index (CPI) is a measure that examines the weighted average of prices of a basket of consumer goods and services, such as transportation, food, and medical care. \n",
    "\n",
    "    It is calculated by taking price changes for each item in the predetermined basket of goods and averaging them. \n",
    "    \n",
    "    Changes in the CPI are used to assess price changes associated with the cost of living.\n",
    "\n",
    "    The CPI is one of the most frequently used statistics for identifying periods of inflation or deflation. \n",
    "    \n",
    "    \n",
    "- **Long Interest Rate**, The interest rate is the amount a lender charges a borrower and is a percentage of the principal—the amount loaned. \n",
    "\n",
    "    In current scenario, it was employed interest rate of 10 year maturity (period after debtor has to return capital to creditor) about U.S. Government Bonds.\n",
    "    \n",
    "    \n",
    "- **Real Price**, real price of a company stocks is *Nominal Price* filtered respect inflation and other market side-effects.\n",
    "    \n",
    "    \n",
    "- **Real Dividend**, real dividend of a company is *Nominal Dividend* filtered respect inflation and other market side-effects.\n",
    "    \n",
    "    \n",
    "- **Real Earnings**, real earnings of a company is *Nominal Dividend* filtered respect inflation and other market side-effects.\n",
    "    \n",
    "   \n",
    "- **PE10**, The P/E 10 (or CAPE) ratio is a valuation measure that uses real earnings per share (EPS) over a 10-year period to smooth out fluctuations in corporate profits that occur over different periods of a business cycle.\n",
    "\n",
    "In this work, we focus on analyzing Standard & Poor historical data."
   ]
  },
  {
   "cell_type": "markdown",
   "id": "106bcc22",
   "metadata": {},
   "source": [
    "<a class=\"anchor\" id=\"stats_an\"></a> \n",
    "## Exploratory Data Analysis\n"
   ]
  },
  {
   "cell_type": "markdown",
   "id": "af82481e",
   "metadata": {},
   "source": [
    "<a class=\"anchor\" id=\"des\"></a>\n",
    "### Descriptive Analysis"
   ]
  },
  {
   "cell_type": "code",
   "execution_count": 3,
   "id": "c1d7f5c7",
   "metadata": {},
   "outputs": [],
   "source": [
    "#Import needed libraries\n",
    "from os.path                                import join\n",
    "from os                                     import listdir\n",
    "from typing                                 import List\n",
    "from pprint                                 import pprint\n",
    "from functools                              import reduce\n",
    "\n",
    "\n",
    "import pandas                               as pd\n",
    "from pandas                                 import Series,DataFrame\n",
    "from pandas.plotting                        import lag_plot\n",
    "\n",
    "\n",
    "import numpy                                as np\n",
    "from numpy                                  import ndarray\n",
    "\n",
    "\n",
    "import matplotlib.pyplot                    as plt\n",
    "\n",
    "\n",
    "from scipy.stats                            import powerlaw, expon , gamma, t, chisquare, norm\n",
    "from scipy.fftpack                          import fft,fftfreq\n",
    "\n",
    "\n",
    "from statsmodels.graphics.gofplots          import qqplot\n",
    "from statsmodels.graphics.tsaplots          import plot_acf\n",
    "from statsmodels.tsa.stattools              import adfuller\n",
    "\n",
    "\n",
    "from kats.consts                            import TimeSeriesData, SearchMethodEnum, TimeSeriesData\n",
    "from kats.utils.decomposition               import TimeSeriesDecomposition\n",
    "from kats.detectors.outlier                 import OutlierDetector\n",
    "from kats.detectors.robust_stat_detection   import RobustStatDetector\n",
    "from kats.detectors.seasonality             import ACFDetector,FFTDetector\n",
    "import kats.utils.time_series_parameter_tuning as tpt\n",
    "\n",
    "from kats.models.holtwinters                import HoltWintersModel , HoltWintersParams\n",
    "from kats.models.sarima                     import SARIMAModel,SARIMAParams\n",
    "from kats.models.prophet                    import ProphetModel, ProphetParams\n",
    "from kats.utils.backtesters                 import BackTesterSimple, BackTesterRollingWindow , BackTesterExpandingWindow\n",
    "\n",
    "\n",
    "from sklearn.cluster                        import KMeans\n",
    "from sklearn.svm                            import SVC\n",
    "from sklearn.naive_bayes                    import GaussianNB\n",
    "from sklearn.linear_model                   import LogisticRegression\n",
    "from sklearn.tree                           import DecisionTreeClassifier \n",
    "from sklearn.ensemble                       import RandomForestClassifier\n",
    "from sklearn.model_selection                import train_test_split\n",
    "from sklearn.metrics                        import precision_score, recall_score , accuracy_score, confusion_matrix , ConfusionMatrixDisplay\n",
    "\n",
    "\n",
    "import warnings\n",
    "warnings.simplefilter(action='ignore')"
   ]
  },
  {
   "cell_type": "code",
   "execution_count": 4,
   "id": "8c89cb24",
   "metadata": {},
   "outputs": [],
   "source": [
    "#Program Costants\n",
    "DATA_FILE_NAME:str      = \"data_csv.csv\"\n",
    "DATA_PATH:str           = \"data\"\n",
    "DATASET_PATH:str        = join(DATA_PATH , \"s-and-p-500_zip\" , \"data\" , DATA_FILE_NAME)\n",
    "SEED:int                = 123"
   ]
  },
  {
   "cell_type": "code",
   "execution_count": 5,
   "id": "ec6dcf72",
   "metadata": {},
   "outputs": [],
   "source": [
    "#Setup Seed\n",
    "np.random.seed(123)"
   ]
  },
  {
   "cell_type": "code",
   "execution_count": 6,
   "id": "4bf269fb",
   "metadata": {},
   "outputs": [],
   "source": [
    "#Load Dataset from disk\n",
    "try:\n",
    "\n",
    "    #Wrapping SP500 Data in DataFrame Object\n",
    "    full_dataset:DataFrame          = pd.read_csv(DATASET_PATH)\n",
    "    sp_df:DataFrame                 = full_dataset[ [\"Date\",\"SP500\"] ]\n",
    "    sp_df:DataFrame                 = sp_df.rename({\"Date\":\"time\"} ,axis='columns')\n",
    "\n",
    "\n",
    "    #Wrapping SP500 Data in Series Object\n",
    "    sp:Series                       = Series(data=sp_df['SP500'].to_numpy() , index= pd.to_datetime( sp_df['time'] ) )\n",
    "\n",
    "    \n",
    "    #Wrapping SP500 Data in TimeSeries Object\n",
    "    sp_series:TimeSeriesData        = TimeSeriesData(time=sp_df.time, value=sp_df.SP500)\n",
    "\n",
    "\n",
    "    #Wrapping SP500 Data in Numpy Object\n",
    "    sp_numpy:ndarray                = sp.to_numpy()\n",
    "    sp_numpy:ndarray                = sp_numpy.astype('float64')\n",
    "except Exception as exp:\n",
    "    print(\"[ERROR] Unable to load dataset \\n-> Reason: {}\".format(exp))"
   ]
  },
  {
   "cell_type": "code",
   "execution_count": 7,
   "id": "d126c915",
   "metadata": {},
   "outputs": [
    {
     "data": {
      "text/plain": [
       "count    1768.000000\n",
       "mean      258.374570\n",
       "std       514.103382\n",
       "min         2.730000\n",
       "25%         7.737500\n",
       "50%        16.335000\n",
       "75%       122.525000\n",
       "max      2789.800000\n",
       "dtype: float64"
      ]
     },
     "execution_count": 7,
     "metadata": {},
     "output_type": "execute_result"
    }
   ],
   "source": [
    "#Basic Statistical Description of data\n",
    "sp.describe()"
   ]
  },
  {
   "cell_type": "code",
   "execution_count": 8,
   "id": "c0877182",
   "metadata": {},
   "outputs": [
    {
     "data": {
      "image/png": "[encoded data removed]",
      "text/plain": [
       "<Figure size 720x432 with 1 Axes>"
      ]
     },
     "metadata": {},
     "output_type": "display_data"
    }
   ],
   "source": [
    "#Plot Time Series Data\n",
    "sp_series.plot(cols=['SP500'])\n",
    "plt.show()"
   ]
  },
  {
   "cell_type": "markdown",
   "id": "1c1256ec",
   "metadata": {},
   "source": [
    "From plot, we can see that series has a long period of stability between 1880-1975; after this period series has a trend phenomenon."
   ]
  },
  {
   "cell_type": "code",
   "execution_count": 9,
   "id": "f4c89882",
   "metadata": {},
   "outputs": [
    {
     "data": {
      "image/png": "[encoded data removed]",
      "text/plain": [
       "<Figure size 432x288 with 1 Axes>"
      ]
     },
     "metadata": {
      "needs_background": "light"
     },
     "output_type": "display_data"
    }
   ],
   "source": [
    "#Box-Plot SP500\n",
    "sp_df[['SP500']].boxplot()\n",
    "plt.show()"
   ]
  },
  {
   "cell_type": "code",
   "execution_count": 10,
   "id": "0fce7c34",
   "metadata": {},
   "outputs": [
    {
     "name": "stdout",
     "output_type": "stream",
     "text": [
      "[!] Number of Possible Outliers: 353\n",
      "[!] Percentage of Possible Outlier for Standard & Poort Index: 19 %\n"
     ]
    }
   ],
   "source": [
    "#Box-Plot Analysis without possible outliers\n",
    "sp_df_data                  = sp_df['SP500']\n",
    "q1,_,q3                     = sp_df_data.quantile([1/4,2/4,3/4])\n",
    "outlier_thr:float           = q3+1.5*(q3-q1)\n",
    "\n",
    "n_possible_outlier:int      = len( sp_df_data[ sp_df_data > outlier_thr  ] )\n",
    "print(\"[!] Number of Possible Outliers: {}\".format(n_possible_outlier))\n",
    "total_size:int              = len(sp_df)\n",
    "perc_possible_outlier:int   = int(n_possible_outlier/total_size*100)\n",
    "    \n",
    "print(\"[!] Percentage of Possible Outlier for Standard & Poort Index: {} %\".format(perc_possible_outlier))"
   ]
  },
  {
   "cell_type": "markdown",
   "id": "0be969cd",
   "metadata": {},
   "source": [
    "Showed Box-plot underlines a compact population where first quantile is near to median.\n",
    "\n",
    "Furthermore, there is 19 % of sample out-of-scale; these are probably outliers.\n",
    "\n",
    "Nevertheless, we are dealing with temporale data; for this reason we need a more sophisticated procedure for detecting outliers."
   ]
  },
  {
   "cell_type": "code",
   "execution_count": 11,
   "id": "b5b3827e",
   "metadata": {},
   "outputs": [
    {
     "data": {
      "text/plain": [
       "SP500    2.39734\n",
       "dtype: float64"
      ]
     },
     "execution_count": 11,
     "metadata": {},
     "output_type": "execute_result"
    }
   ],
   "source": [
    "#Skewness\n",
    "sp_df.skew()"
   ]
  },
  {
   "cell_type": "markdown",
   "id": "39624e71",
   "metadata": {},
   "source": [
    "Skew for Standard & Poor index is greater than zero, this means that distribution is asymetric to left."
   ]
  },
  {
   "cell_type": "code",
   "execution_count": 12,
   "id": "08705ebe",
   "metadata": {},
   "outputs": [
    {
     "data": {
      "text/plain": [
       "SP500    5.214177\n",
       "dtype: float64"
      ]
     },
     "execution_count": 12,
     "metadata": {},
     "output_type": "execute_result"
    }
   ],
   "source": [
    "#Kurtosi\n",
    "sp_df.kurtosis()"
   ]
  },
  {
   "cell_type": "markdown",
   "id": "8a741b1c",
   "metadata": {},
   "source": [
    "Kurtosi indexes tells us that SP500 series is leptocurtica, more sharp than a Gaussian."
   ]
  },
  {
   "cell_type": "code",
   "execution_count": 13,
   "id": "7baf778b",
   "metadata": {},
   "outputs": [
    {
     "data": {
      "image/png": "[encoded data removed]",
      "text/plain": [
       "<Figure size 432x288 with 1 Axes>"
      ]
     },
     "metadata": {
      "needs_background": "light"
     },
     "output_type": "display_data"
    }
   ],
   "source": [
    "#Histogram\n",
    "sp.hist(bins=11)\n",
    "plt.show()"
   ]
  },
  {
   "cell_type": "code",
   "execution_count": 14,
   "id": "72035d2c",
   "metadata": {},
   "outputs": [
    {
     "data": {
      "image/png": "[encoded data removed]",
      "text/plain": [
       "<Figure size 432x288 with 1 Axes>"
      ]
     },
     "metadata": {
      "needs_background": "light"
     },
     "output_type": "display_data"
    }
   ],
   "source": [
    "sp.plot(kind='kde')\n",
    "plt.show()"
   ]
  },
  {
   "cell_type": "code",
   "execution_count": 15,
   "id": "3635f648",
   "metadata": {},
   "outputs": [],
   "source": [
    "def chi_square_test(pDistrib:object, pSample:ndarray , pLabel:str , pNBin:int=11) -> None:\n",
    "    \"\"\"\n",
    "    # **chi_square_test**\n",
    "\n",
    "    Chi-Square Test Function\n",
    "\n",
    "    Args:\n",
    "        pDistrib    (object)                    : Hypothized Distribution Object\n",
    "        pSample     (ndarray)                   : Sample\n",
    "        pLabel      (str)                       : Hypothized Distribution Name\n",
    "        pNBin       (int        | DEF = 11)     : number of test split. Defaults to 11.\n",
    "    \"\"\"\n",
    "\n",
    "    # [1] Fit Data to Hyphotized Disttrib\n",
    "    distrib_params:tuple        = pDistrib.fit(pSample)\n",
    "    distrib_f:object            = pDistrib(*distrib_params)\n",
    "\n",
    "    # [2] Compute Test Suddivisions\n",
    "    num_par:int                 = len(distrib_params)\n",
    "    edges:ndarray               = np.linspace(distrib_f.ppf(0.01),distrib_f.ppf(0.99),pNBin)\n",
    "\n",
    "    # [3] Eval Theoretical Freqs\n",
    "    cumulative_probs:ndarray    = distrib_f.cdf(edges)\n",
    "    probs:ndarray               = np.diff(cumulative_probs)\n",
    "    th_fr:ndarray               = probs*len(pSample)\n",
    "\n",
    "    # [4] Eval Empiric Freq\n",
    "    emp_fr, _                   = np.histogram(pSample,edges)\n",
    "\n",
    "    # [5] Check for prerequisites of the Test\n",
    "    if th_fr.min()>=5 or emp_fr.min()>=5:\n",
    "        print(\"[!] Chi-Square Test assuming {} Theoretical Distribution \\n-> Unable to Perform Test for poor number of samples (a.k.a. freq < 5)\".format( pLabel))\n",
    "        return\n",
    "\n",
    "    # [6] Executes Test\n",
    "    stat , pvalue               = chisquare(emp_fr,th_fr,ddof=num_par)\n",
    "\n",
    "    print(\"[!] Chi-Square Test assuming {} Theoretical Distribution \\n-> Statistic: {} \\n-> p-value: {} \\n-> N Bins: {}\".format( pLabel ,stat,pvalue , pNBin))\n"
   ]
  },
  {
   "cell_type": "code",
   "execution_count": 16,
   "id": "bf06f4b7",
   "metadata": {},
   "outputs": [
    {
     "name": "stdout",
     "output_type": "stream",
     "text": [
      "[!] Chi-Square Test assuming Normal Theoretical Distribution \n",
      "-> Unable to Perform Test for poor number of samples (a.k.a. freq < 5)\n"
     ]
    },
    {
     "data": {
      "image/png": "[encoded data removed]",
      "text/plain": [
       "<Figure size 432x288 with 1 Axes>"
      ]
     },
     "metadata": {
      "needs_background": "light"
     },
     "output_type": "display_data"
    }
   ],
   "source": [
    "chi_square_test(norm , sp_numpy , \"Normal\" )\n",
    "\n",
    "qqplot(sp_numpy, fit=True, line='45', dist=norm)\n",
    "plt.title(\"Q-Q Plot Normal Distrib\")\n",
    "plt.show()"
   ]
  },
  {
   "cell_type": "code",
   "execution_count": 17,
   "id": "99e9ccf9",
   "metadata": {},
   "outputs": [
    {
     "name": "stdout",
     "output_type": "stream",
     "text": [
      "[!] Chi-Square Test assuming Power-Law Theoretical Distribution \n",
      "-> Unable to Perform Test for poor number of samples (a.k.a. freq < 5)\n"
     ]
    },
    {
     "data": {
      "image/png": "[encoded data removed]",
      "text/plain": [
       "<Figure size 432x288 with 1 Axes>"
      ]
     },
     "metadata": {
      "needs_background": "light"
     },
     "output_type": "display_data"
    }
   ],
   "source": [
    "chi_square_test(powerlaw , sp_numpy , \"Power-Law\" )\n",
    "\n",
    "qqplot(sp_numpy, fit=True, line='45', dist=powerlaw)\n",
    "plt.title(\"Q-Q Plot Power-Law Distrib\")\n",
    "plt.show()"
   ]
  },
  {
   "cell_type": "code",
   "execution_count": 18,
   "id": "0a7db5af",
   "metadata": {},
   "outputs": [
    {
     "name": "stdout",
     "output_type": "stream",
     "text": [
      "[!] Chi-Square Test assuming Exponential Theoretical Distribution \n",
      "-> Unable to Perform Test for poor number of samples (a.k.a. freq < 5)\n"
     ]
    },
    {
     "data": {
      "image/png": "[encoded data removed]",
      "text/plain": [
       "<Figure size 432x288 with 1 Axes>"
      ]
     },
     "metadata": {
      "needs_background": "light"
     },
     "output_type": "display_data"
    }
   ],
   "source": [
    "chi_square_test(expon , sp_numpy , \"Exponential\" )\n",
    "qqplot(sp_numpy, fit=True, line='45', dist=expon)\n",
    "plt.title(\"Q-Q Plot Exponential Distrib\")\n",
    "plt.show()"
   ]
  },
  {
   "cell_type": "code",
   "execution_count": 19,
   "id": "bc1878b8",
   "metadata": {},
   "outputs": [
    {
     "name": "stdout",
     "output_type": "stream",
     "text": [
      "[!] Chi-Square Test assuming Gamma Theoretical Distribution \n",
      "-> Unable to Perform Test for poor number of samples (a.k.a. freq < 5)\n"
     ]
    },
    {
     "data": {
      "image/png": "[encoded data removed]",
      "text/plain": [
       "<Figure size 432x288 with 1 Axes>"
      ]
     },
     "metadata": {
      "needs_background": "light"
     },
     "output_type": "display_data"
    }
   ],
   "source": [
    "chi_square_test(gamma , sp_numpy , \"Gamma\" )\n",
    "\n",
    "qqplot(sp_numpy, fit=True, line='45', dist=gamma)\n",
    "plt.title(\"Q-Q Plot Gamma Distrib\")\n",
    "plt.show()"
   ]
  },
  {
   "cell_type": "code",
   "execution_count": 20,
   "id": "77703dce",
   "metadata": {},
   "outputs": [
    {
     "name": "stdout",
     "output_type": "stream",
     "text": [
      "[!] Chi-Square Test assuming T Theoretical Distribution \n",
      "-> Statistic: 480.09331828813526 \n",
      "-> p-value: 1.6301975888329255e-100 \n",
      "-> N Bins: 11\n"
     ]
    },
    {
     "data": {
      "image/png": "[encoded data removed]",
      "text/plain": [
       "<Figure size 432x288 with 1 Axes>"
      ]
     },
     "metadata": {
      "needs_background": "light"
     },
     "output_type": "display_data"
    }
   ],
   "source": [
    "chi_square_test(t , sp_numpy , \"T\" )\n",
    "\n",
    "qqplot(sp_numpy, fit=True, line='45', dist=t)\n",
    "plt.title(\"Q-Q Plot T-Student Distrib\")\n",
    "plt.show()"
   ]
  },
  {
   "cell_type": "markdown",
   "id": "08457bee",
   "metadata": {},
   "source": [
    "Showed Chi-Square tests underlines a difficult to assign a well known distribution to data; this is caused by the temporal relation between data."
   ]
  },
  {
   "cell_type": "markdown",
   "id": "d3b3887d",
   "metadata": {},
   "source": [
    "<a class=\"anchor\" id=\"dec\"></a>\n",
    "### Time Series Decomposition"
   ]
  },
  {
   "cell_type": "markdown",
   "id": "789ec99f",
   "metadata": {},
   "source": [
    "A useful abstraction for selecting forecasting methods is to break a time series down into systematic and unsystematic components.\n",
    "\n",
    "- Systematic: Components of the time series that have consistency or recurrence and can be described and modeled.\n",
    "- Non-Systematic: Components of the time series that cannot be directly modeled.\n",
    "\n",
    "A given time series is thought to consist of three systematic components including level, trend, seasonality, and one non-systematic component called noise.\n",
    "\n",
    "These components are defined as follows:\n",
    "\n",
    "- Level: The average value in the series.\n",
    "- Trend: The increasing or decreasing value in the series.\n",
    "- Seasonality: The repeating short-term cycle in the series.\n",
    "- Noise: The random variation in the series.\n",
    "\n",
    "A series is thought to be an aggregate or combination of these four components.\n",
    "\n",
    "All series have a level and noise. The trend and seasonality components are optional.\n",
    "\n",
    "It is helpful to think of the components as combining either additively or multiplicatively.\n",
    "\n",
    "An additive model suggests that the components are added together as follows:\n",
    "\n",
    "$y(t) \\,=\\, Level + Trend + Seasonality + Noise$\n",
    "\n",
    "An additive model is linear where changes over time are consistently made by the same amount.\n",
    "\n",
    "A linear trend is a straight line.\n",
    "\n",
    "A linear seasonality has the same frequency (width of cycles) and amplitude (height of cycles).\n",
    "\n",
    "A multiplicative model suggests that the components are multiplied together as follows:\n",
    "\n",
    "$y(t) \\,=\\, Level \\times Trend \\times Seasonality \\times Noise$\n",
    "\n",
    "A multiplicative model is nonlinear, such as quadratic or exponential. Changes increase or decrease over time.\n",
    "\n",
    "A nonlinear trend is a curved line.\n",
    "\n",
    "A non-linear seasonality has an increasing or decreasing frequency and/or amplitude over time."
   ]
  },
  {
   "cell_type": "code",
   "execution_count": 21,
   "id": "06852e54",
   "metadata": {},
   "outputs": [
    {
     "data": {
      "image/png": "[encoded data removed]",
      "text/plain": [
       "<Figure size 1440x720 with 4 Axes>"
      ]
     },
     "metadata": {
      "needs_background": "light"
     },
     "output_type": "display_data"
    }
   ],
   "source": [
    "decomposer:TimeSeriesDecomposition = TimeSeriesDecomposition(sp_series)\n",
    "decomposition:dict  = decomposer.decomposer()\n",
    "decomposer.plot()   \n",
    "plt.show()"
   ]
  },
  {
   "cell_type": "markdown",
   "id": "4ab7f07f",
   "metadata": {},
   "source": [
    "Showed decomposition underlines the following facts:\n",
    "\n",
    "1. Series has a strong trend at his end period\n",
    "2. Series has a low seasonal component if any\n",
    "3. Series has a noise component"
   ]
  },
  {
   "cell_type": "code",
   "execution_count": 22,
   "id": "f96ca039",
   "metadata": {},
   "outputs": [
    {
     "name": "stdout",
     "output_type": "stream",
     "text": [
      "{'seasonality_presence': True, 'seasonalities': [3, 4, 5, 19, 34, 43, 53, 71, 82, 83, 91, 94]}\n"
     ]
    },
    {
     "data": {
      "image/png": "[encoded data removed]",
      "text/plain": [
       "<Figure size 432x288 with 1 Axes>"
      ]
     },
     "metadata": {
      "needs_background": "light"
     },
     "output_type": "display_data"
    }
   ],
   "source": [
    "detector        = ACFDetector(sp_series)\n",
    "acf_dt_outcome  = detector.detector(diff=1,alpha = 0.01)\n",
    "print(acf_dt_outcome)\n",
    "detector.plot()"
   ]
  },
  {
   "cell_type": "code",
   "execution_count": 25,
   "id": "c158f97a",
   "metadata": {},
   "outputs": [
    {
     "name": "stdout",
     "output_type": "stream",
     "text": [
      "{'seasonality_presence': False, 'seasonalities': []}\n"
     ]
    }
   ],
   "source": [
    "fft_detect = FFTDetector(sp_series)\n",
    "fft_dt_outcome = fft_detect.detector(sample_spacing=31.0)\n",
    "print(fft_dt_outcome)"
   ]
  },
  {
   "cell_type": "code",
   "execution_count": 27,
   "id": "db0471cd",
   "metadata": {},
   "outputs": [
    {
     "data": {
      "image/png": "[encoded data removed]",
      "text/plain": [
       "<Figure size 432x288 with 1 Axes>"
      ]
     },
     "metadata": {
      "needs_background": "light"
     },
     "output_type": "display_data"
    }
   ],
   "source": [
    "# Plot FFT of Series using Scipy\n",
    "fft_sp_numpy            = fft(sp_numpy)\n",
    "energy_fft_sp_numpy     = abs(fft_sp_numpy)\n",
    "freqs                   = fftfreq(sp_numpy.shape[0],1/31)\n",
    "\n",
    "plt.semilogy(freqs[0:int(freqs.size/2)], energy_fft_sp_numpy[0:int(energy_fft_sp_numpy.size/2)])\n",
    "plt.title(\"SP500 Series Spectrum (FFT)\")\n",
    "plt.xlabel(\"Frequences\")\n",
    "plt.ylabel(\"Energy\")\n",
    "plt.show()"
   ]
  },
  {
   "cell_type": "markdown",
   "id": "8c65952c",
   "metadata": {},
   "source": [
    "Detection of period for Seasonality underlines the following aspects:\n",
    "\n",
    "1. ACF Detector underlines a set of Seasonality Periods\n",
    "2. Fourier Detector (and his Graph) underlines no spikes in corrispondence of ACF Detector seasonality periods; for this reason we concludes that Series doesn't have a predominant Seasonal Component and that ACF Detector outcomes are statistically insignificant."
   ]
  },
  {
   "cell_type": "markdown",
   "id": "4d8e3d49",
   "metadata": {},
   "source": [
    "<a class=\"anchor\" id=\"view\"></a>\n",
    "### Data Visualization"
   ]
  },
  {
   "cell_type": "code",
   "execution_count": 25,
   "id": "9e72470f",
   "metadata": {},
   "outputs": [
    {
     "data": {
      "image/png": "[encoded data removed]",
      "text/plain": [
       "<Figure size 432x288 with 1 Axes>"
      ]
     },
     "metadata": {
      "needs_background": "light"
     },
     "output_type": "display_data"
    }
   ],
   "source": [
    "sp_df_numpy:ndarray \t\t\t= sp_df.to_numpy()\n",
    "sp_list:List[tuple]\t\t\t\t= sp_df_numpy.tolist()\n",
    "annual_data:List[tuple] \t    = list( filter( lambda x: x[0].split(\"-\")[1] == \"01\" , sp_list ) )\n",
    "\n",
    "time_index:List[str]\t\t\t= list( map( lambda x:x[0] , annual_data ) )\n",
    "sp_annual_data:List[float]\t\t= list( map( lambda x:x[1] , annual_data ) )\n",
    "\n",
    "annual_data_series:List[tuple]  = Series(data=sp_annual_data , index=time_index )\n",
    "\n",
    "annual_data_series.plot()\n",
    "plt.xticks(rotation=45)\n",
    "plt.show()"
   ]
  },
  {
   "cell_type": "markdown",
   "id": "2e3e6ac0",
   "metadata": {},
   "source": [
    "Annual Time Series data doesn't show a significant change respect original monthly time series data"
   ]
  },
  {
   "cell_type": "code",
   "execution_count": 26,
   "id": "4caca8b1",
   "metadata": {},
   "outputs": [
    {
     "data": {
      "image/png": "[encoded data removed]",
      "text/plain": [
       "<Figure size 432x288 with 1 Axes>"
      ]
     },
     "metadata": {
      "needs_background": "light"
     },
     "output_type": "display_data"
    },
    {
     "data": {
      "image/png": "[encoded data removed]",
      "text/plain": [
       "<Figure size 432x288 with 1 Axes>"
      ]
     },
     "metadata": {
      "needs_background": "light"
     },
     "output_type": "display_data"
    },
    {
     "data": {
      "image/png": "[encoded data removed]",
      "text/plain": [
       "<Figure size 432x288 with 1 Axes>"
      ]
     },
     "metadata": {
      "needs_background": "light"
     },
     "output_type": "display_data"
    },
    {
     "data": {
      "image/png": "[encoded data removed]",
      "text/plain": [
       "<Figure size 432x288 with 1 Axes>"
      ]
     },
     "metadata": {
      "needs_background": "light"
     },
     "output_type": "display_data"
    },
    {
     "data": {
      "image/png": "[encoded data removed]",
      "text/plain": [
       "<Figure size 432x288 with 1 Axes>"
      ]
     },
     "metadata": {
      "needs_background": "light"
     },
     "output_type": "display_data"
    }
   ],
   "source": [
    "#Lag-Plot\n",
    "lag_plot(sp,lag=1)\n",
    "plt.title(\"Lag 1 Plot\")\n",
    "plt.show()\n",
    "\n",
    "lag_plot(sp,lag=2)\n",
    "plt.title(\"Lag 2 Plot\")\n",
    "plt.show()\n",
    "\n",
    "lag_plot(sp,lag=3)\n",
    "plt.title(\"Lag 3 Plot\")\n",
    "plt.show()\n",
    "\n",
    "lag_plot(sp,lag=4)\n",
    "plt.title(\"Lag 4 Plot\")\n",
    "plt.show()\n",
    "\n",
    "lag_plot(sp,lag=5)\n",
    "plt.title(\"Lag 5 Plot\")\n",
    "plt.show()"
   ]
  },
  {
   "cell_type": "markdown",
   "id": "d88a1deb",
   "metadata": {},
   "source": [
    "Lag plots show a positive correlation up to lag 5 for our Series."
   ]
  },
  {
   "cell_type": "markdown",
   "id": "72d2a95d",
   "metadata": {},
   "source": [
    "<a class=\"anchor\" id=\"stat\"></a>\n",
    "### Stationary Analysis"
   ]
  },
  {
   "cell_type": "markdown",
   "id": "bc854d01",
   "metadata": {},
   "source": [
    "Stationarity of a time series is a very welcome property in order to fit a good Forecast Model.\n",
    "\n",
    "Concern of Stationarity is quite related to Unit Roots of a Stochastic Process (mathematical model behind time series).\n",
    "\n",
    "In probability theory and statistics, a unit root is a feature of some stochastic processes that can cause problems in statistical inference involving time series models. \n",
    "\n",
    "A linear stochastic process has a unit root if 1 is a root of the process's characteristic equation. \n",
    "\n",
    "Such a process is non-stationary but does not always have a trend.\n",
    "\n",
    "If the other roots of the characteristic equation lie inside the unit circle—that is, have a modulus (absolute value) less than one—then the first difference of the process will be stationary; otherwise, the process will need to be differenced multiple times to become stationary.\n",
    "\n",
    "If there are d unit roots, the process will have to be differenced d times in order to make it stationary.\n",
    "\n",
    "Due to this characteristic, unit root processes are also called difference stationary.\n",
    "\n",
    "In order to understand if a time series is stationary, there was developed several techniques the spans from Data Visualizaziont to Statistical Tests.\n",
    "\n",
    "In our work, we uses two metodologies tailored for category:\n",
    "1. ACF Plot (Data Visualization)\n",
    "2. Augmented Dickey–Fuller (Statistic Test)\n",
    "\n",
    "AutoCorrelation (ACF) measure serial (or self) correlation of a times series, in particular measure correlation between time series against herself lagged version.\n",
    "\n",
    "Augmented Dickey–Fuller is a Unit Root test having the following charateristic:\n",
    "\n",
    "1. Null Hypothesis (H0) is that process has Unit Roots\n",
    "2. Alternative Hypothesis (H1) is that process doesn't have Unit Roots\n",
    "3. Statistic Computation involves the following steps:\n",
    "    \n",
    "    1) Assumes that time series is modelled by an $AR^{(p)}(\\cdot)$ model\n",
    "    \n",
    "    2) Evaluate difference $\\Delta X_t \\,=\\, AR^{(p)}(X_t) - AR^{(p)}(X_{t-1})  $\n",
    "    \n",
    "    3) Fit Leaste Square Model on $\\Delta X_t$\n",
    "    \n",
    "    4) Build Statistic: $\\tau \\,=\\, \\frac{\\hat{\\phi_1}}{SE(\\hat{\\phi_1})} $ where SE is Standard Error $SE\\,=\\,(\\sum_{t=2}^{n} \\frac{(\\Delta X_t - AR^{(p)} (X_{t}) )^{2}} {n-3} ) \\cdot ( \\sum_{t=2}^{n} (X_{t-1}- \\bar{X})^2 )^{-1/2} $ and $\\hat{\\phi_1}$ is first estimated Model Paramiter.\n",
    "    \n",
    "    5) Dickey and Fuller derived the limit distribution as $n \\rightarrow \\infty$ of the $\\tau$ ratio under the unit root assumption ($\\hat{\\phi_1} = 0$ )\n",
    "    \n",
    "    6) The 0.01, 0.05, and 0.10 quantiles of the limit distribution of $\\tau$ are −3.43, −2.86, and −2.57,\n",
    "respectively."
   ]
  },
  {
   "cell_type": "code",
   "execution_count": 27,
   "id": "4968a162",
   "metadata": {},
   "outputs": [
    {
     "data": {
      "image/png": "[encoded data removed]",
      "text/plain": [
       "<Figure size 432x288 with 1 Axes>"
      ]
     },
     "metadata": {
      "needs_background": "light"
     },
     "output_type": "display_data"
    }
   ],
   "source": [
    "plot_acf(sp,lags=50)\n",
    "plt.show()"
   ]
  },
  {
   "cell_type": "code",
   "execution_count": 28,
   "id": "721ad6a2",
   "metadata": {},
   "outputs": [
    {
     "name": "stdout",
     "output_type": "stream",
     "text": [
      "ADF Statistic: 3.603097\n",
      "p-value: 1.000000\n",
      "Critical Values:\n",
      "\t1%: -3.434\n",
      "\t5%: -2.863\n",
      "\t10%: -2.568\n"
     ]
    }
   ],
   "source": [
    "result = adfuller(sp)\n",
    "print('ADF Statistic: %f' % result[0])\n",
    "print('p-value: %f' % result[1])\n",
    "print('Critical Values:')\n",
    "for key, value in result[4].items():\n",
    "\tprint('\\t%s: %.3f' % (key, value))"
   ]
  },
  {
   "cell_type": "code",
   "execution_count": 29,
   "id": "653c9d43",
   "metadata": {},
   "outputs": [],
   "source": [
    "diff_1 = sp.diff().dropna()"
   ]
  },
  {
   "cell_type": "code",
   "execution_count": 30,
   "id": "db1cf5bf",
   "metadata": {},
   "outputs": [
    {
     "data": {
      "image/png": "[encoded data removed]",
      "text/plain": [
       "<Figure size 432x288 with 1 Axes>"
      ]
     },
     "metadata": {
      "needs_background": "light"
     },
     "output_type": "display_data"
    }
   ],
   "source": [
    "plot_acf(diff_1,lags=50)\n",
    "plt.show()"
   ]
  },
  {
   "cell_type": "code",
   "execution_count": 31,
   "id": "9a79bbcf",
   "metadata": {},
   "outputs": [
    {
     "name": "stdout",
     "output_type": "stream",
     "text": [
      "ADF Statistic: -7.901572\n",
      "p-value: 0.000000\n",
      "Critical Values:\n",
      "\t1%: -3.434\n",
      "\t5%: -2.863\n",
      "\t10%: -2.568\n"
     ]
    }
   ],
   "source": [
    "result = adfuller(diff_1)\n",
    "print('ADF Statistic: %f' % result[0])\n",
    "print('p-value: %f' % result[1])\n",
    "print('Critical Values:')\n",
    "for key, value in result[4].items():\n",
    "\tprint('\\t%s: %.3f' % (key, value))"
   ]
  },
  {
   "cell_type": "markdown",
   "id": "10b26b2f",
   "metadata": {},
   "source": [
    "Original Time Series is not stationary because ACF \"don't drops quickly\" and ADF Statistic is greater than levels of significance.\n",
    "\n",
    "Instead, One-Order Differenced Time Series is stationary because ACF drops quickly and ADF Statistic is lower than levels of significance."
   ]
  },
  {
   "cell_type": "markdown",
   "id": "15bdecb0",
   "metadata": {},
   "source": [
    "<a class=\"anchor\" id=\"out\"></a>\n",
    "### Outlier Detection"
   ]
  },
  {
   "cell_type": "markdown",
   "id": "9454b47d",
   "metadata": {},
   "source": [
    "Outlier detection algorithm works as follows:\n",
    "\n",
    "1) Seasonal decomposition of the input time series, with additive or multiplicative decomposition as specified.\n",
    "\n",
    "2) Generate a residual time series by either removing only trend or both trend and seasonality if the seasonality is strong.\n",
    "\n",
    "3) Detect points in the residual which are outside 3 times the inter quartile range. "
   ]
  },
  {
   "cell_type": "code",
   "execution_count": 32,
   "id": "a78906d7",
   "metadata": {},
   "outputs": [],
   "source": [
    "#Outlier removing from Standard & Poor Index\n",
    "sp_outliers_detector = OutlierDetector(sp_series, 'additive')\n",
    "sp_outliers_detector.detector()"
   ]
  },
  {
   "cell_type": "code",
   "execution_count": 33,
   "id": "ab039281",
   "metadata": {},
   "outputs": [
    {
     "name": "stdout",
     "output_type": "stream",
     "text": [
      "[!] Number of Outliers detected for Standard & Poor Index: 415\n"
     ]
    }
   ],
   "source": [
    "n_outlier_sp500      = len(sp_outliers_detector.outliers[0])\n",
    "print(\"[!] Number of Outliers detected for Standard & Poor Index: {}\".format(n_outlier_sp500))"
   ]
  },
  {
   "cell_type": "code",
   "execution_count": 34,
   "id": "295560e5",
   "metadata": {},
   "outputs": [],
   "source": [
    "sp_cleaned          = sp_outliers_detector.remover(interpolate = True)    "
   ]
  },
  {
   "cell_type": "markdown",
   "id": "81d78e02",
   "metadata": {},
   "source": [
    "The procedure used for removing outliers is more robust than the first one employed in this notebook; infact last procedure employs a decomposition in order to remove noise and temporal-effects from the series.\n",
    "\n",
    "After that, analysis is similar to first approach of this notebook."
   ]
  },
  {
   "cell_type": "markdown",
   "id": "a8b93eae",
   "metadata": {},
   "source": [
    "<a class=\"anchor\" id=\"ch\"></a>\n",
    "### Changepoints Detection"
   ]
  },
  {
   "cell_type": "markdown",
   "id": "23b5e064",
   "metadata": {},
   "source": [
    "RobustStatDetector is a change point detection algorithms that finds mean shifts. It works as follows:\n",
    "\n",
    "1. Smooth the time series using a moving average\n",
    "2. Calculate the differences in the smoothed time series over a fixed number of points.\n",
    "3. Calculate the z-scores and p-values for the differences calculated in step 2. \n",
    "4. Return points where the p-value is smaller than a prescribed threshold "
   ]
  },
  {
   "cell_type": "code",
   "execution_count": 35,
   "id": "e182e6b6",
   "metadata": {},
   "outputs": [
    {
     "data": {
      "image/png": "[encoded data removed]",
      "text/plain": [
       "<Figure size 432x288 with 1 Axes>"
      ]
     },
     "metadata": {
      "needs_background": "light"
     },
     "output_type": "display_data"
    }
   ],
   "source": [
    "detector:RobustStatDetector = RobustStatDetector(sp_series)\n",
    "changepoints:List[tuple]    = detector.detector(p_value_cutoff = 1e-1, comparison_window=2)\n",
    "\n",
    "detector.plot(changepoints)\n",
    "plt.show()"
   ]
  },
  {
   "cell_type": "markdown",
   "id": "0857d8fa",
   "metadata": {},
   "source": [
    "Algorithm returns a list of changepoints; surely first changepoint detected is real-\n",
    "\n",
    "For the others, we need further investigation in order to check the significance."
   ]
  },
  {
   "cell_type": "markdown",
   "id": "316d37cb",
   "metadata": {},
   "source": [
    "<a class=\"anchor\" id=\"fc\"></a>\n",
    "## Forecast Experiments"
   ]
  },
  {
   "cell_type": "markdown",
   "id": "33800d3e",
   "metadata": {},
   "source": [
    "<a class=\"anchor\" id=\"sarima\"></a>\n",
    "### Seasonal ARIMA"
   ]
  },
  {
   "cell_type": "markdown",
   "id": "e9ee6aeb",
   "metadata": {},
   "source": [
    "Seasonal ARIMA (Autoregressive-Integrated-Moving Average) is a statistical model for analyzing and forecasting time series data and more in generale Stochastic Processes.\n",
    "\n",
    "The Model is a composition of two further ones:\n",
    "1. Autoregressive Model \n",
    "2. Moving Average Model \n",
    "\n",
    "**Autoregressive Model (AR)** is a linear model that describes the outcome of a Stochastic Process as a linear combination of its own previous values and a stochastic term (an imperfectly predictable term); thus the model is in the form of a stochastic difference equation.\n",
    "\n",
    "The analytic form of the AR model is the following:\n",
    "\n",
    "<br>\n",
    "<br>\n",
    "<div class='math'>\n",
    "    \\begin{equation}\n",
    "        F_{t} \\, = \\, \\text{AR}_{p}(t) \\,=\\, c + \\varepsilon_{t} + \\sum_{i=1}^{p}\\phi_{i} \\cdot X_{t-i} \n",
    "    \\end{equation}\n",
    "</div>\n",
    "<br>\n",
    "<br>\n",
    "\n",
    "The above Formula shows the following cues:\n",
    "1. $\\mathbf{F_t}$ is the predicted value of time serie at time t given the last p values of time serie\n",
    "2. $\\mathbf{c}$, costant value\n",
    "3. $\\mathbf{\\phi_i}$, parameters of the model\n",
    "4. $\\mathbf{p}$, hyperparamiter that set the number of past observations in order to perform inference for the next step.\n",
    "For that, the model is usually referred as AR(p) where p is the aforementioned hyperparam\n",
    "5. $\\mathbf{\\varepsilon_t}$, white noise term that model the error\n",
    "6. $\\mathbf{X_t}$ is the actual value of time time at step t\n",
    "\n",
    "An autoregressive model can thus be viewed as the output of an *all-pole infinite impulse response filter* whose input is white noise.\n",
    "\n",
    "**Moving Average Model (MA)** is the other sub-part of SARIMA Model.\n",
    "\n",
    "The moving-average model specifies that the output variable depends linearly on the current and various past values of a stochastic (imperfectly predictable) term.\n",
    "\n",
    "The analytic form of MA model is the following:\n",
    "\n",
    "<br>\n",
    "<br>\n",
    "<div class='math'>\n",
    "    \\begin{equation}\n",
    "        F_{t} \\, = \\, \\text{MA}_{q}(t) \\,=\\, \\mu + \\varepsilon_t  + \\sum_{i=1}^{q}\\theta_{i} \\cdot \\varepsilon_{t-i} \n",
    "    \\end{equation}\n",
    "</div>\n",
    "<br>\n",
    "<br>\n",
    "\n",
    "The formula shows the following features:\n",
    "1. $\\mathbf{F_t}$ is the predicted value of time serie at time t given the last q random shocks suffered by the system\n",
    "2. $\\mathbf{\\mu}$ is the mean of the time serie\n",
    "3. $\\mathbf{\\varepsilon_{t-i}}$ is the random shock (or error term) occured at time t-i\n",
    "4. $\\mathbf{\\theta_i}$ are the parameters of the Model\n",
    "5. $\\mathbf{q}$ is the hyperparameter of the model, it rules the number of past random shocks to employ for the inference of the next step of the time serie. For that, MA model is usually referred as MA(q) model.\n",
    "6. $\\mathbf{X_t}$ is the actual value of time time at step t\n",
    "\n",
    "Random shocks at each point are assumed to be mutually independent and to come from the same distribution, typically a normal distribution, with location at zero and constant scale.\n",
    "\n",
    "From a Signal Processing perspective, the moving-average model is a finite impulse response filter applied to white noise.\n",
    "\n",
    "**Seasonal ARIMA** is a combination of these two models enriched with a *specific pre-processing* of data in order to ensure the *weak stationarity* of the Stochastic Process induced by the time serie.\n",
    "\n",
    "Before explaining the pre-processing needed, we briefly report the definition of Weak Stationarity.\n",
    "\n",
    "A Stochastic Process $X$ is Weak Stationary if and only if:\n",
    "1. $\\mu(X_t) = \\mu(X_t+\\tau) \\quad \\forall \\tau \\in \\mathbb{R}$\n",
    "<br>\n",
    "\n",
    "2. $Cov_{X,X}\\,(t_1,t_2) = Cov_{X,X}\\,(t_1-t_2,0) \\quad \\forall t_1,t_2 \\in \\mathbb{R}$\n",
    "<br>\n",
    "\n",
    "3. $\\mathbb{E}\\,[|X_t|^{2}] < \\infty \\quad \\forall t \\in \\mathbb{R}$\n",
    "<br>\n",
    "\n",
    "In essence, the definition is telling us that the mean of the time serie not vary respect the time.\n",
    "\n",
    "Said that, it is worth saying that AR, MA models and ARMA (combination of AR and MA) are models designed for Weak Stationary Stochastic Process (a.k.a. Weak Stationary Time Series).\n",
    "\n",
    "Usually, real time series are not stationary, for this reason it would take a way to transform.\n",
    "\n",
    "The method is the *Differencing* and corresponde to the letter \"I\" of the SARIMA model.\n",
    "\n",
    "Differencing involves the following operation:\n",
    "<br>\n",
    "<br>\n",
    "<div class='math'>\n",
    "    \\begin{equation}\n",
    "        z_t \\,=\\,\\nabla\\, X_t \\,=\\, X_t - X_{t-1}\n",
    "    \\end{equation}\n",
    "</div>\n",
    "<br>\n",
    "<br>\n",
    "\n",
    "This operation ,essentialy, removes *Trends* from the time serie and enforce Weak Stationarity of hers.\n",
    "\n",
    "Furthermore, is worth notice that data can require more steps of differencing in order to reach the weak stationarity.\n",
    "\n",
    "In all cases, an ARMA model applied to the differenced data is usually referred as *ARIMA* model.\n",
    "\n",
    "From a Signalt Theory point of view, Differencing acts as high-pass filter to the original signal.\n",
    "\n",
    "Another important issue of time series data is *Seasonality*.\n",
    "\n",
    "Usually, some specific behaviour of the Stochastic Process happpens at cyclic intervals of time (think at the grow of purchases in corrispondance of the Christmas Holidays).\n",
    "\n",
    "This issue is called *Seasonality* and must be put in the accout in order to perform good forecast.\n",
    "\n",
    "Therefore, we properly combine two ARIMA models (one for regular data and one for Seasonal Data extracted from the studied time serie) in the Seasonal ARIMA model.\n",
    "\n",
    "This model has the following analytic expression:\n",
    "<br>\n",
    "<br>\n",
    "<div class='math'>\n",
    "    \\begin{equation}\n",
    "        F_t\\,=\\, \\text{SARIMA}^{\\,(p,d,q) \\,\\times\\, (P,D,Q)_{s}} \\,=\\,\\biggl[ \\text{MA}^{(seas)}_{Q}(t) \\cdot \\text{MA}^{(reg)}_{q}(t) \\biggl ]- \\biggl[ \\text{AR}^{(seas)}_{P}(t) \\cdot \\text{AR}^{(reg)}_{p}(t) \\biggl ]\n",
    "    \\end{equation}\n",
    "</div>\n",
    "<br>\n",
    "<br>\n",
    "\n",
    "This model is usually referred as $\\text{SARIMA}^{\\,(p,d,q) \\,\\times\\, (P,D,Q)_{s}}$ and has the following hyperparams:\n",
    "1. $\\mathbf{p}$, number of past observation for the computation of the Regular AR Model\n",
    "2. $\\mathbf{d}$, number of differecing performed to the Regular Data\n",
    "3. $\\mathbf{q}$, number of past random shocks for the computation of the Regular MA Model\n",
    "4. $\\mathbf{P}$, number of past observation for the computation of the Seasonal AR Model\n",
    "5. $\\mathbf{D}$, number of differecing performed to the Seasonal Data extracted from the Regular Data\n",
    "6. $\\mathbf{Q}$, number of past random shocks for the computation of the Seasonal MA Model\n",
    "7. $\\mathbf{s}$, period of a season\n",
    "\n",
    "At this point, one can ask how to compute optimal SARIMA hyper params value.\n",
    "\n",
    "Well, there is 3 ways:\n",
    "1. Plotting Autocorrelation (AFCF) and Partial Autocorrelation (PACF) of the data and try to guess the right model with the help of some *common sense* rules.\n",
    "2. Optimizing a specific criterion respect to the hyperparamiters (ex. BIC, AIC etc..)\n",
    "3. Perform GridSearch on a restricted space of hyperparamiters"
   ]
  },
  {
   "cell_type": "markdown",
   "id": "5048875e",
   "metadata": {},
   "source": [
    "<a class=\"anchor\" id=\"holt\"></a>\n",
    "### Holt-Winters\n"
   ]
  },
  {
   "cell_type": "markdown",
   "id": "89197691",
   "metadata": {},
   "source": [
    "Holt-Winters is a forecasting algorithm based on the following three techniques of smoothing:\n",
    "\n",
    "1. Weighted Average\n",
    "2. Exponential Smoothing \n",
    "3. Holt Exponential Smoothing\n",
    "\n",
    "**Weighted Average** is a simple mean where each observation is weighted with a specific weight; the denominator of the mean is the sum of all weights.\n",
    "\n",
    "Usually, the weight of a Weighted Average are modelled throught specific mathematical functions.\n",
    "\n",
    "**Exponential Smoothing** is a weighted average where weights decay exponentials from the most recent to the oldest historical value.\n",
    "\n",
    "In this setup, you make the assumption that recent values in the time serie are most important than old ones in order to perform forecasting.\n",
    "\n",
    "This assumption is deleterious in case of time series that show Trend and Seasonality.\n",
    "\n",
    "**Holt Exponential Smoothing** is an arrangment of Exponential Smoothing in order to fix the Trend problem aforementioned.\n",
    "\n",
    "**Holt-Winters Algorithm** is an improvement of Holt in order to fix the problems relative to Seasonality.\n",
    "\n",
    "The algorithm is declined in two flavours respect to the \"type\" of Seasonality: *Additive* or *Multiplicative*.\n",
    "\n",
    "In case of Multiplicative Seasonality, the algorithm induce the following Recursive set of Equations:\n",
    "\n",
    "<br>\n",
    "<br>\n",
    "<div class='math'>\n",
    "    \\begin{cases}\n",
    "        F_{t+m}\\,&=\\,(s_t + m \\cdot b_t) \\cdot c_{t-L+m \\,\\,mod\\,\\, L} \\\\\n",
    "        s_t \\,&=\\, \\alpha \\cdot \\frac{X_t}{c_{t-L}}+(1-\\alpha)\\cdot(s_{t-1}+b_{t-1})\\\\\n",
    "        b_t\\,&=\\,\\beta\\cdot (s_t - s_{t-1}) + (1-\\beta) \\cdot b_{t-1}\\\\\n",
    "        c_t\\,&=\\,\\gamma \\cdot \\frac{X_t}{s_t} + (1 - \\gamma) \\cdot c_{t-L}\\\\\n",
    "    \\end{cases}\n",
    "</div>\n",
    "<br>\n",
    "<br>\n",
    "\n",
    "The above set of equations employ the following symbols:\n",
    "\n",
    "1. $\\mathbf{F_{t+m}}$, forecasting at step t+m\n",
    "2. $\\mathbf{s_t}$, smoothed value of the *Level* of time serie at step t\n",
    "3. $\\mathbf{b_t}$, smmothed value of the *Trend* of time serie at step t\n",
    "4. $\\mathbf{c_t}$, smmothed value of the *Seasonality* of time serie at step t\n",
    "5. $\\mathbf{L}$, period of seasonality\n",
    "6. $\\mathbf{\\alpha}$, smoothing paramiter for the Level estimate, must lie in the [0,1] interval.\n",
    "7. $\\mathbf{\\beta}$, smoothing paramiter for the Trend estimate, must lie in the [0,1] interval.\n",
    "8. $\\mathbf{\\gamma}$, smoothing paramiter for the Seasonality estimate, must lie in the [0,1] interval.\n",
    "9. $\\mathbf{X_t}$, value of time serie at step t\n",
    "10. $\\mathbf{t}$, current time\n",
    "\n",
    "The showed equations underline the following cues of the algorithm:\n",
    "1. Holt-Winters algorithm perform a Triple Exponential Smoothing respectively on: Level, Trend and Seasonality features of the time serie analyzed.\n",
    "2. Holt-Winters combine the smoothed values in order to do the forecasts\n",
    "3. Seasonality smoothed value can be used in a *moltiplicative* or *additive* manner in order to do forecast\n",
    "\n",
    "\n",
    "The Seasonal Additive version of the algorithm is the following:\n",
    "<br>\n",
    "<br>\n",
    "<div class='math'>\n",
    "    \\begin{cases}\n",
    "        F_{t+m}\\,&=\\, s_t + m \\cdot b_t + c_{t-L+m \\,\\, mod \\,\\, L}\\\\\n",
    "        s_t \\,&=\\, \\alpha \\cdot (X_t - c_{t-L}) + (1- \\alpha) \\cdot (s_{t-1} + b_{t-1}) \\\\\n",
    "            b_t\\,&=\\,\\beta \\cdot (s_t - s_{t-1}) + (1-\\beta) \\cdot b_{t-1} \\\\\n",
    "        c_t\\,&=\\,\\gamma \\cdot (X_t - s_{t-1} -b_{t-1}) + (1- \\gamma) \\cdot c_{t-L}\\\\\n",
    "    \\end{cases}\n",
    "</div>\n",
    "<br>\n",
    "<br>\n",
    "\n",
    "The symbols employed are the same of the Multiplicative Version."
   ]
  },
  {
   "cell_type": "markdown",
   "id": "fe414362",
   "metadata": {},
   "source": [
    "<a class=\"anchor\" id=\"prophet\"></a>\n",
    "### Prophet\n"
   ]
  },
  {
   "cell_type": "markdown",
   "id": "590504ca",
   "metadata": {},
   "source": [
    "Prophet is a time series decomposable model that encapsulates threee important cues of time series:\n",
    "\n",
    "1. Trend \n",
    "2. Seasonality\n",
    "3. Holidays\n",
    "\n",
    "The base equation of the model is the following:\n",
    "\n",
    "<br>\n",
    "<br>\n",
    "<div class='math'>\n",
    "    \\begin{split}\n",
    "        y(t) \\,&=\\, g(t) + s(t) + h(t) + \\varepsilon_t \\\\\n",
    "        g(t) \\,&=\\,\\text{Trend Model}\\\\\n",
    "        s(t)\\,&=\\, \\text{Season Model} \\\\\n",
    "        h(t) \\,&=\\, \\text{Holiday Model} \\\\\n",
    "        \\varepsilon_t \\,&=\\, \\text{Model Error}\n",
    "    \\end{split}\n",
    "</div>\n",
    "<br>\n",
    "<br>\n",
    "\n",
    "The showed model has the following properties:\n",
    "\n",
    "1. Prophet is an Additive Model\n",
    "2. Prophet cast Forecasting problem in a Curve-Fitting one\n",
    "3. Prophet analytical equation help adding new seasonal effects to the model\n",
    "4. Unlike SARIMA, we don't have to remove outliers\n",
    "\n",
    "\n",
    "#### Trend Model\n",
    "\n",
    "Trend Model of prophet is declined in two flaws based on the type of studied time serie.\n",
    "\n",
    "The flaws of Trend Model are: *Saturating Grow Model* and *Point-Wise Linear Model*\n",
    "\n",
    "*Saturating Grow Model* interprets trend variations as a Saturating Non-Linear Growth phenomenon where saturation occurs at a specific *Carrying Capacity*.\n",
    "\n",
    "General equation of the model is the following:\n",
    "\n",
    "<br>\n",
    "<br>\n",
    "<div class='math'>\n",
    "    \\begin{split}\n",
    "        g(t) \\,&=\\, \\frac{ C(t) } { 1 + e^{ \\, -(k + a(t)^{T} \\cdot \\delta) \\cdot (t \\,-\\, (m + a(t)^{T} \\cdot \\gamma ) \\, ) } } \\\\\n",
    "        & \\\\\n",
    "        m \\,&=\\, \\text{Offset Paramiter} \\\\\n",
    "        & \\\\\n",
    "        k \\,&=\\, \\text{Base Growth Rate}\\\\\n",
    "        & \\\\\n",
    "        s \\,&=\\, \\text{Vector of Growth Change Times} \\\\\n",
    "        & \\\\\n",
    "        \\delta \\,&=\\, \\text{Vector of Growth Change occuring at times $s_t$}\\\\\n",
    "        & \\\\\n",
    "        \\delta &\\in Laplace(0,\\tau) \\\\\n",
    "        & \\\\\n",
    "        S\\,&=\\, \\text{Total Number of Growth Changes}\\\\\n",
    "        & \\\\\n",
    "        C(t)\\,&=\\,\\text{Carrying Capacity at time t} \\\\\n",
    "        & \\\\\n",
    "        a_j(t) \\,&=\\, \\begin{cases} 1 \\quad \\text{if $t \\geq s_j$} \\\\ 0 \\quad \\text{otherwise} \\\\ \\end{cases}\\\\\n",
    "        & \\\\\n",
    "        \\gamma \\,&=\\, \\text{Offset Adjusstment Params} \\\\\n",
    "        & \\\\\n",
    "        \\gamma_t \\,&=\\, \\biggl(s_j - m - \\sum_{l < j } \\gamma_l \\biggl) \\cdot \\biggl(1 - \\frac{ k + \\sum_{l<j} \\delta_l }{ k + \\sum_{l \\leq j} \\delta_l} \\biggl)\\\\   \n",
    "    \\end{split}\n",
    "<br>\n",
    "<br>\n",
    "    \n",
    "   \n",
    "*Point-Wise Linear Model* is useful when time serie don't show a Saturating Growth trend.\n",
    "    \n",
    "This model has a costant growth rate and implies the following equation:\n",
    "    <br>\n",
    "<br>\n",
    "<div class='math'>\n",
    "    \\begin{split}\n",
    "        g(t)\\,&=\\,(k+a(t)^{T}\\cdot \\delta) \\cdot t + (m + a(t)^T \\cdot \\gamma) \\\\\n",
    "        \\gamma_j\\,&=\\, -s_j \\cdot \\delta_j\n",
    "    \\end{split}\n",
    "</div>\n",
    "<br>\n",
    "<br>\n",
    "    \n",
    "    \n",
    "#### Seasonal Model\n",
    "Seasonal Model use a function that is periodic of time in order to model data.\n",
    "    \n",
    "More specific, Seasonal Model use a *Standard Fourier Series*.\n",
    "    \n",
    "Seasonal Model Equation is reported below:\n",
    "<div class='math'>\n",
    "    \\begin{split}\n",
    "            s(t)\\,&=\\, \\sum_{n=1}^{N}  a_n \\cdot cos \\biggl( \\frac{2 \\cdot \\pi \\cdot t}{P} \\biggl ) \\,+\\, b_n \\cdot sin \\biggl( \\frac{2 \\cdot \\pi \\cdot t}{P} \\biggl ) \\\\\n",
    "        \\beta\\,&=\\,[ a_1 , b_1 , \\dots ,a_N , b_N   ]^T \\\\\n",
    "        \\beta\\,&=\\,\\text{Paramiters to estimate, Fourier Series coefficients}\\\\\n",
    "        N\\,&=\\,\\text{Number of harmonics of Series}\\\\\n",
    "        P\\,&=\\,\\text{Period}\\\\\n",
    "    \\end{split}\n",
    "</div>\n",
    "<br>\n",
    "<br>   \n",
    "    \n",
    "It is useful to point out that when $N \\rightarrow \\infty$ model capacity grows at cost of overfitting.\n",
    "    \n",
    "    \n",
    "#### Holiday Model\n",
    "This model incorporates Holiday effects in the forecast.\n",
    "This is done by using base assumption that holidays are mutually independent.\n",
    "    \n",
    "The equation of Holiday Model is the following:\n",
    "<div class='math'>\n",
    "    \\begin{split}\n",
    "        h(t)\\,&=\\,Z(t) \\cdot k \\\\\n",
    "        Z(t)\\,&=\\,[ \\, 1( t \\in D_1 ) , \\dots , 1( t \\in D_M) \\, ] \\\\\n",
    "        1(x)\\,&=\\,\\text{1 if x = True else False} \\\\ \n",
    "        D_i\\,&=\\,\\text{list of past and future dates for holiday i} \\\\\n",
    "        K_i\\,&=\\, \\text{Forecast influence of holday i} \\\\\n",
    "        K &\\in \\mathcal{N}(0,v) \\\\\n",
    "        Z(t) &\\in \\mathbb{R}^{M \\times N} \\\\\n",
    "        K &\\in \\mathbb{R}^{N} \\\\\n",
    "        N\\,&=\\,\\text{Number of Holidays} \\\\\n",
    "        M\\,&=\\,\\text{Number of time slices analized} \\\\\n",
    "    \\end{split}\n",
    "</div>\n",
    "<br>\n",
    "<br>   \n",
    "\n",
    "Another important feature of holiday model is the support to the effects of surrounding days of holiday; these are treated theirself as holidays.\n",
    "    \n",
    "    \n",
    "### Model Fitting \\& Summary\n",
    "Entire Prophet model is fitted using *L-BFGS* algorithm, a version of *Quasi-Newton* methods particularly optimized in term of memory consummation.  \n",
    "\n",
    "From the point-view of analyst, model provides the following set of hyperparameters:\n",
    "    \n",
    "1. Capacity\n",
    "2. Trend Change Points\n",
    "3. Seasonality and Holidays Events\n",
    "4. $\\tau$, smoothing Trend Model\n",
    "5. $(\\sigma,v)$, smoothing Seasonal and Holiday Model."
   ]
  },
  {
   "cell_type": "markdown",
   "id": "26c33170",
   "metadata": {},
   "source": [
    "<a class=\"anchor\" id=\"eval\"></a>\n",
    "### Models Evaluation"
   ]
  },
  {
   "cell_type": "markdown",
   "id": "05af0d17",
   "metadata": {},
   "source": [
    "In order to evaluate forecast models, we choose the following three strategies:\n",
    "\n",
    "\n",
    "1. **RollingWindow**, this kind of evaluation prescribe splitting dataset in *fixed-dimension* train and test-set.\n",
    "\n",
    "    Then, it will start an *Iterative Procedure* where at each iteration:\n",
    "    1) Start location of the training dataset moves forward by a fixed amount, while the test dataset “slides” forward to accommodate.\n",
    "        \n",
    "    2) Fit Model on training-set of 1) and evaluate on residual Test-Set using a set of evaluation measures\n",
    "    \n",
    "    Iterations continue until the end of the test set meets the end of the full data set.\n",
    "\n",
    "\n",
    "2. **ExpandingWindow**, in this scenario dataset is also splitted in training and test-set but unlike *RollingWindow* dimension of these sets can vary during evaluation method.\n",
    "\n",
    "    Method is an iterative procedure where at each iteration:\n",
    "    1) Size of the training dataset increases by a fixed amount, while the test dataset “slides” forward to accommodate.\n",
    "        \n",
    "    2) Fit Model on training-set of 1) and evaluate on residual Test-Set using a set of evaluation measures\n",
    "        \n",
    "    Iterations continue until the complete data set is used to either train or test in the final interation.\n",
    "    \n",
    "\n",
    "3. **TrainTest**, in this scenario dataset is splitted in training and test-set.\n",
    "\n",
    "    Then, model was fitted on training-set and evaluated on test-set following a set of evaluation measures.\n",
    "            \n",
    "    \n",
    "The first two aforementioned methods are complementary and cover two aspects of models:\n",
    "\n",
    "1. RollingWindow allows to understand the behavior of model at different bands of times.\n",
    "2. ExpandingWindow allows to understand the behavior of model at increasing of training-set size.\n",
    "    \n",
    "However, all methods use the following set of evaluation measures:\n",
    "\n",
    "- Mean Square Error (MSE)\n",
    "- Root Mean Square Error (RMSE) \n",
    "- Mean Absolute Error (MAE)\n",
    "- Mean Absolute Percentage Error (MAPE)"
   ]
  },
  {
   "cell_type": "markdown",
   "id": "826709a4",
   "metadata": {},
   "source": [
    "<a class=\"anchor\" id=\"exp\"></a>\n",
    "### Experiments\n"
   ]
  },
  {
   "cell_type": "code",
   "execution_count": 36,
   "id": "f7538092",
   "metadata": {},
   "outputs": [],
   "source": [
    "#Split Dataset\n",
    "PERC_TEST:float             = 0.8\n",
    "split:int                   = int(PERC_TEST*len(sp_cleaned))\n",
    "\n",
    "training_set:TimeSeriesData = sp_cleaned[:split]\n",
    "test_set:TimeSeriesData     = sp_cleaned[split:]"
   ]
  },
  {
   "cell_type": "markdown",
   "id": "9975c68c",
   "metadata": {},
   "source": [
    "#### Fitting Models"
   ]
  },
  {
   "cell_type": "markdown",
   "id": "2f0053a4",
   "metadata": {},
   "source": [
    "All models are fitted with a GridSearch and MAE error measure."
   ]
  },
  {
   "cell_type": "code",
   "execution_count": 37,
   "id": "868513f6",
   "metadata": {},
   "outputs": [],
   "source": [
    "#Fit SARIMA\n",
    "def evaluation_sarima(params:dict) -> float:\n",
    "    sarima_params:SARIMAParams = SARIMAParams(\n",
    "        p = params['p'],\n",
    "        d = params['d'],\n",
    "        q = params['q'],\n",
    "        seasonal_order = ( params['p_seas'] , params['d_seas'] , params['q_seas'] , 12 )\n",
    "    )\n",
    "    model:SARIMAModel       = SARIMAModel(training_set, sarima_params)\n",
    "    model.fit()\n",
    "    model_pred:DataFrame    = model.predict(steps=len(test_set))\n",
    "    error:float             = np.mean( np.abs( model_pred['fcst'].values - test_set.value.values ) )\n",
    "    return error"
   ]
  },
  {
   "cell_type": "code",
   "execution_count": 38,
   "id": "f6ebc960",
   "metadata": {},
   "outputs": [],
   "source": [
    "sarima_grid_search = [\n",
    "{\n",
    "    \"name\": \"p\",\n",
    "    \"type\": \"choice\",\n",
    "    \"values\": list(range(1, 3)),\n",
    "    \"value_type\": \"int\",\n",
    "    \"is_ordered\": True,\n",
    "},\n",
    "{\n",
    "    \"name\": \"d\",\n",
    "    \"type\": \"choice\",\n",
    "    \"values\": list(range(1, 3)),\n",
    "    \"value_type\": \"int\",\n",
    "    \"is_ordered\": True,\n",
    "},\n",
    "{\n",
    "    \"name\": \"q\",\n",
    "    \"type\": \"choice\",\n",
    "    \"values\": list(range(1, 3)),\n",
    "    \"value_type\": \"int\",\n",
    "    \"is_ordered\": True,\n",
    "},\n",
    "{\n",
    "    \"name\": \"p_seas\",\n",
    "    \"type\": \"choice\",\n",
    "    \"values\": list(range(1, 3)),\n",
    "    \"value_type\": \"int\",\n",
    "    \"is_ordered\": True,\n",
    "},\n",
    "{\n",
    "    \"name\": \"d_seas\",\n",
    "    \"type\": \"choice\",\n",
    "    \"values\": list(range(1, 3)),\n",
    "    \"value_type\": \"int\",\n",
    "    \"is_ordered\": True,\n",
    "},\n",
    "{\n",
    "    \"name\": \"q_seas\",\n",
    "    \"type\": \"choice\",\n",
    "    \"values\": list(range(1, 3)),\n",
    "    \"value_type\": \"int\",\n",
    "    \"is_ordered\": True,\n",
    "}\n",
    "]"
   ]
  },
  {
   "cell_type": "code",
   "execution_count": 46,
   "id": "f7974b23",
   "metadata": {},
   "outputs": [],
   "source": [
    "data_files          = listdir(\"data\")\n",
    "\n",
    "if \"sarima_eval.csv\" in data_files:\n",
    "    # Load Previous Evaluation from Disk\n",
    "    sarima_tuning   = pd.read_csv(\"data/sarima_eval.csv\")\n",
    "else:\n",
    "    # Perform online Evaluation\n",
    "    sarima_tuner = tpt.SearchMethodFactory.create_search_method(\n",
    "        objective_name=\"evaluation_metric\",\n",
    "        parameters=sarima_grid_search,\n",
    "        selected_search_method=SearchMethodEnum.GRID_SEARCH,\n",
    "    )\n",
    "\n",
    "\n",
    "    sarima_tuner.generate_evaluate_new_parameter_values(evaluation_function=evaluation_sarima)\n",
    "\n",
    "    sarima_tuning = (sarima_tuner.list_parameter_value_scores())\n",
    "    sarima_tuning.to_csv(\"data/sarima_eval.csv\")"
   ]
  },
  {
   "cell_type": "code",
   "execution_count": 56,
   "id": "3d512290",
   "metadata": {},
   "outputs": [
    {
     "name": "stdout",
     "output_type": "stream",
     "text": [
      "[!] Best Model Mean Error: 194.8710567746957 \n",
      "[!] Best Model Params:\n",
      "\t-> {'p': 1, 'd': 2, 'q': 2, 'p_seas': 1, 'd_seas': 2, 'q_seas': 1}\n",
      "\n",
      "[!] Sarima GridSearch Params: \n",
      "\n",
      "[{'is_ordered': True,\n",
      "  'name': 'p',\n",
      "  'type': 'choice',\n",
      "  'value_type': 'int',\n",
      "  'values': [1, 2]},\n",
      " {'is_ordered': True,\n",
      "  'name': 'd',\n",
      "  'type': 'choice',\n",
      "  'value_type': 'int',\n",
      "  'values': [1, 2]},\n",
      " {'is_ordered': True,\n",
      "  'name': 'q',\n",
      "  'type': 'choice',\n",
      "  'value_type': 'int',\n",
      "  'values': [1, 2]},\n",
      " {'is_ordered': True,\n",
      "  'name': 'p_seas',\n",
      "  'type': 'choice',\n",
      "  'value_type': 'int',\n",
      "  'values': [1, 2]},\n",
      " {'is_ordered': True,\n",
      "  'name': 'd_seas',\n",
      "  'type': 'choice',\n",
      "  'value_type': 'int',\n",
      "  'values': [1, 2]},\n",
      " {'is_ordered': True,\n",
      "  'name': 'q_seas',\n",
      "  'type': 'choice',\n",
      "  'value_type': 'int',\n",
      "  'values': [1, 2]}]\n"
     ]
    }
   ],
   "source": [
    "idx_min:int     =  sarima_tuning['mean'].idxmin()\n",
    "record:Series   =  sarima_tuning.iloc[idx_min,:]\n",
    "\n",
    "mean_error      = record['mean']\n",
    "params:dict     = record['parameters']\n",
    "\n",
    "print(\"[!] Best Model Mean Error: {} \\n[!] Best Model Params:\\n\\t-> {}\".format(mean_error , params))\n",
    "print(\"\\n[!] Sarima GridSearch Params: \\n\")\n",
    "pprint(sarima_grid_search)"
   ]
  },
  {
   "cell_type": "code",
   "execution_count": 57,
   "id": "a372f205",
   "metadata": {},
   "outputs": [],
   "source": [
    "#Fit Holt-Winters\n",
    "def evaluate_hw(params:dict):\n",
    "    hw_params:ProphetParams = HoltWintersParams(\n",
    "            seasonal=params['seasonal'],\n",
    "            trend=params['trend'],\n",
    "            seasonal_periods=12\n",
    "            )\n",
    "\n",
    "    model:HoltWintersModel      = HoltWintersModel(training_set,hw_params)\n",
    "    model.fit()\n",
    "    model_pred:DataFrame        = model.predict(steps=len(test_set) )\n",
    "    error:float                 = np.mean( np.abs( model_pred['fcst'].values - test_set.value.values ) )\n",
    "    \n",
    "    return error"
   ]
  },
  {
   "cell_type": "code",
   "execution_count": 58,
   "id": "55067f69",
   "metadata": {},
   "outputs": [],
   "source": [
    "hw_grid_search = [\n",
    "{\n",
    "    \"name\": \"trend\",\n",
    "    \"type\": \"choice\",\n",
    "    \"values\": [ 'add' , 'mul'],\n",
    "    \"value_type\": \"str\",\n",
    "    \"is_ordered\": False,\n",
    "},\n",
    "{\n",
    "    \"name\": \"seasonal\",\n",
    "    \"type\": \"choice\",\n",
    "    \"values\": [ 'add' , 'mul'],\n",
    "    \"value_type\": \"str\",\n",
    "    \"is_ordered\": False,\n",
    "}\n",
    "]"
   ]
  },
  {
   "cell_type": "code",
   "execution_count": 59,
   "id": "a99702e9",
   "metadata": {},
   "outputs": [
    {
     "name": "stderr",
     "output_type": "stream",
     "text": [
      "[WARNING 11-06 09:19:40] ax.core.parameter: `sort_values` is not specified for `ChoiceParameter` \"trend\". Defaulting to `False` for parameters of `ParameterType` STRING. To override this behavior (or avoid this warning), specify `sort_values` during `ChoiceParameter` construction.\n",
      "[WARNING 11-06 09:19:40] ax.core.parameter: `sort_values` is not specified for `ChoiceParameter` \"seasonal\". Defaulting to `False` for parameters of `ParameterType` STRING. To override this behavior (or avoid this warning), specify `sort_values` during `ChoiceParameter` construction.\n",
      "[WARNING 11-06 09:19:40] ax.core.parameter: `sort_values` is not specified for `ChoiceParameter` \"trend\". Defaulting to `False` for parameters of `ParameterType` STRING. To override this behavior (or avoid this warning), specify `sort_values` during `ChoiceParameter` construction.\n",
      "[WARNING 11-06 09:19:40] ax.core.parameter: `sort_values` is not specified for `ChoiceParameter` \"seasonal\". Defaulting to `False` for parameters of `ParameterType` STRING. To override this behavior (or avoid this warning), specify `sort_values` during `ChoiceParameter` construction.\n",
      "[WARNING 11-06 09:19:40] ax.core.parameter: `sort_values` is not specified for `ChoiceParameter` \"trend\". Defaulting to `False` for parameters of `ParameterType` STRING. To override this behavior (or avoid this warning), specify `sort_values` during `ChoiceParameter` construction.\n",
      "[WARNING 11-06 09:19:40] ax.core.parameter: `sort_values` is not specified for `ChoiceParameter` \"seasonal\". Defaulting to `False` for parameters of `ParameterType` STRING. To override this behavior (or avoid this warning), specify `sort_values` during `ChoiceParameter` construction.\n",
      "[WARNING 11-06 09:19:40] ax.core.parameter: `sort_values` is not specified for `ChoiceParameter` \"trend\". Defaulting to `False` for parameters of `ParameterType` STRING. To override this behavior (or avoid this warning), specify `sort_values` during `ChoiceParameter` construction.\n",
      "[WARNING 11-06 09:19:40] ax.core.parameter: `sort_values` is not specified for `ChoiceParameter` \"seasonal\". Defaulting to `False` for parameters of `ParameterType` STRING. To override this behavior (or avoid this warning), specify `sort_values` during `ChoiceParameter` construction.\n",
      "[WARNING 11-06 09:19:40] ax.core.parameter: `sort_values` is not specified for `ChoiceParameter` \"trend\". Defaulting to `False` for parameters of `ParameterType` STRING. To override this behavior (or avoid this warning), specify `sort_values` during `ChoiceParameter` construction.\n",
      "[WARNING 11-06 09:19:40] ax.core.parameter: `sort_values` is not specified for `ChoiceParameter` \"seasonal\". Defaulting to `False` for parameters of `ParameterType` STRING. To override this behavior (or avoid this warning), specify `sort_values` during `ChoiceParameter` construction.\n"
     ]
    },
    {
     "data": {
      "text/html": [
       "<div>\n",
       "<style scoped>\n",
       "    .dataframe tbody tr th:only-of-type {\n",
       "        vertical-align: middle;\n",
       "    }\n",
       "\n",
       "    .dataframe tbody tr th {\n",
       "        vertical-align: top;\n",
       "    }\n",
       "\n",
       "    .dataframe thead th {\n",
       "        text-align: right;\n",
       "    }\n",
       "</style>\n",
       "<table border=\"1\" class=\"dataframe\">\n",
       "  <thead>\n",
       "    <tr style=\"text-align: right;\">\n",
       "      <th></th>\n",
       "      <th>arm_name</th>\n",
       "      <th>metric_name</th>\n",
       "      <th>mean</th>\n",
       "      <th>sem</th>\n",
       "      <th>trial_index</th>\n",
       "      <th>parameters</th>\n",
       "    </tr>\n",
       "  </thead>\n",
       "  <tbody>\n",
       "    <tr>\n",
       "      <th>0</th>\n",
       "      <td>0_0</td>\n",
       "      <td>evaluation_metric</td>\n",
       "      <td>456.078902</td>\n",
       "      <td>0.0</td>\n",
       "      <td>0</td>\n",
       "      <td>{'trend': 'add', 'seasonal': 'add'}</td>\n",
       "    </tr>\n",
       "    <tr>\n",
       "      <th>1</th>\n",
       "      <td>0_1</td>\n",
       "      <td>evaluation_metric</td>\n",
       "      <td>391.831152</td>\n",
       "      <td>0.0</td>\n",
       "      <td>0</td>\n",
       "      <td>{'trend': 'add', 'seasonal': 'mul'}</td>\n",
       "    </tr>\n",
       "    <tr>\n",
       "      <th>2</th>\n",
       "      <td>0_2</td>\n",
       "      <td>evaluation_metric</td>\n",
       "      <td>302.772284</td>\n",
       "      <td>0.0</td>\n",
       "      <td>0</td>\n",
       "      <td>{'trend': 'mul', 'seasonal': 'add'}</td>\n",
       "    </tr>\n",
       "    <tr>\n",
       "      <th>3</th>\n",
       "      <td>0_3</td>\n",
       "      <td>evaluation_metric</td>\n",
       "      <td>1208.252390</td>\n",
       "      <td>0.0</td>\n",
       "      <td>0</td>\n",
       "      <td>{'trend': 'mul', 'seasonal': 'mul'}</td>\n",
       "    </tr>\n",
       "  </tbody>\n",
       "</table>\n",
       "</div>"
      ],
      "text/plain": [
       "  arm_name        metric_name         mean  sem  trial_index  \\\n",
       "0      0_0  evaluation_metric   456.078902  0.0            0   \n",
       "1      0_1  evaluation_metric   391.831152  0.0            0   \n",
       "2      0_2  evaluation_metric   302.772284  0.0            0   \n",
       "3      0_3  evaluation_metric  1208.252390  0.0            0   \n",
       "\n",
       "                            parameters  \n",
       "0  {'trend': 'add', 'seasonal': 'add'}  \n",
       "1  {'trend': 'add', 'seasonal': 'mul'}  \n",
       "2  {'trend': 'mul', 'seasonal': 'add'}  \n",
       "3  {'trend': 'mul', 'seasonal': 'mul'}  "
      ]
     },
     "execution_count": 59,
     "metadata": {},
     "output_type": "execute_result"
    }
   ],
   "source": [
    "\n",
    "hw_tuner = tpt.SearchMethodFactory.create_search_method(\n",
    "    objective_name=\"evaluation_metric\",\n",
    "    parameters=hw_grid_search,\n",
    "    selected_search_method=SearchMethodEnum.GRID_SEARCH,\n",
    ")\n",
    "\n",
    "\n",
    "hw_tuner.generate_evaluate_new_parameter_values(evaluation_function=evaluate_hw)\n",
    "\n",
    "# Retrieve parameter tuning results\n",
    "hw_tuning = (hw_tuner.list_parameter_value_scores())\n",
    "hw_tuning"
   ]
  },
  {
   "cell_type": "code",
   "execution_count": 65,
   "id": "c604ee96",
   "metadata": {},
   "outputs": [
    {
     "name": "stdout",
     "output_type": "stream",
     "text": [
      "[!] Best Model Mean Error: 302.7722835707592 \n",
      "\n",
      "[!] Best Model Params:\n",
      "\t-> {'trend': 'mul', 'seasonal': 'add'}\n",
      "\n",
      "\n",
      "[!] Holt-Winters GridSearch Params: \n",
      "\n",
      "[{'is_ordered': False,\n",
      "  'name': 'trend',\n",
      "  'type': 'choice',\n",
      "  'value_type': 'str',\n",
      "  'values': ['add', 'mul']},\n",
      " {'is_ordered': False,\n",
      "  'name': 'seasonal',\n",
      "  'type': 'choice',\n",
      "  'value_type': 'str',\n",
      "  'values': ['add', 'mul']}]\n"
     ]
    }
   ],
   "source": [
    "idx_min:int     = hw_tuning['mean'].idxmin()\n",
    "record:Series   = hw_tuning.iloc[idx_min,:]\n",
    "\n",
    "mean_error      = record['mean']\n",
    "params:dict     = record['parameters']\n",
    "\n",
    "print(\"[!] Best Model Mean Error: {} \\n\\n[!] Best Model Params:\\n\\t-> {}\".format(mean_error , params))\n",
    "print(\"\\n\\n[!] Holt-Winters GridSearch Params: \\n\")\n",
    "pprint(hw_grid_search)"
   ]
  },
  {
   "cell_type": "code",
   "execution_count": 66,
   "id": "07fb5900",
   "metadata": {},
   "outputs": [],
   "source": [
    "#Fit Prophet\n",
    "def evaluate_prophet(params:dict):\n",
    "    if params['growth'] == 'logistic':\n",
    "        pr_params:ProphetParams = ProphetParams(\n",
    "            growth=params['growth'],\n",
    "            seasonality_mode=params['seasonal'],\n",
    "            cap=2800\n",
    "                    )\n",
    "    else:\n",
    "        pr_params:ProphetParams = ProphetParams(\n",
    "            growth=params['growth'],\n",
    "            seasonality_mode=params['seasonal']\n",
    "                    )\n",
    "\n",
    "    model:ProphetModel          = ProphetModel(data=training_set, params=pr_params)\n",
    "    model.fit()\n",
    "    model_pred:DataFrame        = model.predict(steps=len(test_set) )\n",
    "    error:float                 = np.mean( np.abs( model_pred['fcst'].values - test_set.value.values ) )\n",
    "    \n",
    "    return error"
   ]
  },
  {
   "cell_type": "code",
   "execution_count": 67,
   "id": "2c263092",
   "metadata": {},
   "outputs": [],
   "source": [
    "prophet_grid_search = [\n",
    "{\n",
    "    \"name\": \"growth\",\n",
    "    \"type\": \"choice\",\n",
    "    \"values\": [ 'linear' , 'logistic'],\n",
    "    \"value_type\": \"str\",\n",
    "    \"is_ordered\": False,\n",
    "},\n",
    "{\n",
    "    \"name\": \"seasonal\",\n",
    "    \"type\": \"choice\",\n",
    "    \"values\": [ 'additive' , 'multiplicative'],\n",
    "    \"value_type\": \"str\",\n",
    "    \"is_ordered\": False,\n",
    "}\n",
    "]"
   ]
  },
  {
   "cell_type": "code",
   "execution_count": 72,
   "id": "395c6c49",
   "metadata": {},
   "outputs": [
    {
     "name": "stderr",
     "output_type": "stream",
     "text": [
      "[WARNING 11-06 09:25:34] ax.core.parameter: `sort_values` is not specified for `ChoiceParameter` \"growth\". Defaulting to `False` for parameters of `ParameterType` STRING. To override this behavior (or avoid this warning), specify `sort_values` during `ChoiceParameter` construction.\n",
      "[WARNING 11-06 09:25:34] ax.core.parameter: `sort_values` is not specified for `ChoiceParameter` \"seasonal\". Defaulting to `False` for parameters of `ParameterType` STRING. To override this behavior (or avoid this warning), specify `sort_values` during `ChoiceParameter` construction.\n",
      "[WARNING 11-06 09:25:34] ax.core.parameter: `sort_values` is not specified for `ChoiceParameter` \"growth\". Defaulting to `False` for parameters of `ParameterType` STRING. To override this behavior (or avoid this warning), specify `sort_values` during `ChoiceParameter` construction.\n",
      "[WARNING 11-06 09:25:34] ax.core.parameter: `sort_values` is not specified for `ChoiceParameter` \"seasonal\". Defaulting to `False` for parameters of `ParameterType` STRING. To override this behavior (or avoid this warning), specify `sort_values` during `ChoiceParameter` construction.\n",
      "[WARNING 11-06 09:25:34] ax.core.parameter: `sort_values` is not specified for `ChoiceParameter` \"growth\". Defaulting to `False` for parameters of `ParameterType` STRING. To override this behavior (or avoid this warning), specify `sort_values` during `ChoiceParameter` construction.\n",
      "[WARNING 11-06 09:25:34] ax.core.parameter: `sort_values` is not specified for `ChoiceParameter` \"seasonal\". Defaulting to `False` for parameters of `ParameterType` STRING. To override this behavior (or avoid this warning), specify `sort_values` during `ChoiceParameter` construction.\n",
      "[WARNING 11-06 09:25:34] ax.core.parameter: `sort_values` is not specified for `ChoiceParameter` \"growth\". Defaulting to `False` for parameters of `ParameterType` STRING. To override this behavior (or avoid this warning), specify `sort_values` during `ChoiceParameter` construction.\n",
      "[WARNING 11-06 09:25:34] ax.core.parameter: `sort_values` is not specified for `ChoiceParameter` \"seasonal\". Defaulting to `False` for parameters of `ParameterType` STRING. To override this behavior (or avoid this warning), specify `sort_values` during `ChoiceParameter` construction.\n",
      "[WARNING 11-06 09:25:34] ax.core.parameter: `sort_values` is not specified for `ChoiceParameter` \"growth\". Defaulting to `False` for parameters of `ParameterType` STRING. To override this behavior (or avoid this warning), specify `sort_values` during `ChoiceParameter` construction.\n",
      "[WARNING 11-06 09:25:34] ax.core.parameter: `sort_values` is not specified for `ChoiceParameter` \"seasonal\". Defaulting to `False` for parameters of `ParameterType` STRING. To override this behavior (or avoid this warning), specify `sort_values` during `ChoiceParameter` construction.\n",
      "INFO:fbprophet:Disabling weekly seasonality. Run prophet with weekly_seasonality=True to override this.\n",
      "INFO:fbprophet:Disabling daily seasonality. Run prophet with daily_seasonality=True to override this.\n",
      "INFO:fbprophet:Disabling weekly seasonality. Run prophet with weekly_seasonality=True to override this.\n",
      "INFO:fbprophet:Disabling daily seasonality. Run prophet with daily_seasonality=True to override this.\n",
      "INFO:fbprophet:Disabling weekly seasonality. Run prophet with weekly_seasonality=True to override this.\n",
      "INFO:fbprophet:Disabling daily seasonality. Run prophet with daily_seasonality=True to override this.\n",
      "INFO:fbprophet:Disabling weekly seasonality. Run prophet with weekly_seasonality=True to override this.\n",
      "INFO:fbprophet:Disabling daily seasonality. Run prophet with daily_seasonality=True to override this.\n"
     ]
    },
    {
     "data": {
      "text/html": [
       "<div>\n",
       "<style scoped>\n",
       "    .dataframe tbody tr th:only-of-type {\n",
       "        vertical-align: middle;\n",
       "    }\n",
       "\n",
       "    .dataframe tbody tr th {\n",
       "        vertical-align: top;\n",
       "    }\n",
       "\n",
       "    .dataframe thead th {\n",
       "        text-align: right;\n",
       "    }\n",
       "</style>\n",
       "<table border=\"1\" class=\"dataframe\">\n",
       "  <thead>\n",
       "    <tr style=\"text-align: right;\">\n",
       "      <th></th>\n",
       "      <th>arm_name</th>\n",
       "      <th>metric_name</th>\n",
       "      <th>mean</th>\n",
       "      <th>sem</th>\n",
       "      <th>trial_index</th>\n",
       "      <th>parameters</th>\n",
       "    </tr>\n",
       "  </thead>\n",
       "  <tbody>\n",
       "    <tr>\n",
       "      <th>0</th>\n",
       "      <td>0_0</td>\n",
       "      <td>evaluation_metric</td>\n",
       "      <td>847.776606</td>\n",
       "      <td>0.0</td>\n",
       "      <td>0</td>\n",
       "      <td>{'growth': 'linear', 'seasonal': 'additive'}</td>\n",
       "    </tr>\n",
       "    <tr>\n",
       "      <th>1</th>\n",
       "      <td>0_1</td>\n",
       "      <td>evaluation_metric</td>\n",
       "      <td>847.824852</td>\n",
       "      <td>0.0</td>\n",
       "      <td>0</td>\n",
       "      <td>{'growth': 'linear', 'seasonal': 'multiplicati...</td>\n",
       "    </tr>\n",
       "    <tr>\n",
       "      <th>2</th>\n",
       "      <td>0_2</td>\n",
       "      <td>evaluation_metric</td>\n",
       "      <td>600.830344</td>\n",
       "      <td>0.0</td>\n",
       "      <td>0</td>\n",
       "      <td>{'growth': 'logistic', 'seasonal': 'additive'}</td>\n",
       "    </tr>\n",
       "    <tr>\n",
       "      <th>3</th>\n",
       "      <td>0_3</td>\n",
       "      <td>evaluation_metric</td>\n",
       "      <td>607.117477</td>\n",
       "      <td>0.0</td>\n",
       "      <td>0</td>\n",
       "      <td>{'growth': 'logistic', 'seasonal': 'multiplica...</td>\n",
       "    </tr>\n",
       "  </tbody>\n",
       "</table>\n",
       "</div>"
      ],
      "text/plain": [
       "  arm_name        metric_name        mean  sem  trial_index  \\\n",
       "0      0_0  evaluation_metric  847.776606  0.0            0   \n",
       "1      0_1  evaluation_metric  847.824852  0.0            0   \n",
       "2      0_2  evaluation_metric  600.830344  0.0            0   \n",
       "3      0_3  evaluation_metric  607.117477  0.0            0   \n",
       "\n",
       "                                          parameters  \n",
       "0       {'growth': 'linear', 'seasonal': 'additive'}  \n",
       "1  {'growth': 'linear', 'seasonal': 'multiplicati...  \n",
       "2     {'growth': 'logistic', 'seasonal': 'additive'}  \n",
       "3  {'growth': 'logistic', 'seasonal': 'multiplica...  "
      ]
     },
     "execution_count": 72,
     "metadata": {},
     "output_type": "execute_result"
    }
   ],
   "source": [
    "\n",
    "prophet_tuner = tpt.SearchMethodFactory.create_search_method(\n",
    "    objective_name=\"evaluation_metric\",\n",
    "    parameters=prophet_grid_search,\n",
    "    selected_search_method=SearchMethodEnum.GRID_SEARCH,\n",
    ")\n",
    "\n",
    "\n",
    "prophet_tuner.generate_evaluate_new_parameter_values(evaluation_function=evaluate_prophet)\n",
    "\n",
    "# Retrieve parameter tuning results\n",
    "prophet_tuner = (prophet_tuner.list_parameter_value_scores())\n",
    "prophet_tuner"
   ]
  },
  {
   "cell_type": "code",
   "execution_count": 71,
   "id": "490c71fc",
   "metadata": {},
   "outputs": [
    {
     "name": "stdout",
     "output_type": "stream",
     "text": [
      "[!] Best Model Mean Error: 600.8303436905337 \n",
      "\n",
      "[!] Best Model Params:\n",
      "\t-> {'growth': 'logistic', 'seasonal': 'additive'}\n",
      "\n",
      "\n",
      "[!] Prophet GridSearch Params: \n",
      "\n",
      "[{'is_ordered': False,\n",
      "  'name': 'growth',\n",
      "  'type': 'choice',\n",
      "  'value_type': 'str',\n",
      "  'values': ['linear', 'logistic']},\n",
      " {'is_ordered': False,\n",
      "  'name': 'seasonal',\n",
      "  'type': 'choice',\n",
      "  'value_type': 'str',\n",
      "  'values': ['additive', 'multiplicative']}]\n"
     ]
    }
   ],
   "source": [
    "idx_min:int     = prophet_tuner['mean'].idxmin()\n",
    "record:Series   = prophet_tuner.iloc[idx_min,:]\n",
    "\n",
    "mean_error      = record['mean']\n",
    "params:dict     = record['parameters']\n",
    "\n",
    "print(\"[!] Best Model Mean Error: {} \\n\\n[!] Best Model Params:\\n\\t-> {}\".format(mean_error , params))\n",
    "print(\"\\n\\n[!] Prophet GridSearch Params: \\n\")\n",
    "pprint(prophet_grid_search)"
   ]
  },
  {
   "cell_type": "markdown",
   "id": "45c493f4",
   "metadata": {},
   "source": [
    "#### Models Evaluation - Simple"
   ]
  },
  {
   "cell_type": "code",
   "execution_count": 74,
   "id": "fbc805ed",
   "metadata": {},
   "outputs": [],
   "source": [
    "backtester_errors = {}"
   ]
  },
  {
   "cell_type": "code",
   "execution_count": 75,
   "id": "46ea80b0",
   "metadata": {},
   "outputs": [],
   "source": [
    "params     = SARIMAParams(p=1, d=2, q=2 , seasonal_order=(1,2,1,12))\n",
    "ALL_ERRORS:List[str] = ['mape', 'mae', 'mse', 'rmse']\n",
    "\n",
    "backtester_sarima = BackTesterSimple(\n",
    "    error_methods=ALL_ERRORS,\n",
    "    data=sp_cleaned,\n",
    "    params=params,\n",
    "    train_percentage=80,\n",
    "    test_percentage=20, \n",
    "    model_class=SARIMAModel)\n",
    "\n",
    "backtester_sarima.run_backtest()\n",
    "\n",
    "\n",
    "backtester_errors['sarima'] = {}\n",
    "for error, value in backtester_sarima.errors.items():\n",
    "    backtester_errors['sarima'][error] = value"
   ]
  },
  {
   "cell_type": "code",
   "execution_count": 76,
   "id": "a226eccf",
   "metadata": {},
   "outputs": [
    {
     "name": "stderr",
     "output_type": "stream",
     "text": [
      "INFO:fbprophet:Disabling weekly seasonality. Run prophet with weekly_seasonality=True to override this.\n",
      "INFO:fbprophet:Disabling daily seasonality. Run prophet with daily_seasonality=True to override this.\n"
     ]
    }
   ],
   "source": [
    "params_prophet = ProphetParams(seasonality_mode='additive' , growth='logistic', cap=2800) \n",
    "\n",
    "backtester_prophet = BackTesterSimple(\n",
    "    error_methods=ALL_ERRORS,\n",
    "    data=sp_cleaned,\n",
    "    params=params_prophet,\n",
    "    train_percentage=80,\n",
    "    test_percentage=20, \n",
    "    model_class=ProphetModel)\n",
    "\n",
    "backtester_prophet.run_backtest()\n",
    "\n",
    "backtester_errors['prophet'] = {}\n",
    "for error, value in backtester_prophet.errors.items():\n",
    "    backtester_errors['prophet'][error] = value"
   ]
  },
  {
   "cell_type": "code",
   "execution_count": 77,
   "id": "0ebe70f1",
   "metadata": {},
   "outputs": [],
   "source": [
    "params_hw = HoltWintersParams(trend='mul' ,seasonal='additive' , seasonal_periods=12 ) \n",
    "\n",
    "backtester_prophet = BackTesterSimple(\n",
    "    error_methods=ALL_ERRORS,\n",
    "    data=sp_cleaned,\n",
    "    params=params_hw,\n",
    "    train_percentage=80,\n",
    "    test_percentage=20, \n",
    "    model_class=HoltWintersModel)\n",
    "\n",
    "backtester_prophet.run_backtest()\n",
    "\n",
    "backtester_errors['holt'] = {}\n",
    "for error, value in backtester_prophet.errors.items():\n",
    "    backtester_errors['holt'][error] = value"
   ]
  },
  {
   "cell_type": "code",
   "execution_count": 100,
   "id": "17d655df",
   "metadata": {},
   "outputs": [
    {
     "data": {
      "text/html": [
       "<div>\n",
       "<style scoped>\n",
       "    .dataframe tbody tr th:only-of-type {\n",
       "        vertical-align: middle;\n",
       "    }\n",
       "\n",
       "    .dataframe tbody tr th {\n",
       "        vertical-align: top;\n",
       "    }\n",
       "\n",
       "    .dataframe thead th {\n",
       "        text-align: right;\n",
       "    }\n",
       "</style>\n",
       "<table border=\"1\" class=\"dataframe\">\n",
       "  <thead>\n",
       "    <tr style=\"text-align: right;\">\n",
       "      <th></th>\n",
       "      <th>sarima</th>\n",
       "      <th>prophet</th>\n",
       "      <th>holt</th>\n",
       "    </tr>\n",
       "  </thead>\n",
       "  <tbody>\n",
       "    <tr>\n",
       "      <th>mape</th>\n",
       "      <td>0.186254</td>\n",
       "      <td>0.485578</td>\n",
       "      <td>0.226715</td>\n",
       "    </tr>\n",
       "    <tr>\n",
       "      <th>mae</th>\n",
       "      <td>194.464279</td>\n",
       "      <td>597.744972</td>\n",
       "      <td>300.569592</td>\n",
       "    </tr>\n",
       "    <tr>\n",
       "      <th>mse</th>\n",
       "      <td>67556.226050</td>\n",
       "      <td>499938.338276</td>\n",
       "      <td>158052.014521</td>\n",
       "    </tr>\n",
       "    <tr>\n",
       "      <th>rmse</th>\n",
       "      <td>259.915806</td>\n",
       "      <td>707.063178</td>\n",
       "      <td>397.557561</td>\n",
       "    </tr>\n",
       "  </tbody>\n",
       "</table>\n",
       "</div>"
      ],
      "text/plain": [
       "            sarima        prophet           holt\n",
       "mape      0.186254       0.485578       0.226715\n",
       "mae     194.464279     597.744972     300.569592\n",
       "mse   67556.226050  499938.338276  158052.014521\n",
       "rmse    259.915806     707.063178     397.557561"
      ]
     },
     "execution_count": 100,
     "metadata": {},
     "output_type": "execute_result"
    }
   ],
   "source": [
    "simple_backtest_outcome = pd.DataFrame.from_dict(backtester_errors)\n",
    "simple_backtest_outcome"
   ]
  },
  {
   "cell_type": "code",
   "execution_count": null,
   "id": "23649131",
   "metadata": {},
   "outputs": [
    {
     "data": {
      "image/png": "[encoded data removed]",
      "text/plain": [
       "<Figure size 432x288 with 1 Axes>"
      ]
     },
     "metadata": {
      "needs_background": "light"
     },
     "output_type": "display_data"
    },
    {
     "data": {
      "image/png": "[encoded data removed]",
      "text/plain": [
       "<Figure size 432x288 with 1 Axes>"
      ]
     },
     "metadata": {
      "needs_background": "light"
     },
     "output_type": "display_data"
    },
    {
     "data": {
      "image/png": "[encoded data removed]",
      "text/plain": [
       "<Figure size 432x288 with 1 Axes>"
      ]
     },
     "metadata": {
      "needs_background": "light"
     },
     "output_type": "display_data"
    },
    {
     "data": {
      "image/png": "[encoded data removed]",
      "text/plain": [
       "<Figure size 432x288 with 1 Axes>"
      ]
     },
     "metadata": {
      "needs_background": "light"
     },
     "output_type": "display_data"
    }
   ],
   "source": [
    "#Plot Barplot for Simple Backtest\n",
    "simple_backtest_outcome_numpy = simple_backtest_outcome.to_numpy()\n",
    "\n",
    "plt.bar( [\"SARIMA\" , \"Prophet\" , \"Holt-Winters\"] , simple_backtest_outcome_numpy[0,:] )\n",
    "plt.title(\"Simple BackTest - Models vs MAPE\")\n",
    "plt.show()\n",
    "\n",
    "plt.bar( [\"SARIMA\" , \"Prophet\" , \"Holt-Winters\"] , simple_backtest_outcome_numpy[1,:] )\n",
    "plt.title(\"Simple BackTest - Models vs MAE\")\n",
    "plt.show()\n",
    "\n",
    "plt.bar( [\"SARIMA\" , \"Prophet\" , \"Holt-Winters\"] , simple_backtest_outcome_numpy[2,:] )\n",
    "plt.title(\"Simple BackTest - Models vs MSE\")\n",
    "plt.show()\n",
    "\n",
    "plt.bar( [\"SARIMA\" , \"Prophet\" , \"Holt-Winters\"] , simple_backtest_outcome_numpy[3,:] )\n",
    "plt.title(\"Simple BackTest - Models vs RMSE\")\n",
    "plt.show()\n"
   ]
  },
  {
   "cell_type": "markdown",
   "id": "90783756",
   "metadata": {},
   "source": [
    "Simple Backtest underlines superior SARIMA over other models."
   ]
  },
  {
   "cell_type": "markdown",
   "id": "8cab2de1",
   "metadata": {},
   "source": [
    "#### Model Evaluation - RollingWindow"
   ]
  },
  {
   "cell_type": "code",
   "execution_count": 156,
   "id": "6a5a43e1",
   "metadata": {},
   "outputs": [],
   "source": [
    "rolling_errors:dict = {}"
   ]
  },
  {
   "cell_type": "code",
   "execution_count": 157,
   "id": "1babd6ca",
   "metadata": {},
   "outputs": [
    {
     "name": "stderr",
     "output_type": "stream",
     "text": [
      "INFO:fbprophet:Disabling weekly seasonality. Run prophet with weekly_seasonality=True to override this.\n",
      "INFO:fbprophet:Disabling daily seasonality. Run prophet with daily_seasonality=True to override this.\n",
      "INFO:fbprophet:Disabling weekly seasonality. Run prophet with weekly_seasonality=True to override this.\n",
      "INFO:fbprophet:Disabling daily seasonality. Run prophet with daily_seasonality=True to override this.\n"
     ]
    }
   ],
   "source": [
    "params                  = ProphetParams(seasonality_mode='additive' , growth='logistic', cap=2800) \n",
    "ALL_ERRORS:List[str]    = ['mape', 'mae', 'mse', 'rmse']\n",
    "\n",
    "rolling_prophet = BackTesterRollingWindow(\n",
    "    error_methods=ALL_ERRORS,\n",
    "    data=sp_cleaned,\n",
    "    params=params,\n",
    "    train_percentage=80,\n",
    "    test_percentage=20, \n",
    "    model_class=ProphetModel,\n",
    "    sliding_steps=2)\n",
    "\n",
    "rolling_prophet.run_backtest()\n",
    "\n",
    "\n",
    "rolling_errors['prophet'] = {}\n",
    "for error, value in rolling_prophet.errors.items():\n",
    "    rolling_errors['prophet'][error] = value"
   ]
  },
  {
   "cell_type": "code",
   "execution_count": 162,
   "id": "bb4c290d",
   "metadata": {},
   "outputs": [
    {
     "ename": "KeyboardInterrupt",
     "evalue": "",
     "output_type": "error",
     "traceback": [
      "\u001b[0;31m---------------------------------------------------------------------------\u001b[0m",
      "\u001b[0;31mKeyboardInterrupt\u001b[0m                         Traceback (most recent call last)",
      "\u001b[0;32m<ipython-input-162-37617aeb4810>\u001b[0m in \u001b[0;36m<module>\u001b[0;34m\u001b[0m\n\u001b[1;32m     12\u001b[0m     multi=True)\n\u001b[1;32m     13\u001b[0m \u001b[0;34m\u001b[0m\u001b[0m\n\u001b[0;32m---> 14\u001b[0;31m \u001b[0mrolling_sarima\u001b[0m\u001b[0;34m.\u001b[0m\u001b[0mrun_backtest\u001b[0m\u001b[0;34m(\u001b[0m\u001b[0;34m)\u001b[0m\u001b[0;34m\u001b[0m\u001b[0;34m\u001b[0m\u001b[0m\n\u001b[0m\u001b[1;32m     15\u001b[0m \u001b[0;34m\u001b[0m\u001b[0m\n\u001b[1;32m     16\u001b[0m \u001b[0;34m\u001b[0m\u001b[0m\n",
      "\u001b[0;32m~/programs/anaconda/envs/data_science/lib/python3.7/site-packages/kats/utils/backtesters.py\u001b[0m in \u001b[0;36mrun_backtest\u001b[0;34m(self)\u001b[0m\n\u001b[1;32m    372\u001b[0m         \u001b[0;34m\"\"\"Executes backtest.\"\"\"\u001b[0m\u001b[0;34m\u001b[0m\u001b[0;34m\u001b[0m\u001b[0m\n\u001b[1;32m    373\u001b[0m \u001b[0;34m\u001b[0m\u001b[0m\n\u001b[0;32m--> 374\u001b[0;31m         \u001b[0mself\u001b[0m\u001b[0;34m.\u001b[0m\u001b[0m_build_and_train_models\u001b[0m\u001b[0;34m(\u001b[0m\u001b[0mself\u001b[0m\u001b[0;34m.\u001b[0m\u001b[0m_create_train_test_splits\u001b[0m\u001b[0;34m(\u001b[0m\u001b[0;34m)\u001b[0m\u001b[0;34m)\u001b[0m\u001b[0;34m\u001b[0m\u001b[0;34m\u001b[0m\u001b[0m\n\u001b[0m\u001b[1;32m    375\u001b[0m         \u001b[0mself\u001b[0m\u001b[0;34m.\u001b[0m\u001b[0mcalc_error\u001b[0m\u001b[0;34m(\u001b[0m\u001b[0;34m)\u001b[0m\u001b[0;34m\u001b[0m\u001b[0;34m\u001b[0m\u001b[0m\n\u001b[1;32m    376\u001b[0m \u001b[0;34m\u001b[0m\u001b[0m\n",
      "\u001b[0;32m~/programs/anaconda/envs/data_science/lib/python3.7/site-packages/kats/utils/backtesters.py\u001b[0m in \u001b[0;36m_build_and_train_models\u001b[0;34m(self, splits)\u001b[0m\n\u001b[1;32m    366\u001b[0m                 \u001b[0;32mfor\u001b[0m \u001b[0mtrain_split\u001b[0m\u001b[0;34m,\u001b[0m \u001b[0mtest_split\u001b[0m \u001b[0;32min\u001b[0m \u001b[0mzip\u001b[0m\u001b[0;34m(\u001b[0m\u001b[0mtraining_splits\u001b[0m\u001b[0;34m,\u001b[0m \u001b[0mtesting_splits\u001b[0m\u001b[0;34m)\u001b[0m\u001b[0;34m\u001b[0m\u001b[0;34m\u001b[0m\u001b[0m\n\u001b[1;32m    367\u001b[0m             ]\n\u001b[0;32m--> 368\u001b[0;31m             \u001b[0mself\u001b[0m\u001b[0;34m.\u001b[0m\u001b[0mresults\u001b[0m \u001b[0;34m=\u001b[0m \u001b[0;34m[\u001b[0m\u001b[0mfut\u001b[0m\u001b[0;34m.\u001b[0m\u001b[0mget\u001b[0m\u001b[0;34m(\u001b[0m\u001b[0;34m)\u001b[0m \u001b[0;32mfor\u001b[0m \u001b[0mfut\u001b[0m \u001b[0;32min\u001b[0m \u001b[0mfutures\u001b[0m\u001b[0;34m]\u001b[0m\u001b[0;34m\u001b[0m\u001b[0;34m\u001b[0m\u001b[0m\n\u001b[0m\u001b[1;32m    369\u001b[0m             \u001b[0mpool\u001b[0m\u001b[0;34m.\u001b[0m\u001b[0mclose\u001b[0m\u001b[0;34m(\u001b[0m\u001b[0;34m)\u001b[0m\u001b[0;34m\u001b[0m\u001b[0;34m\u001b[0m\u001b[0m\n\u001b[1;32m    370\u001b[0m \u001b[0;34m\u001b[0m\u001b[0m\n",
      "\u001b[0;32m~/programs/anaconda/envs/data_science/lib/python3.7/site-packages/kats/utils/backtesters.py\u001b[0m in \u001b[0;36m<listcomp>\u001b[0;34m(.0)\u001b[0m\n\u001b[1;32m    366\u001b[0m                 \u001b[0;32mfor\u001b[0m \u001b[0mtrain_split\u001b[0m\u001b[0;34m,\u001b[0m \u001b[0mtest_split\u001b[0m \u001b[0;32min\u001b[0m \u001b[0mzip\u001b[0m\u001b[0;34m(\u001b[0m\u001b[0mtraining_splits\u001b[0m\u001b[0;34m,\u001b[0m \u001b[0mtesting_splits\u001b[0m\u001b[0;34m)\u001b[0m\u001b[0;34m\u001b[0m\u001b[0;34m\u001b[0m\u001b[0m\n\u001b[1;32m    367\u001b[0m             ]\n\u001b[0;32m--> 368\u001b[0;31m             \u001b[0mself\u001b[0m\u001b[0;34m.\u001b[0m\u001b[0mresults\u001b[0m \u001b[0;34m=\u001b[0m \u001b[0;34m[\u001b[0m\u001b[0mfut\u001b[0m\u001b[0;34m.\u001b[0m\u001b[0mget\u001b[0m\u001b[0;34m(\u001b[0m\u001b[0;34m)\u001b[0m \u001b[0;32mfor\u001b[0m \u001b[0mfut\u001b[0m \u001b[0;32min\u001b[0m \u001b[0mfutures\u001b[0m\u001b[0;34m]\u001b[0m\u001b[0;34m\u001b[0m\u001b[0;34m\u001b[0m\u001b[0m\n\u001b[0m\u001b[1;32m    369\u001b[0m             \u001b[0mpool\u001b[0m\u001b[0;34m.\u001b[0m\u001b[0mclose\u001b[0m\u001b[0;34m(\u001b[0m\u001b[0;34m)\u001b[0m\u001b[0;34m\u001b[0m\u001b[0;34m\u001b[0m\u001b[0m\n\u001b[1;32m    370\u001b[0m \u001b[0;34m\u001b[0m\u001b[0m\n",
      "\u001b[0;32m~/programs/anaconda/envs/data_science/lib/python3.7/multiprocessing/pool.py\u001b[0m in \u001b[0;36mget\u001b[0;34m(self, timeout)\u001b[0m\n\u001b[1;32m    649\u001b[0m \u001b[0;34m\u001b[0m\u001b[0m\n\u001b[1;32m    650\u001b[0m     \u001b[0;32mdef\u001b[0m \u001b[0mget\u001b[0m\u001b[0;34m(\u001b[0m\u001b[0mself\u001b[0m\u001b[0;34m,\u001b[0m \u001b[0mtimeout\u001b[0m\u001b[0;34m=\u001b[0m\u001b[0;32mNone\u001b[0m\u001b[0;34m)\u001b[0m\u001b[0;34m:\u001b[0m\u001b[0;34m\u001b[0m\u001b[0;34m\u001b[0m\u001b[0m\n\u001b[0;32m--> 651\u001b[0;31m         \u001b[0mself\u001b[0m\u001b[0;34m.\u001b[0m\u001b[0mwait\u001b[0m\u001b[0;34m(\u001b[0m\u001b[0mtimeout\u001b[0m\u001b[0;34m)\u001b[0m\u001b[0;34m\u001b[0m\u001b[0;34m\u001b[0m\u001b[0m\n\u001b[0m\u001b[1;32m    652\u001b[0m         \u001b[0;32mif\u001b[0m \u001b[0;32mnot\u001b[0m \u001b[0mself\u001b[0m\u001b[0;34m.\u001b[0m\u001b[0mready\u001b[0m\u001b[0;34m(\u001b[0m\u001b[0;34m)\u001b[0m\u001b[0;34m:\u001b[0m\u001b[0;34m\u001b[0m\u001b[0;34m\u001b[0m\u001b[0m\n\u001b[1;32m    653\u001b[0m             \u001b[0;32mraise\u001b[0m \u001b[0mTimeoutError\u001b[0m\u001b[0;34m\u001b[0m\u001b[0;34m\u001b[0m\u001b[0m\n",
      "\u001b[0;32m~/programs/anaconda/envs/data_science/lib/python3.7/multiprocessing/pool.py\u001b[0m in \u001b[0;36mwait\u001b[0;34m(self, timeout)\u001b[0m\n\u001b[1;32m    646\u001b[0m \u001b[0;34m\u001b[0m\u001b[0m\n\u001b[1;32m    647\u001b[0m     \u001b[0;32mdef\u001b[0m \u001b[0mwait\u001b[0m\u001b[0;34m(\u001b[0m\u001b[0mself\u001b[0m\u001b[0;34m,\u001b[0m \u001b[0mtimeout\u001b[0m\u001b[0;34m=\u001b[0m\u001b[0;32mNone\u001b[0m\u001b[0;34m)\u001b[0m\u001b[0;34m:\u001b[0m\u001b[0;34m\u001b[0m\u001b[0;34m\u001b[0m\u001b[0m\n\u001b[0;32m--> 648\u001b[0;31m         \u001b[0mself\u001b[0m\u001b[0;34m.\u001b[0m\u001b[0m_event\u001b[0m\u001b[0;34m.\u001b[0m\u001b[0mwait\u001b[0m\u001b[0;34m(\u001b[0m\u001b[0mtimeout\u001b[0m\u001b[0;34m)\u001b[0m\u001b[0;34m\u001b[0m\u001b[0;34m\u001b[0m\u001b[0m\n\u001b[0m\u001b[1;32m    649\u001b[0m \u001b[0;34m\u001b[0m\u001b[0m\n\u001b[1;32m    650\u001b[0m     \u001b[0;32mdef\u001b[0m \u001b[0mget\u001b[0m\u001b[0;34m(\u001b[0m\u001b[0mself\u001b[0m\u001b[0;34m,\u001b[0m \u001b[0mtimeout\u001b[0m\u001b[0;34m=\u001b[0m\u001b[0;32mNone\u001b[0m\u001b[0;34m)\u001b[0m\u001b[0;34m:\u001b[0m\u001b[0;34m\u001b[0m\u001b[0;34m\u001b[0m\u001b[0m\n",
      "\u001b[0;32m~/programs/anaconda/envs/data_science/lib/python3.7/threading.py\u001b[0m in \u001b[0;36mwait\u001b[0;34m(self, timeout)\u001b[0m\n\u001b[1;32m    550\u001b[0m             \u001b[0msignaled\u001b[0m \u001b[0;34m=\u001b[0m \u001b[0mself\u001b[0m\u001b[0;34m.\u001b[0m\u001b[0m_flag\u001b[0m\u001b[0;34m\u001b[0m\u001b[0;34m\u001b[0m\u001b[0m\n\u001b[1;32m    551\u001b[0m             \u001b[0;32mif\u001b[0m \u001b[0;32mnot\u001b[0m \u001b[0msignaled\u001b[0m\u001b[0;34m:\u001b[0m\u001b[0;34m\u001b[0m\u001b[0;34m\u001b[0m\u001b[0m\n\u001b[0;32m--> 552\u001b[0;31m                 \u001b[0msignaled\u001b[0m \u001b[0;34m=\u001b[0m \u001b[0mself\u001b[0m\u001b[0;34m.\u001b[0m\u001b[0m_cond\u001b[0m\u001b[0;34m.\u001b[0m\u001b[0mwait\u001b[0m\u001b[0;34m(\u001b[0m\u001b[0mtimeout\u001b[0m\u001b[0;34m)\u001b[0m\u001b[0;34m\u001b[0m\u001b[0;34m\u001b[0m\u001b[0m\n\u001b[0m\u001b[1;32m    553\u001b[0m             \u001b[0;32mreturn\u001b[0m \u001b[0msignaled\u001b[0m\u001b[0;34m\u001b[0m\u001b[0;34m\u001b[0m\u001b[0m\n\u001b[1;32m    554\u001b[0m \u001b[0;34m\u001b[0m\u001b[0m\n",
      "\u001b[0;32m~/programs/anaconda/envs/data_science/lib/python3.7/threading.py\u001b[0m in \u001b[0;36mwait\u001b[0;34m(self, timeout)\u001b[0m\n\u001b[1;32m    294\u001b[0m         \u001b[0;32mtry\u001b[0m\u001b[0;34m:\u001b[0m    \u001b[0;31m# restore state no matter what (e.g., KeyboardInterrupt)\u001b[0m\u001b[0;34m\u001b[0m\u001b[0;34m\u001b[0m\u001b[0m\n\u001b[1;32m    295\u001b[0m             \u001b[0;32mif\u001b[0m \u001b[0mtimeout\u001b[0m \u001b[0;32mis\u001b[0m \u001b[0;32mNone\u001b[0m\u001b[0;34m:\u001b[0m\u001b[0;34m\u001b[0m\u001b[0;34m\u001b[0m\u001b[0m\n\u001b[0;32m--> 296\u001b[0;31m                 \u001b[0mwaiter\u001b[0m\u001b[0;34m.\u001b[0m\u001b[0macquire\u001b[0m\u001b[0;34m(\u001b[0m\u001b[0;34m)\u001b[0m\u001b[0;34m\u001b[0m\u001b[0;34m\u001b[0m\u001b[0m\n\u001b[0m\u001b[1;32m    297\u001b[0m                 \u001b[0mgotit\u001b[0m \u001b[0;34m=\u001b[0m \u001b[0;32mTrue\u001b[0m\u001b[0;34m\u001b[0m\u001b[0;34m\u001b[0m\u001b[0m\n\u001b[1;32m    298\u001b[0m             \u001b[0;32melse\u001b[0m\u001b[0;34m:\u001b[0m\u001b[0;34m\u001b[0m\u001b[0;34m\u001b[0m\u001b[0m\n",
      "\u001b[0;31mKeyboardInterrupt\u001b[0m: "
     ]
    }
   ],
   "source": [
    "params     = SARIMAParams(p=1, d=2, q=2 , seasonal_order=(1,2,1,12))\n",
    "ALL_ERRORS:List[str] = ['mape', 'mae', 'mse', 'rmse']\n",
    "\n",
    "rolling_sarima = BackTesterRollingWindow(\n",
    "    error_methods=ALL_ERRORS,\n",
    "    data=sp_cleaned,\n",
    "    params=params,\n",
    "    train_percentage=80,\n",
    "    test_percentage=20, \n",
    "    model_class=SARIMAModel,\n",
    "    sliding_steps=2,\n",
    "    multi=True)\n",
    "\n",
    "rolling_sarima.run_backtest()\n",
    "\n",
    "\n",
    "rolling_errors['sarima'] = {}\n",
    "for error, value in rolling_sarima.errors.items():\n",
    "    rolling_errors['sarima'][error] = value"
   ]
  },
  {
   "cell_type": "code",
   "execution_count": 158,
   "id": "627a22a1",
   "metadata": {},
   "outputs": [],
   "source": [
    "params = HoltWintersParams(trend='mul' ,seasonal='additive' , seasonal_periods=12 ) \n",
    "ALL_ERRORS:List[str] = ['mape', 'mae', 'mse', 'rmse']\n",
    "\n",
    "rolling_hw = BackTesterRollingWindow(\n",
    "    error_methods=ALL_ERRORS,\n",
    "    data=sp_cleaned,\n",
    "    params=params,\n",
    "    train_percentage=80,\n",
    "    test_percentage=20, \n",
    "    model_class=HoltWintersModel,\n",
    "    sliding_steps=2)\n",
    "\n",
    "rolling_hw.run_backtest()\n",
    "\n",
    "\n",
    "rolling_errors['holt'] = {}\n",
    "for error, value in rolling_hw.errors.items():\n",
    "    rolling_errors['holt'][error] = value"
   ]
  },
  {
   "cell_type": "code",
   "execution_count": 114,
   "id": "9fce60ab",
   "metadata": {},
   "outputs": [
    {
     "data": {
      "text/html": [
       "<div>\n",
       "<style scoped>\n",
       "    .dataframe tbody tr th:only-of-type {\n",
       "        vertical-align: middle;\n",
       "    }\n",
       "\n",
       "    .dataframe tbody tr th {\n",
       "        vertical-align: top;\n",
       "    }\n",
       "\n",
       "    .dataframe thead th {\n",
       "        text-align: right;\n",
       "    }\n",
       "</style>\n",
       "<table border=\"1\" class=\"dataframe\">\n",
       "  <thead>\n",
       "    <tr style=\"text-align: right;\">\n",
       "      <th></th>\n",
       "      <th>prophet</th>\n",
       "      <th>holt</th>\n",
       "    </tr>\n",
       "  </thead>\n",
       "  <tbody>\n",
       "    <tr>\n",
       "      <th>mape</th>\n",
       "      <td>0.484758</td>\n",
       "      <td>0.180284</td>\n",
       "    </tr>\n",
       "    <tr>\n",
       "      <th>mae</th>\n",
       "      <td>598.433972</td>\n",
       "      <td>236.814092</td>\n",
       "    </tr>\n",
       "    <tr>\n",
       "      <th>mse</th>\n",
       "      <td>501522.203179</td>\n",
       "      <td>107827.740297</td>\n",
       "    </tr>\n",
       "    <tr>\n",
       "      <th>rmse</th>\n",
       "      <td>708.181441</td>\n",
       "      <td>318.782391</td>\n",
       "    </tr>\n",
       "  </tbody>\n",
       "</table>\n",
       "</div>"
      ],
      "text/plain": [
       "            prophet           holt\n",
       "mape       0.484758       0.180284\n",
       "mae      598.433972     236.814092\n",
       "mse   501522.203179  107827.740297\n",
       "rmse     708.181441     318.782391"
      ]
     },
     "execution_count": 114,
     "metadata": {},
     "output_type": "execute_result"
    }
   ],
   "source": [
    "rolling_backtest_outcome = pd.DataFrame.from_dict(rolling_errors)\n",
    "rolling_backtest_outcome"
   ]
  },
  {
   "cell_type": "code",
   "execution_count": 163,
   "id": "c01fe761",
   "metadata": {},
   "outputs": [
    {
     "ename": "ValueError",
     "evalue": "shape mismatch: objects cannot be broadcast to a single shape",
     "output_type": "error",
     "traceback": [
      "\u001b[0;31m---------------------------------------------------------------------------\u001b[0m",
      "\u001b[0;31mValueError\u001b[0m                                Traceback (most recent call last)",
      "\u001b[0;32m<ipython-input-163-b5eecbfaf253>\u001b[0m in \u001b[0;36m<module>\u001b[0;34m\u001b[0m\n\u001b[1;32m      2\u001b[0m \u001b[0mrolling_backtest_outcome_numpy\u001b[0m \u001b[0;34m=\u001b[0m \u001b[0mrolling_backtest_outcome\u001b[0m\u001b[0;34m.\u001b[0m\u001b[0mto_numpy\u001b[0m\u001b[0;34m(\u001b[0m\u001b[0;34m)\u001b[0m\u001b[0;34m\u001b[0m\u001b[0;34m\u001b[0m\u001b[0m\n\u001b[1;32m      3\u001b[0m \u001b[0;34m\u001b[0m\u001b[0m\n\u001b[0;32m----> 4\u001b[0;31m \u001b[0mplt\u001b[0m\u001b[0;34m.\u001b[0m\u001b[0mbar\u001b[0m\u001b[0;34m(\u001b[0m \u001b[0;34m[\u001b[0m\u001b[0;34m\"SARIMA\"\u001b[0m \u001b[0;34m,\u001b[0m \u001b[0;34m\"Prophet\"\u001b[0m \u001b[0;34m,\u001b[0m \u001b[0;34m\"Holt-Winters\"\u001b[0m\u001b[0;34m]\u001b[0m \u001b[0;34m,\u001b[0m \u001b[0mrolling_backtest_outcome_numpy\u001b[0m\u001b[0;34m[\u001b[0m\u001b[0;36m0\u001b[0m\u001b[0;34m,\u001b[0m\u001b[0;34m:\u001b[0m\u001b[0;34m]\u001b[0m \u001b[0;34m)\u001b[0m\u001b[0;34m\u001b[0m\u001b[0;34m\u001b[0m\u001b[0m\n\u001b[0m\u001b[1;32m      5\u001b[0m \u001b[0mplt\u001b[0m\u001b[0;34m.\u001b[0m\u001b[0mtitle\u001b[0m\u001b[0;34m(\u001b[0m\u001b[0;34m\"Rolling BackTest - Models vs MAPE\"\u001b[0m\u001b[0;34m)\u001b[0m\u001b[0;34m\u001b[0m\u001b[0;34m\u001b[0m\u001b[0m\n\u001b[1;32m      6\u001b[0m \u001b[0mplt\u001b[0m\u001b[0;34m.\u001b[0m\u001b[0mshow\u001b[0m\u001b[0;34m(\u001b[0m\u001b[0;34m)\u001b[0m\u001b[0;34m\u001b[0m\u001b[0;34m\u001b[0m\u001b[0m\n",
      "\u001b[0;32m~/programs/anaconda/envs/data_science/lib/python3.7/site-packages/matplotlib/pyplot.py\u001b[0m in \u001b[0;36mbar\u001b[0;34m(x, height, width, bottom, align, data, **kwargs)\u001b[0m\n\u001b[1;32m   2487\u001b[0m     return gca().bar(\n\u001b[1;32m   2488\u001b[0m         \u001b[0mx\u001b[0m\u001b[0;34m,\u001b[0m \u001b[0mheight\u001b[0m\u001b[0;34m,\u001b[0m \u001b[0mwidth\u001b[0m\u001b[0;34m=\u001b[0m\u001b[0mwidth\u001b[0m\u001b[0;34m,\u001b[0m \u001b[0mbottom\u001b[0m\u001b[0;34m=\u001b[0m\u001b[0mbottom\u001b[0m\u001b[0;34m,\u001b[0m \u001b[0malign\u001b[0m\u001b[0;34m=\u001b[0m\u001b[0malign\u001b[0m\u001b[0;34m,\u001b[0m\u001b[0;34m\u001b[0m\u001b[0;34m\u001b[0m\u001b[0m\n\u001b[0;32m-> 2489\u001b[0;31m         **({\"data\": data} if data is not None else {}), **kwargs)\n\u001b[0m\u001b[1;32m   2490\u001b[0m \u001b[0;34m\u001b[0m\u001b[0m\n\u001b[1;32m   2491\u001b[0m \u001b[0;34m\u001b[0m\u001b[0m\n",
      "\u001b[0;32m~/programs/anaconda/envs/data_science/lib/python3.7/site-packages/matplotlib/__init__.py\u001b[0m in \u001b[0;36minner\u001b[0;34m(ax, data, *args, **kwargs)\u001b[0m\n\u001b[1;32m   1445\u001b[0m     \u001b[0;32mdef\u001b[0m \u001b[0minner\u001b[0m\u001b[0;34m(\u001b[0m\u001b[0max\u001b[0m\u001b[0;34m,\u001b[0m \u001b[0;34m*\u001b[0m\u001b[0margs\u001b[0m\u001b[0;34m,\u001b[0m \u001b[0mdata\u001b[0m\u001b[0;34m=\u001b[0m\u001b[0;32mNone\u001b[0m\u001b[0;34m,\u001b[0m \u001b[0;34m**\u001b[0m\u001b[0mkwargs\u001b[0m\u001b[0;34m)\u001b[0m\u001b[0;34m:\u001b[0m\u001b[0;34m\u001b[0m\u001b[0;34m\u001b[0m\u001b[0m\n\u001b[1;32m   1446\u001b[0m         \u001b[0;32mif\u001b[0m \u001b[0mdata\u001b[0m \u001b[0;32mis\u001b[0m \u001b[0;32mNone\u001b[0m\u001b[0;34m:\u001b[0m\u001b[0;34m\u001b[0m\u001b[0;34m\u001b[0m\u001b[0m\n\u001b[0;32m-> 1447\u001b[0;31m             \u001b[0;32mreturn\u001b[0m \u001b[0mfunc\u001b[0m\u001b[0;34m(\u001b[0m\u001b[0max\u001b[0m\u001b[0;34m,\u001b[0m \u001b[0;34m*\u001b[0m\u001b[0mmap\u001b[0m\u001b[0;34m(\u001b[0m\u001b[0msanitize_sequence\u001b[0m\u001b[0;34m,\u001b[0m \u001b[0margs\u001b[0m\u001b[0;34m)\u001b[0m\u001b[0;34m,\u001b[0m \u001b[0;34m**\u001b[0m\u001b[0mkwargs\u001b[0m\u001b[0;34m)\u001b[0m\u001b[0;34m\u001b[0m\u001b[0;34m\u001b[0m\u001b[0m\n\u001b[0m\u001b[1;32m   1448\u001b[0m \u001b[0;34m\u001b[0m\u001b[0m\n\u001b[1;32m   1449\u001b[0m         \u001b[0mbound\u001b[0m \u001b[0;34m=\u001b[0m \u001b[0mnew_sig\u001b[0m\u001b[0;34m.\u001b[0m\u001b[0mbind\u001b[0m\u001b[0;34m(\u001b[0m\u001b[0max\u001b[0m\u001b[0;34m,\u001b[0m \u001b[0;34m*\u001b[0m\u001b[0margs\u001b[0m\u001b[0;34m,\u001b[0m \u001b[0;34m**\u001b[0m\u001b[0mkwargs\u001b[0m\u001b[0;34m)\u001b[0m\u001b[0;34m\u001b[0m\u001b[0;34m\u001b[0m\u001b[0m\n",
      "\u001b[0;32m~/programs/anaconda/envs/data_science/lib/python3.7/site-packages/matplotlib/axes/_axes.py\u001b[0m in \u001b[0;36mbar\u001b[0;34m(self, x, height, width, bottom, align, **kwargs)\u001b[0m\n\u001b[1;32m   2430\u001b[0m         x, height, width, y, linewidth = np.broadcast_arrays(\n\u001b[1;32m   2431\u001b[0m             \u001b[0;31m# Make args iterable too.\u001b[0m\u001b[0;34m\u001b[0m\u001b[0;34m\u001b[0m\u001b[0;34m\u001b[0m\u001b[0m\n\u001b[0;32m-> 2432\u001b[0;31m             np.atleast_1d(x), height, width, y, linewidth)\n\u001b[0m\u001b[1;32m   2433\u001b[0m \u001b[0;34m\u001b[0m\u001b[0m\n\u001b[1;32m   2434\u001b[0m         \u001b[0;31m# Now that units have been converted, set the tick locations.\u001b[0m\u001b[0;34m\u001b[0m\u001b[0;34m\u001b[0m\u001b[0;34m\u001b[0m\u001b[0m\n",
      "\u001b[0;32m<__array_function__ internals>\u001b[0m in \u001b[0;36mbroadcast_arrays\u001b[0;34m(*args, **kwargs)\u001b[0m\n",
      "\u001b[0;32m~/programs/anaconda/envs/data_science/lib/python3.7/site-packages/numpy/lib/stride_tricks.py\u001b[0m in \u001b[0;36mbroadcast_arrays\u001b[0;34m(subok, *args)\u001b[0m\n\u001b[1;32m    256\u001b[0m     \u001b[0margs\u001b[0m \u001b[0;34m=\u001b[0m \u001b[0;34m[\u001b[0m\u001b[0mnp\u001b[0m\u001b[0;34m.\u001b[0m\u001b[0marray\u001b[0m\u001b[0;34m(\u001b[0m\u001b[0m_m\u001b[0m\u001b[0;34m,\u001b[0m \u001b[0mcopy\u001b[0m\u001b[0;34m=\u001b[0m\u001b[0;32mFalse\u001b[0m\u001b[0;34m,\u001b[0m \u001b[0msubok\u001b[0m\u001b[0;34m=\u001b[0m\u001b[0msubok\u001b[0m\u001b[0;34m)\u001b[0m \u001b[0;32mfor\u001b[0m \u001b[0m_m\u001b[0m \u001b[0;32min\u001b[0m \u001b[0margs\u001b[0m\u001b[0;34m]\u001b[0m\u001b[0;34m\u001b[0m\u001b[0;34m\u001b[0m\u001b[0m\n\u001b[1;32m    257\u001b[0m \u001b[0;34m\u001b[0m\u001b[0m\n\u001b[0;32m--> 258\u001b[0;31m     \u001b[0mshape\u001b[0m \u001b[0;34m=\u001b[0m \u001b[0m_broadcast_shape\u001b[0m\u001b[0;34m(\u001b[0m\u001b[0;34m*\u001b[0m\u001b[0margs\u001b[0m\u001b[0;34m)\u001b[0m\u001b[0;34m\u001b[0m\u001b[0;34m\u001b[0m\u001b[0m\n\u001b[0m\u001b[1;32m    259\u001b[0m \u001b[0;34m\u001b[0m\u001b[0m\n\u001b[1;32m    260\u001b[0m     \u001b[0;32mif\u001b[0m \u001b[0mall\u001b[0m\u001b[0;34m(\u001b[0m\u001b[0marray\u001b[0m\u001b[0;34m.\u001b[0m\u001b[0mshape\u001b[0m \u001b[0;34m==\u001b[0m \u001b[0mshape\u001b[0m \u001b[0;32mfor\u001b[0m \u001b[0marray\u001b[0m \u001b[0;32min\u001b[0m \u001b[0margs\u001b[0m\u001b[0;34m)\u001b[0m\u001b[0;34m:\u001b[0m\u001b[0;34m\u001b[0m\u001b[0;34m\u001b[0m\u001b[0m\n",
      "\u001b[0;32m~/programs/anaconda/envs/data_science/lib/python3.7/site-packages/numpy/lib/stride_tricks.py\u001b[0m in \u001b[0;36m_broadcast_shape\u001b[0;34m(*args)\u001b[0m\n\u001b[1;32m    187\u001b[0m     \u001b[0;31m# use the old-iterator because np.nditer does not handle size 0 arrays\u001b[0m\u001b[0;34m\u001b[0m\u001b[0;34m\u001b[0m\u001b[0;34m\u001b[0m\u001b[0m\n\u001b[1;32m    188\u001b[0m     \u001b[0;31m# consistently\u001b[0m\u001b[0;34m\u001b[0m\u001b[0;34m\u001b[0m\u001b[0;34m\u001b[0m\u001b[0m\n\u001b[0;32m--> 189\u001b[0;31m     \u001b[0mb\u001b[0m \u001b[0;34m=\u001b[0m \u001b[0mnp\u001b[0m\u001b[0;34m.\u001b[0m\u001b[0mbroadcast\u001b[0m\u001b[0;34m(\u001b[0m\u001b[0;34m*\u001b[0m\u001b[0margs\u001b[0m\u001b[0;34m[\u001b[0m\u001b[0;34m:\u001b[0m\u001b[0;36m32\u001b[0m\u001b[0;34m]\u001b[0m\u001b[0;34m)\u001b[0m\u001b[0;34m\u001b[0m\u001b[0;34m\u001b[0m\u001b[0m\n\u001b[0m\u001b[1;32m    190\u001b[0m     \u001b[0;31m# unfortunately, it cannot handle 32 or more arguments directly\u001b[0m\u001b[0;34m\u001b[0m\u001b[0;34m\u001b[0m\u001b[0;34m\u001b[0m\u001b[0m\n\u001b[1;32m    191\u001b[0m     \u001b[0;32mfor\u001b[0m \u001b[0mpos\u001b[0m \u001b[0;32min\u001b[0m \u001b[0mrange\u001b[0m\u001b[0;34m(\u001b[0m\u001b[0;36m32\u001b[0m\u001b[0;34m,\u001b[0m \u001b[0mlen\u001b[0m\u001b[0;34m(\u001b[0m\u001b[0margs\u001b[0m\u001b[0;34m)\u001b[0m\u001b[0;34m,\u001b[0m \u001b[0;36m31\u001b[0m\u001b[0;34m)\u001b[0m\u001b[0;34m:\u001b[0m\u001b[0;34m\u001b[0m\u001b[0;34m\u001b[0m\u001b[0m\n",
      "\u001b[0;31mValueError\u001b[0m: shape mismatch: objects cannot be broadcast to a single shape"
     ]
    },
    {
     "data": {
      "image/png": "[encoded data removed]",
      "text/plain": [
       "<Figure size 432x288 with 1 Axes>"
      ]
     },
     "metadata": {
      "needs_background": "light"
     },
     "output_type": "display_data"
    }
   ],
   "source": [
    "#Plotting Errors for Rolling Backtest\n",
    "rolling_backtest_outcome_numpy = rolling_backtest_outcome.to_numpy()\n",
    "\n",
    "plt.bar( [\"SARIMA\" , \"Prophet\" , \"Holt-Winters\"] , rolling_backtest_outcome_numpy[0,:] )\n",
    "plt.title(\"Rolling BackTest - Models vs MAPE\")\n",
    "plt.show()\n",
    "\n",
    "plt.bar( [\"SARIMA\" , \"Prophet\" , \"Holt-Winters\"] , rolling_backtest_outcome_numpy[1,:] )\n",
    "plt.title(\"Rolling BackTest - Models vs MAE\")\n",
    "plt.show()\n",
    "\n",
    "plt.bar( [\"SARIMA\" , \"Prophet\" , \"Holt-Winters\"] , rolling_backtest_outcome_numpy[2,:] )\n",
    "plt.title(\"Rolling BackTest - Models vs MSE\")\n",
    "plt.show()\n",
    "\n",
    "plt.bar( [\"SARIMA\" , \"Prophet\" , \"Holt-Winters\"] , rolling_backtest_outcome_numpy[3,:] )\n",
    "plt.title(\"Rolling BackTest - Models vs RMSE\")\n",
    "plt.show()\n"
   ]
  },
  {
   "cell_type": "markdown",
   "id": "a3827525",
   "metadata": {},
   "source": [
    "#### Models Evaluation - Expanding Window"
   ]
  },
  {
   "cell_type": "code",
   "execution_count": 159,
   "id": "8dc934c1",
   "metadata": {},
   "outputs": [],
   "source": [
    "exp_errors:dict = {}"
   ]
  },
  {
   "cell_type": "code",
   "execution_count": 155,
   "id": "b30d7a18",
   "metadata": {},
   "outputs": [
    {
     "ename": "KeyboardInterrupt",
     "evalue": "",
     "output_type": "error",
     "traceback": [
      "\u001b[0;31m---------------------------------------------------------------------------\u001b[0m",
      "\u001b[0;31mKeyboardInterrupt\u001b[0m                         Traceback (most recent call last)",
      "\u001b[0;32m<ipython-input-155-f27bf120c7b7>\u001b[0m in \u001b[0;36m<module>\u001b[0;34m\u001b[0m\n\u001b[1;32m     13\u001b[0m     multi=True)\n\u001b[1;32m     14\u001b[0m \u001b[0;34m\u001b[0m\u001b[0m\n\u001b[0;32m---> 15\u001b[0;31m \u001b[0mexp_sarima\u001b[0m\u001b[0;34m.\u001b[0m\u001b[0mrun_backtest\u001b[0m\u001b[0;34m(\u001b[0m\u001b[0;34m)\u001b[0m\u001b[0;34m\u001b[0m\u001b[0;34m\u001b[0m\u001b[0m\n\u001b[0m\u001b[1;32m     16\u001b[0m \u001b[0;34m\u001b[0m\u001b[0m\n\u001b[1;32m     17\u001b[0m \u001b[0;34m\u001b[0m\u001b[0m\n",
      "\u001b[0;32m~/programs/anaconda/envs/data_science/lib/python3.7/site-packages/kats/utils/backtesters.py\u001b[0m in \u001b[0;36mrun_backtest\u001b[0;34m(self)\u001b[0m\n\u001b[1;32m    372\u001b[0m         \u001b[0;34m\"\"\"Executes backtest.\"\"\"\u001b[0m\u001b[0;34m\u001b[0m\u001b[0;34m\u001b[0m\u001b[0m\n\u001b[1;32m    373\u001b[0m \u001b[0;34m\u001b[0m\u001b[0m\n\u001b[0;32m--> 374\u001b[0;31m         \u001b[0mself\u001b[0m\u001b[0;34m.\u001b[0m\u001b[0m_build_and_train_models\u001b[0m\u001b[0;34m(\u001b[0m\u001b[0mself\u001b[0m\u001b[0;34m.\u001b[0m\u001b[0m_create_train_test_splits\u001b[0m\u001b[0;34m(\u001b[0m\u001b[0;34m)\u001b[0m\u001b[0;34m)\u001b[0m\u001b[0;34m\u001b[0m\u001b[0;34m\u001b[0m\u001b[0m\n\u001b[0m\u001b[1;32m    375\u001b[0m         \u001b[0mself\u001b[0m\u001b[0;34m.\u001b[0m\u001b[0mcalc_error\u001b[0m\u001b[0;34m(\u001b[0m\u001b[0;34m)\u001b[0m\u001b[0;34m\u001b[0m\u001b[0;34m\u001b[0m\u001b[0m\n\u001b[1;32m    376\u001b[0m \u001b[0;34m\u001b[0m\u001b[0m\n",
      "\u001b[0;32m~/programs/anaconda/envs/data_science/lib/python3.7/site-packages/kats/utils/backtesters.py\u001b[0m in \u001b[0;36m_build_and_train_models\u001b[0;34m(self, splits)\u001b[0m\n\u001b[1;32m    366\u001b[0m                 \u001b[0;32mfor\u001b[0m \u001b[0mtrain_split\u001b[0m\u001b[0;34m,\u001b[0m \u001b[0mtest_split\u001b[0m \u001b[0;32min\u001b[0m \u001b[0mzip\u001b[0m\u001b[0;34m(\u001b[0m\u001b[0mtraining_splits\u001b[0m\u001b[0;34m,\u001b[0m \u001b[0mtesting_splits\u001b[0m\u001b[0;34m)\u001b[0m\u001b[0;34m\u001b[0m\u001b[0;34m\u001b[0m\u001b[0m\n\u001b[1;32m    367\u001b[0m             ]\n\u001b[0;32m--> 368\u001b[0;31m             \u001b[0mself\u001b[0m\u001b[0;34m.\u001b[0m\u001b[0mresults\u001b[0m \u001b[0;34m=\u001b[0m \u001b[0;34m[\u001b[0m\u001b[0mfut\u001b[0m\u001b[0;34m.\u001b[0m\u001b[0mget\u001b[0m\u001b[0;34m(\u001b[0m\u001b[0;34m)\u001b[0m \u001b[0;32mfor\u001b[0m \u001b[0mfut\u001b[0m \u001b[0;32min\u001b[0m \u001b[0mfutures\u001b[0m\u001b[0;34m]\u001b[0m\u001b[0;34m\u001b[0m\u001b[0;34m\u001b[0m\u001b[0m\n\u001b[0m\u001b[1;32m    369\u001b[0m             \u001b[0mpool\u001b[0m\u001b[0;34m.\u001b[0m\u001b[0mclose\u001b[0m\u001b[0;34m(\u001b[0m\u001b[0;34m)\u001b[0m\u001b[0;34m\u001b[0m\u001b[0;34m\u001b[0m\u001b[0m\n\u001b[1;32m    370\u001b[0m \u001b[0;34m\u001b[0m\u001b[0m\n",
      "\u001b[0;32m~/programs/anaconda/envs/data_science/lib/python3.7/site-packages/kats/utils/backtesters.py\u001b[0m in \u001b[0;36m<listcomp>\u001b[0;34m(.0)\u001b[0m\n\u001b[1;32m    366\u001b[0m                 \u001b[0;32mfor\u001b[0m \u001b[0mtrain_split\u001b[0m\u001b[0;34m,\u001b[0m \u001b[0mtest_split\u001b[0m \u001b[0;32min\u001b[0m \u001b[0mzip\u001b[0m\u001b[0;34m(\u001b[0m\u001b[0mtraining_splits\u001b[0m\u001b[0;34m,\u001b[0m \u001b[0mtesting_splits\u001b[0m\u001b[0;34m)\u001b[0m\u001b[0;34m\u001b[0m\u001b[0;34m\u001b[0m\u001b[0m\n\u001b[1;32m    367\u001b[0m             ]\n\u001b[0;32m--> 368\u001b[0;31m             \u001b[0mself\u001b[0m\u001b[0;34m.\u001b[0m\u001b[0mresults\u001b[0m \u001b[0;34m=\u001b[0m \u001b[0;34m[\u001b[0m\u001b[0mfut\u001b[0m\u001b[0;34m.\u001b[0m\u001b[0mget\u001b[0m\u001b[0;34m(\u001b[0m\u001b[0;34m)\u001b[0m \u001b[0;32mfor\u001b[0m \u001b[0mfut\u001b[0m \u001b[0;32min\u001b[0m \u001b[0mfutures\u001b[0m\u001b[0;34m]\u001b[0m\u001b[0;34m\u001b[0m\u001b[0;34m\u001b[0m\u001b[0m\n\u001b[0m\u001b[1;32m    369\u001b[0m             \u001b[0mpool\u001b[0m\u001b[0;34m.\u001b[0m\u001b[0mclose\u001b[0m\u001b[0;34m(\u001b[0m\u001b[0;34m)\u001b[0m\u001b[0;34m\u001b[0m\u001b[0;34m\u001b[0m\u001b[0m\n\u001b[1;32m    370\u001b[0m \u001b[0;34m\u001b[0m\u001b[0m\n",
      "\u001b[0;32m~/programs/anaconda/envs/data_science/lib/python3.7/multiprocessing/pool.py\u001b[0m in \u001b[0;36mget\u001b[0;34m(self, timeout)\u001b[0m\n\u001b[1;32m    649\u001b[0m \u001b[0;34m\u001b[0m\u001b[0m\n\u001b[1;32m    650\u001b[0m     \u001b[0;32mdef\u001b[0m \u001b[0mget\u001b[0m\u001b[0;34m(\u001b[0m\u001b[0mself\u001b[0m\u001b[0;34m,\u001b[0m \u001b[0mtimeout\u001b[0m\u001b[0;34m=\u001b[0m\u001b[0;32mNone\u001b[0m\u001b[0;34m)\u001b[0m\u001b[0;34m:\u001b[0m\u001b[0;34m\u001b[0m\u001b[0;34m\u001b[0m\u001b[0m\n\u001b[0;32m--> 651\u001b[0;31m         \u001b[0mself\u001b[0m\u001b[0;34m.\u001b[0m\u001b[0mwait\u001b[0m\u001b[0;34m(\u001b[0m\u001b[0mtimeout\u001b[0m\u001b[0;34m)\u001b[0m\u001b[0;34m\u001b[0m\u001b[0;34m\u001b[0m\u001b[0m\n\u001b[0m\u001b[1;32m    652\u001b[0m         \u001b[0;32mif\u001b[0m \u001b[0;32mnot\u001b[0m \u001b[0mself\u001b[0m\u001b[0;34m.\u001b[0m\u001b[0mready\u001b[0m\u001b[0;34m(\u001b[0m\u001b[0;34m)\u001b[0m\u001b[0;34m:\u001b[0m\u001b[0;34m\u001b[0m\u001b[0;34m\u001b[0m\u001b[0m\n\u001b[1;32m    653\u001b[0m             \u001b[0;32mraise\u001b[0m \u001b[0mTimeoutError\u001b[0m\u001b[0;34m\u001b[0m\u001b[0;34m\u001b[0m\u001b[0m\n",
      "\u001b[0;32m~/programs/anaconda/envs/data_science/lib/python3.7/multiprocessing/pool.py\u001b[0m in \u001b[0;36mwait\u001b[0;34m(self, timeout)\u001b[0m\n\u001b[1;32m    646\u001b[0m \u001b[0;34m\u001b[0m\u001b[0m\n\u001b[1;32m    647\u001b[0m     \u001b[0;32mdef\u001b[0m \u001b[0mwait\u001b[0m\u001b[0;34m(\u001b[0m\u001b[0mself\u001b[0m\u001b[0;34m,\u001b[0m \u001b[0mtimeout\u001b[0m\u001b[0;34m=\u001b[0m\u001b[0;32mNone\u001b[0m\u001b[0;34m)\u001b[0m\u001b[0;34m:\u001b[0m\u001b[0;34m\u001b[0m\u001b[0;34m\u001b[0m\u001b[0m\n\u001b[0;32m--> 648\u001b[0;31m         \u001b[0mself\u001b[0m\u001b[0;34m.\u001b[0m\u001b[0m_event\u001b[0m\u001b[0;34m.\u001b[0m\u001b[0mwait\u001b[0m\u001b[0;34m(\u001b[0m\u001b[0mtimeout\u001b[0m\u001b[0;34m)\u001b[0m\u001b[0;34m\u001b[0m\u001b[0;34m\u001b[0m\u001b[0m\n\u001b[0m\u001b[1;32m    649\u001b[0m \u001b[0;34m\u001b[0m\u001b[0m\n\u001b[1;32m    650\u001b[0m     \u001b[0;32mdef\u001b[0m \u001b[0mget\u001b[0m\u001b[0;34m(\u001b[0m\u001b[0mself\u001b[0m\u001b[0;34m,\u001b[0m \u001b[0mtimeout\u001b[0m\u001b[0;34m=\u001b[0m\u001b[0;32mNone\u001b[0m\u001b[0;34m)\u001b[0m\u001b[0;34m:\u001b[0m\u001b[0;34m\u001b[0m\u001b[0;34m\u001b[0m\u001b[0m\n",
      "\u001b[0;32m~/programs/anaconda/envs/data_science/lib/python3.7/threading.py\u001b[0m in \u001b[0;36mwait\u001b[0;34m(self, timeout)\u001b[0m\n\u001b[1;32m    550\u001b[0m             \u001b[0msignaled\u001b[0m \u001b[0;34m=\u001b[0m \u001b[0mself\u001b[0m\u001b[0;34m.\u001b[0m\u001b[0m_flag\u001b[0m\u001b[0;34m\u001b[0m\u001b[0;34m\u001b[0m\u001b[0m\n\u001b[1;32m    551\u001b[0m             \u001b[0;32mif\u001b[0m \u001b[0;32mnot\u001b[0m \u001b[0msignaled\u001b[0m\u001b[0;34m:\u001b[0m\u001b[0;34m\u001b[0m\u001b[0;34m\u001b[0m\u001b[0m\n\u001b[0;32m--> 552\u001b[0;31m                 \u001b[0msignaled\u001b[0m \u001b[0;34m=\u001b[0m \u001b[0mself\u001b[0m\u001b[0;34m.\u001b[0m\u001b[0m_cond\u001b[0m\u001b[0;34m.\u001b[0m\u001b[0mwait\u001b[0m\u001b[0;34m(\u001b[0m\u001b[0mtimeout\u001b[0m\u001b[0;34m)\u001b[0m\u001b[0;34m\u001b[0m\u001b[0;34m\u001b[0m\u001b[0m\n\u001b[0m\u001b[1;32m    553\u001b[0m             \u001b[0;32mreturn\u001b[0m \u001b[0msignaled\u001b[0m\u001b[0;34m\u001b[0m\u001b[0;34m\u001b[0m\u001b[0m\n\u001b[1;32m    554\u001b[0m \u001b[0;34m\u001b[0m\u001b[0m\n",
      "\u001b[0;32m~/programs/anaconda/envs/data_science/lib/python3.7/threading.py\u001b[0m in \u001b[0;36mwait\u001b[0;34m(self, timeout)\u001b[0m\n\u001b[1;32m    294\u001b[0m         \u001b[0;32mtry\u001b[0m\u001b[0;34m:\u001b[0m    \u001b[0;31m# restore state no matter what (e.g., KeyboardInterrupt)\u001b[0m\u001b[0;34m\u001b[0m\u001b[0;34m\u001b[0m\u001b[0m\n\u001b[1;32m    295\u001b[0m             \u001b[0;32mif\u001b[0m \u001b[0mtimeout\u001b[0m \u001b[0;32mis\u001b[0m \u001b[0;32mNone\u001b[0m\u001b[0;34m:\u001b[0m\u001b[0;34m\u001b[0m\u001b[0;34m\u001b[0m\u001b[0m\n\u001b[0;32m--> 296\u001b[0;31m                 \u001b[0mwaiter\u001b[0m\u001b[0;34m.\u001b[0m\u001b[0macquire\u001b[0m\u001b[0;34m(\u001b[0m\u001b[0;34m)\u001b[0m\u001b[0;34m\u001b[0m\u001b[0;34m\u001b[0m\u001b[0m\n\u001b[0m\u001b[1;32m    297\u001b[0m                 \u001b[0mgotit\u001b[0m \u001b[0;34m=\u001b[0m \u001b[0;32mTrue\u001b[0m\u001b[0;34m\u001b[0m\u001b[0;34m\u001b[0m\u001b[0m\n\u001b[1;32m    298\u001b[0m             \u001b[0;32melse\u001b[0m\u001b[0;34m:\u001b[0m\u001b[0;34m\u001b[0m\u001b[0;34m\u001b[0m\u001b[0m\n",
      "\u001b[0;31mKeyboardInterrupt\u001b[0m: "
     ]
    }
   ],
   "source": [
    "params     = SARIMAParams(p=1, d=2, q=2 , seasonal_order=(1,2,1,12))\n",
    "ALL_ERRORS:List[str] = ['mape', 'mae', 'mse', 'rmse']\n",
    "\n",
    "exp_sarima = BackTesterExpandingWindow(\n",
    "    error_methods=ALL_ERRORS,\n",
    "    data=sp_cleaned,\n",
    "    params=params,\n",
    "    start_train_percentage=80,\n",
    "    end_train_percentage=90, \n",
    "    test_percentage=10,\n",
    "    model_class=SARIMAModel,\n",
    "    expanding_steps=2,\n",
    "    multi=True)\n",
    "\n",
    "exp_sarima.run_backtest()\n",
    "\n",
    "\n",
    "exp_errors['sarima'] = {}\n",
    "for error, value in exp_sarima.errors.items():\n",
    "    exp_errors['sarima'][error] = value"
   ]
  },
  {
   "cell_type": "code",
   "execution_count": 160,
   "id": "9d2f0f0f",
   "metadata": {},
   "outputs": [],
   "source": [
    "params = HoltWintersParams(trend='mul' ,seasonal='additive' , seasonal_periods=12 ) \n",
    "ALL_ERRORS:List[str] = ['mape', 'mae', 'mse', 'rmse']\n",
    "\n",
    "exp_holt = BackTesterExpandingWindow(\n",
    "    error_methods=ALL_ERRORS,\n",
    "    data=sp_cleaned,\n",
    "    params=params,\n",
    "    start_train_percentage=80,\n",
    "    end_train_percentage=90, \n",
    "    test_percentage=10,\n",
    "    model_class=HoltWintersModel,\n",
    "    expanding_steps=2)\n",
    "\n",
    "exp_holt.run_backtest()\n",
    "\n",
    "\n",
    "exp_errors['holt'] = {}\n",
    "for error, value in exp_holt.errors.items():\n",
    "    exp_errors['holt'][error] = value"
   ]
  },
  {
   "cell_type": "code",
   "execution_count": 161,
   "id": "2be511a1",
   "metadata": {},
   "outputs": [
    {
     "name": "stderr",
     "output_type": "stream",
     "text": [
      "INFO:fbprophet:Disabling weekly seasonality. Run prophet with weekly_seasonality=True to override this.\n",
      "INFO:fbprophet:Disabling daily seasonality. Run prophet with daily_seasonality=True to override this.\n",
      "INFO:fbprophet:Disabling weekly seasonality. Run prophet with weekly_seasonality=True to override this.\n",
      "INFO:fbprophet:Disabling daily seasonality. Run prophet with daily_seasonality=True to override this.\n"
     ]
    }
   ],
   "source": [
    "params = ProphetParams(seasonality_mode='additive' , growth='logistic', cap=2800) \n",
    "ALL_ERRORS:List[str] = ['mape', 'mae', 'mse', 'rmse']\n",
    "\n",
    "exp_prophet = BackTesterExpandingWindow(\n",
    "    error_methods=ALL_ERRORS,\n",
    "    data=sp_cleaned,\n",
    "    params=params,\n",
    "    start_train_percentage=80,\n",
    "    end_train_percentage=90, \n",
    "    test_percentage=10,\n",
    "    model_class=ProphetModel,\n",
    "    expanding_steps=2)\n",
    "\n",
    "exp_prophet.run_backtest()\n",
    "\n",
    "\n",
    "exp_errors['prophet'] = {}\n",
    "for error, value in exp_prophet.errors.items():\n",
    "    exp_errors['prophet'][error] = value"
   ]
  },
  {
   "cell_type": "code",
   "execution_count": 113,
   "id": "09c67fa8",
   "metadata": {},
   "outputs": [
    {
     "data": {
      "text/html": [
       "<div>\n",
       "<style scoped>\n",
       "    .dataframe tbody tr th:only-of-type {\n",
       "        vertical-align: middle;\n",
       "    }\n",
       "\n",
       "    .dataframe tbody tr th {\n",
       "        vertical-align: top;\n",
       "    }\n",
       "\n",
       "    .dataframe thead th {\n",
       "        text-align: right;\n",
       "    }\n",
       "</style>\n",
       "<table border=\"1\" class=\"dataframe\">\n",
       "  <thead>\n",
       "    <tr style=\"text-align: right;\">\n",
       "      <th></th>\n",
       "      <th>holt</th>\n",
       "      <th>prophet</th>\n",
       "    </tr>\n",
       "  </thead>\n",
       "  <tbody>\n",
       "    <tr>\n",
       "      <th>mape</th>\n",
       "      <td>7.901435e-01</td>\n",
       "      <td>0.384089</td>\n",
       "    </tr>\n",
       "    <tr>\n",
       "      <th>mae</th>\n",
       "      <td>1.275145e+03</td>\n",
       "      <td>401.906408</td>\n",
       "    </tr>\n",
       "    <tr>\n",
       "      <th>mse</th>\n",
       "      <td>4.446932e+06</td>\n",
       "      <td>223777.951361</td>\n",
       "    </tr>\n",
       "    <tr>\n",
       "      <th>rmse</th>\n",
       "      <td>1.642683e+03</td>\n",
       "      <td>473.026037</td>\n",
       "    </tr>\n",
       "  </tbody>\n",
       "</table>\n",
       "</div>"
      ],
      "text/plain": [
       "              holt        prophet\n",
       "mape  7.901435e-01       0.384089\n",
       "mae   1.275145e+03     401.906408\n",
       "mse   4.446932e+06  223777.951361\n",
       "rmse  1.642683e+03     473.026037"
      ]
     },
     "execution_count": 113,
     "metadata": {},
     "output_type": "execute_result"
    }
   ],
   "source": [
    "exp_backtest_outcome = pd.DataFrame.from_dict(exp_errors)\n",
    "exp_backtest_outcome"
   ]
  },
  {
   "cell_type": "code",
   "execution_count": null,
   "id": "864f98d4",
   "metadata": {},
   "outputs": [],
   "source": [
    "#Plotting Barplot for Expanding Window Backtest\n",
    "exp_backtest_outcome_numpy = exp_backtest_outcome.to_numpy()\n",
    "\n",
    "plt.bar( [\"SARIMA\" , \"Holt-Winters\" , \"Prophet\"  ] , exp_backtest_outcome_numpy[0,:] )\n",
    "plt.title(\"Rolling BackTest - Models vs MAPE\")\n",
    "plt.show()\n",
    "\n",
    "plt.bar( [\"SARIMA\" , \"Holt-Winters\" , \"Prophet\"  ] , exp_backtest_outcome_numpy[1,:] )\n",
    "plt.title(\"Rolling BackTest - Models vs MAE\")\n",
    "plt.show()\n",
    "\n",
    "plt.bar( [\"SARIMA\" , \"Holt-Winters\" , \"Prophet\"  ] , exp_backtest_outcome_numpy[2,:] )\n",
    "plt.title(\"Rolling BackTest - Models vs MSE\")\n",
    "plt.show()\n",
    "\n",
    "plt.bar( [\"SARIMA\" , \"Holt-Winters\" , \"Prophet\"  ] , exp_backtest_outcome_numpy[3,:] )\n",
    "plt.title(\"Rolling BackTest - Models vs RMSE\")\n",
    "plt.show()\n"
   ]
  },
  {
   "cell_type": "markdown",
   "id": "b8067fde",
   "metadata": {},
   "source": [
    "<a class=\"anchor\" id=\"cls\"></a>\n",
    "## Classification Experiments"
   ]
  },
  {
   "cell_type": "code",
   "execution_count": 134,
   "id": "c532c26d",
   "metadata": {},
   "outputs": [],
   "source": [
    "def plot2d(dataset:ndarray , labels:ndarray) -> None:\n",
    "    \"\"\"\n",
    "    # **plot2d**\n",
    "\n",
    "    Plot clustered dataset\n",
    "    \n",
    "    Args:\n",
    "        dataset         (ndarray): dataset\n",
    "        labels          (ndarray): labels\n",
    "    \"\"\"\n",
    "    data = pd.DataFrame()\n",
    "    data['X'] = dataset.mean(axis=1)\n",
    "    data['Y'] = dataset.std(axis=1)\n",
    "    data['C'] = labels\n",
    "    classes = sorted(data.C.unique())\n",
    "    for c in classes:\n",
    "        plt.plot(data.where(data.C==c).dropna().X.values,\n",
    "                 data.where(data.C==c).dropna().Y.values,'o', markersize=10, label=str(c))"
   ]
  },
  {
   "cell_type": "code",
   "execution_count": 135,
   "id": "52f4ad59",
   "metadata": {},
   "outputs": [],
   "source": [
    "def evaluate_classifier(pCls:object , pSamples:ndarray , pLabels:ndarray , pClsId:str , pMultiClass:bool=False) -> None:\n",
    "    \"\"\"\n",
    "    # **evaluate_classifier**\n",
    "\n",
    "    Evaluate Classifier with Confusion Matrix, Precision and Recall.\n",
    "\n",
    "    Args:\n",
    "        pCls                        (object)    : Sklearn ML Classifier\n",
    "        pSamples                    (ndarray)   : test-set\n",
    "        pLabels                     (ndarray)   : test-set labels\n",
    "        pClsId                      (str)       : Classifier ID\n",
    "        pMultiClass                 (pMultiClass | DEF = False) : True for Multi-Class Classification\n",
    "    \"\"\"\n",
    "    print(\"\\n\\n<<<<<<<<<< {} Classifier Evaluation >>>>>>>>>>>>\".format(pClsId))\n",
    "\n",
    "    # [1] Plot Confusion Matrix\n",
    "    print(\"\\n[!] Confusion Matrix: \")\n",
    "    inference:ndarray                 = pCls.predict(pSamples)\n",
    "    cmtr:ndarray                      = confusion_matrix( pLabels , inference )\n",
    "    disp:ConfusionMatrixDisplay       = ConfusionMatrixDisplay( cmtr )\n",
    "    disp.plot()\n",
    "    plt.show()\n",
    "\n",
    "    # [2] Print Classifier Score\n",
    "    if pMultiClass:\n",
    "        print(\"[!] Accuracy Score: {}\".format(accuracy_score(pLabels , inference)))\n",
    "        print(\"[!] Precision Score: {}\".format(precision_score( pLabels , inference , average='micro')))\n",
    "        print(\"[!] Recall Score: {}\".format(recall_score( pLabels , inference, average='micro')) )\n",
    "    else:\n",
    "        print(\"[!] Accuracy Score: {}\".format(accuracy_score(pLabels , inference)))\n",
    "        print(\"[!] Precision Score: {}\".format(precision_score( pLabels , inference)))\n",
    "        print(\"[!] Recall Score: {}\".format(recall_score( pLabels , inference)) )"
   ]
  },
  {
   "cell_type": "markdown",
   "id": "ccdb17ca",
   "metadata": {},
   "source": [
    "<a class=\"anchor\" id=\"cls_sp\"></a>\n",
    "### SP500 Classification"
   ]
  },
  {
   "cell_type": "markdown",
   "id": "ccbe9550",
   "metadata": {},
   "source": [
    "This experiment consist on building a supervised learning dataset from original time series one.\n",
    "\n",
    "In particolar we build a dataset splitting SP500 series per quarter.\n",
    "\n",
    "In order to build labels for classification, we use two clustering algorithms:\n",
    "\n",
    "1. Kmeans\n",
    "2. Mix of Gaussians\n",
    "\n",
    "Then, we train ,respectively for labels set, the following classifiers:\n",
    "\n",
    "1. SVM\n",
    "2. Naive Bayes\n",
    "3. Logistic Regressor\n",
    "4. Decision Tree\n",
    "5. Random Forest\n",
    "\n",
    "on 80 % of data and evaluate them on the ramaining 20 %.\n",
    "\n",
    "Evaluation measure are:\n",
    "\n",
    "* Precision\n",
    "* Recall\n",
    "* Accuracy\n",
    "* Confusion Matrix"
   ]
  },
  {
   "cell_type": "code",
   "execution_count": 136,
   "id": "2d4a9af2",
   "metadata": {},
   "outputs": [
    {
     "data": {
      "text/plain": [
       "(442, 4)"
      ]
     },
     "execution_count": 136,
     "metadata": {},
     "output_type": "execute_result"
    }
   ],
   "source": [
    "#Reshape Data per Quarter \n",
    "quarter_data:ndarray = sp_numpy.reshape(-1,4)\n",
    "quarter_data.shape"
   ]
  },
  {
   "cell_type": "markdown",
   "id": "2158daf4",
   "metadata": {},
   "source": [
    "#### Kmeans"
   ]
  },
  {
   "cell_type": "code",
   "execution_count": 139,
   "id": "d41c411c",
   "metadata": {},
   "outputs": [
    {
     "name": "stdout",
     "output_type": "stream",
     "text": [
      "[!] Kmeans Clustering - N Sample Class 0: 378\n",
      "[!] Kmeans Clustering - N Sample Class 1: 64\n",
      "\n",
      "\n",
      "\n",
      "[!] Kmeans Clustering - Cluster Centers: \n",
      "\n",
      "[[  63.17367725   63.67939153   64.03849206   64.59013228]\n",
      " [1397.5159375  1396.67734375 1412.58203125 1421.8834375 ]]\n"
     ]
    },
    {
     "data": {
      "image/png": "[encoded data removed]",
      "text/plain": [
       "<Figure size 864x576 with 1 Axes>"
      ]
     },
     "metadata": {
      "needs_background": "light"
     },
     "output_type": "display_data"
    }
   ],
   "source": [
    "#Fit Kmeans to data\n",
    "kmeans = KMeans(n_clusters=2)\n",
    "kmeans.fit(quarter_data)\n",
    "\n",
    "\n",
    "#Evaluate Clusters\n",
    "kmeans_clusters         = kmeans.labels_.tolist()\n",
    "\n",
    "labels_0                = [ 1 if label == 0 else 0 for label in kmeans_clusters  ]\n",
    "labels_1                = [ 1 if label == 1 else 0 for label in kmeans_clusters  ]\n",
    "\n",
    "\n",
    "ct_labels_0 = reduce( lambda x,y : x+y, labels_0 )\n",
    "ct_labels_1 = reduce( lambda x,y : x+y, labels_1 )\n",
    "\n",
    "print(\"[!] Kmeans Clustering - N Sample Class 0: {}\".format(ct_labels_0))\n",
    "print(\"[!] Kmeans Clustering - N Sample Class 1: {}\".format(ct_labels_1))\n",
    "\n",
    "\n",
    "#Print Clustering Stats\n",
    "print(\"\\n\\n\\n[!] Kmeans Clustering - Cluster Centers: \\n\\n{}\".format(kmeans.cluster_centers_))\n",
    "\n",
    "\n",
    "# Plot Clusters \n",
    "plt.figure(figsize=(12,8))\n",
    "plt.title(\"Kmeans Clustering\")\n",
    "plot2d(quarter_data,kmeans_clusters)\n",
    "plt.legend()\n",
    "plt.grid()\n",
    "plt.show()"
   ]
  },
  {
   "cell_type": "markdown",
   "id": "6d822129",
   "metadata": {},
   "source": [
    "Kmeans algorithm return a clustering well-separated as underlined from graph."
   ]
  },
  {
   "cell_type": "markdown",
   "id": "18a9f7ec",
   "metadata": {},
   "source": [
    "#### Mix of Gaussians"
   ]
  },
  {
   "cell_type": "code",
   "execution_count": 140,
   "id": "39944547",
   "metadata": {},
   "outputs": [
    {
     "name": "stdout",
     "output_type": "stream",
     "text": [
      "Means:\n",
      " [[  9.50039865   9.53281723   9.60349074   9.64614315]\n",
      " [566.06754349 566.72813676 572.52355088 576.56982911]]\n",
      "\n",
      "\n",
      "Covariances:\n",
      " [[[3.22410481e+01 3.25997019e+01 3.32325518e+01 3.37321995e+01]\n",
      "  [3.25997019e+01 3.31027156e+01 3.37618826e+01 3.42528849e+01]\n",
      "  [3.32325518e+01 3.37618826e+01 3.45704726e+01 3.50979076e+01]\n",
      "  [3.37321995e+01 3.42528849e+01 3.50979076e+01 3.57966018e+01]]\n",
      "\n",
      " [[4.12644741e+05 4.12777803e+05 4.17948750e+05 4.19676219e+05]\n",
      "  [4.12777803e+05 4.13767965e+05 4.19182403e+05 4.20996311e+05]\n",
      "  [4.17948750e+05 4.19182403e+05 4.25433020e+05 4.27287619e+05]\n",
      "  [4.19676219e+05 4.20996311e+05 4.27287619e+05 4.29701219e+05]]]\n",
      "\n",
      "\n",
      "Coefficients:\n",
      " [0.55642152 0.44357848]\n",
      "\n",
      "\n",
      "\n",
      "[!] GMM Clustering - N Sample Class 0: 246\n",
      "[!] GMM Clustering - N Sample Class 1: 196\n"
     ]
    },
    {
     "data": {
      "image/png": "[encoded data removed]",
      "text/plain": [
       "<Figure size 864x576 with 1 Axes>"
      ]
     },
     "metadata": {
      "needs_background": "light"
     },
     "output_type": "display_data"
    }
   ],
   "source": [
    "from sklearn.mixture import GaussianMixture as GMM\n",
    "\n",
    "#Fit GMM to data\n",
    "gmm = GMM(n_components=2)\n",
    "gmm.fit(quarter_data)\n",
    "\n",
    "\n",
    "#Print GMM Stats\n",
    "print(\"Means:\\n\",gmm.means_)\n",
    "print(\"\\n\")\n",
    "print(\"Covariances:\\n\",gmm.covariances_)\n",
    "print(\"\\n\")\n",
    "print(\"Coefficients:\\n\",gmm.weights_)\n",
    "print(\"\\n\\n\")\n",
    "\n",
    "#Compute Clusters\n",
    "gmm_labels = gmm.predict(quarter_data)\n",
    "\n",
    "labels_0 = [ 1 if label == 0 else 0 for label in gmm_labels  ]\n",
    "labels_1 = [ 1 if label == 1 else 0 for label in gmm_labels  ]\n",
    "\n",
    "ct_labels_0 = reduce( lambda x,y : x+y, labels_0 )\n",
    "ct_labels_1 = reduce( lambda x,y : x+y, labels_1 )\n",
    "\n",
    "print(\"[!] GMM Clustering - N Sample Class 0: {}\".format(ct_labels_0))\n",
    "print(\"[!] GMM Clustering - N Sample Class 1: {}\".format(ct_labels_1))\n",
    "\n",
    "\n",
    "#Plot Clusters\n",
    "plt.figure(figsize=(12,8))\n",
    "plt.title(\"GMM Clustering\")\n",
    "plot2d(quarter_data,gmm_labels)\n",
    "plt.legend()\n",
    "plt.grid()\n",
    "plt.show()"
   ]
  },
  {
   "cell_type": "markdown",
   "id": "8b088c3c",
   "metadata": {},
   "source": [
    "Mix of Gaussians return more noise clusters than Kmeans, it suggest that classification taks should be more hard in Mix of Gaussians labels."
   ]
  },
  {
   "cell_type": "markdown",
   "id": "fc2b6176",
   "metadata": {},
   "source": [
    "#### Classification"
   ]
  },
  {
   "cell_type": "markdown",
   "id": "17183083",
   "metadata": {},
   "source": [
    "##### Data Preparation "
   ]
  },
  {
   "cell_type": "code",
   "execution_count": 141,
   "id": "238c2cc6",
   "metadata": {},
   "outputs": [],
   "source": [
    "PERC_SPLIT:float                             = 80\n",
    "X_train_km, X_test_km, y_train_km, y_test_km = train_test_split(quarter_data,kmeans_clusters,shuffle=True ,random_state=123)\n",
    "X_train_gm, X_test_gm, y_train_gm, y_test_gm = train_test_split(quarter_data,gmm_labels,shuffle=True ,random_state=123)"
   ]
  },
  {
   "cell_type": "markdown",
   "id": "2134b786",
   "metadata": {},
   "source": [
    "##### Training - Kmeans Clustering"
   ]
  },
  {
   "cell_type": "code",
   "execution_count": 142,
   "id": "e1f2ce17",
   "metadata": {},
   "outputs": [
    {
     "data": {
      "text/plain": [
       "RandomForestClassifier(max_depth=2, n_estimators=2)"
      ]
     },
     "execution_count": 142,
     "metadata": {},
     "output_type": "execute_result"
    }
   ],
   "source": [
    "#Train Models\n",
    "linear_svm:SVC                  = SVC(kernel= \"linear\" , C=1 , max_iter=100)\n",
    "linear_svm.fit(X_train_km,y_train_km)\n",
    "\n",
    "gaussian_svm:SVC                = SVC(kernel= \"rbf\" , C=1 , max_iter=100)\n",
    "gaussian_svm.fit(X_train_km,y_train_km)\n",
    "\n",
    "\n",
    "naive_bayes                     = GaussianNB()\n",
    "naive_bayes.fit(X_train_km,y_train_km)\n",
    "\n",
    "\n",
    "lg_regressor                    = LogisticRegression( max_iter=100 )\n",
    "lg_regressor.fit(X_train_km,y_train_km)\n",
    "\n",
    "\n",
    "dec_tree = DecisionTreeClassifier( max_depth=2 )\n",
    "dec_tree.fit(X_train_km,y_train_km)\n",
    "\n",
    "\n",
    "random_forest      = RandomForestClassifier(max_depth=2, n_estimators=2)\n",
    "random_forest.fit(X_train_km,y_train_km)"
   ]
  },
  {
   "cell_type": "markdown",
   "id": "06f68c93",
   "metadata": {},
   "source": [
    "##### Evaluation - Kmeans Clustering"
   ]
  },
  {
   "cell_type": "code",
   "execution_count": 143,
   "id": "7322e9c4",
   "metadata": {},
   "outputs": [
    {
     "name": "stdout",
     "output_type": "stream",
     "text": [
      "\n",
      "\n",
      "<<<<<<<<<< SVM-Linear Classifier Evaluation >>>>>>>>>>>>\n",
      "\n",
      "[!] Confusion Matrix: \n"
     ]
    },
    {
     "data": {
      "image/png": "[encoded data removed]",
      "text/plain": [
       "<Figure size 432x288 with 2 Axes>"
      ]
     },
     "metadata": {
      "needs_background": "light"
     },
     "output_type": "display_data"
    },
    {
     "name": "stdout",
     "output_type": "stream",
     "text": [
      "[!] Accuracy Score: 1.0\n",
      "[!] Precision Score: 1.0\n",
      "[!] Recall Score: 1.0\n",
      "\n",
      "\n",
      "<<<<<<<<<< SVM-Gaussian Classifier Evaluation >>>>>>>>>>>>\n",
      "\n",
      "[!] Confusion Matrix: \n"
     ]
    },
    {
     "data": {
      "image/png": "[encoded data removed]",
      "text/plain": [
       "<Figure size 432x288 with 2 Axes>"
      ]
     },
     "metadata": {
      "needs_background": "light"
     },
     "output_type": "display_data"
    },
    {
     "name": "stdout",
     "output_type": "stream",
     "text": [
      "[!] Accuracy Score: 1.0\n",
      "[!] Precision Score: 1.0\n",
      "[!] Recall Score: 1.0\n",
      "\n",
      "\n",
      "<<<<<<<<<< Naive Bayes Classifier Evaluation >>>>>>>>>>>>\n",
      "\n",
      "[!] Confusion Matrix: \n"
     ]
    },
    {
     "data": {
      "image/png": "[encoded data removed]",
      "text/plain": [
       "<Figure size 432x288 with 2 Axes>"
      ]
     },
     "metadata": {
      "needs_background": "light"
     },
     "output_type": "display_data"
    },
    {
     "name": "stdout",
     "output_type": "stream",
     "text": [
      "[!] Accuracy Score: 0.972972972972973\n",
      "[!] Precision Score: 0.8125\n",
      "[!] Recall Score: 1.0\n",
      "\n",
      "\n",
      "<<<<<<<<<< Logistic Regressor Classifier Evaluation >>>>>>>>>>>>\n",
      "\n",
      "[!] Confusion Matrix: \n"
     ]
    },
    {
     "data": {
      "image/png": "[encoded data removed]",
      "text/plain": [
       "<Figure size 432x288 with 2 Axes>"
      ]
     },
     "metadata": {
      "needs_background": "light"
     },
     "output_type": "display_data"
    },
    {
     "name": "stdout",
     "output_type": "stream",
     "text": [
      "[!] Accuracy Score: 1.0\n",
      "[!] Precision Score: 1.0\n",
      "[!] Recall Score: 1.0\n",
      "\n",
      "\n",
      "<<<<<<<<<< Decision Tree Classifier Evaluation >>>>>>>>>>>>\n",
      "\n",
      "[!] Confusion Matrix: \n"
     ]
    },
    {
     "data": {
      "image/png": "[encoded data removed]",
      "text/plain": [
       "<Figure size 432x288 with 2 Axes>"
      ]
     },
     "metadata": {
      "needs_background": "light"
     },
     "output_type": "display_data"
    },
    {
     "name": "stdout",
     "output_type": "stream",
     "text": [
      "[!] Accuracy Score: 1.0\n",
      "[!] Precision Score: 1.0\n",
      "[!] Recall Score: 1.0\n",
      "\n",
      "\n",
      "<<<<<<<<<< Random Forest Classifier Evaluation >>>>>>>>>>>>\n",
      "\n",
      "[!] Confusion Matrix: \n"
     ]
    },
    {
     "data": {
      "image/png": "[encoded data removed]",
      "text/plain": [
       "<Figure size 432x288 with 2 Axes>"
      ]
     },
     "metadata": {
      "needs_background": "light"
     },
     "output_type": "display_data"
    },
    {
     "name": "stdout",
     "output_type": "stream",
     "text": [
      "[!] Accuracy Score: 1.0\n",
      "[!] Precision Score: 1.0\n",
      "[!] Recall Score: 1.0\n"
     ]
    }
   ],
   "source": [
    "evaluate_classifier(linear_svm,X_test_km, y_test_km, \"SVM-Linear\")\n",
    "evaluate_classifier(gaussian_svm,X_test_km, y_test_km, \"SVM-Gaussian\")\n",
    "evaluate_classifier(naive_bayes,X_test_km, y_test_km, \"Naive Bayes\")\n",
    "evaluate_classifier(lg_regressor,X_test_km, y_test_km, \"Logistic Regressor\")\n",
    "evaluate_classifier(dec_tree,X_test_km, y_test_km, \"Decision Tree\")\n",
    "evaluate_classifier(random_forest,X_test_km, y_test_km, \"Random Forest\")\n"
   ]
  },
  {
   "cell_type": "markdown",
   "id": "b8d7e0d5",
   "metadata": {},
   "source": [
    "##### Training - GMM Labels"
   ]
  },
  {
   "cell_type": "code",
   "execution_count": 144,
   "id": "a0f2aa3c",
   "metadata": {},
   "outputs": [
    {
     "data": {
      "text/plain": [
       "RandomForestClassifier(max_depth=2, n_estimators=2)"
      ]
     },
     "execution_count": 144,
     "metadata": {},
     "output_type": "execute_result"
    }
   ],
   "source": [
    "linear_svm.fit(X_train_gm,y_train_gm)\n",
    "gaussian_svm.fit(X_train_gm,y_train_gm)\n",
    "naive_bayes.fit(X_train_gm,y_train_gm)\n",
    "lg_regressor.fit(X_train_gm,y_train_gm)\n",
    "dec_tree.fit(X_train_gm,y_train_gm)\n",
    "random_forest.fit(X_train_gm,y_train_gm)"
   ]
  },
  {
   "cell_type": "markdown",
   "id": "f026e8c6",
   "metadata": {},
   "source": [
    "##### Evaluation - GMM Labels"
   ]
  },
  {
   "cell_type": "code",
   "execution_count": 145,
   "id": "b031f502",
   "metadata": {},
   "outputs": [
    {
     "name": "stdout",
     "output_type": "stream",
     "text": [
      "\n",
      "\n",
      "<<<<<<<<<< SVM-Linear Classifier Evaluation >>>>>>>>>>>>\n",
      "\n",
      "[!] Confusion Matrix: \n"
     ]
    },
    {
     "data": {
      "image/png": "[encoded data removed]",
      "text/plain": [
       "<Figure size 432x288 with 2 Axes>"
      ]
     },
     "metadata": {
      "needs_background": "light"
     },
     "output_type": "display_data"
    },
    {
     "name": "stdout",
     "output_type": "stream",
     "text": [
      "[!] Accuracy Score: 0.954954954954955\n",
      "[!] Precision Score: 0.9411764705882353\n",
      "[!] Recall Score: 0.96\n",
      "\n",
      "\n",
      "<<<<<<<<<< SVM-Gaussian Classifier Evaluation >>>>>>>>>>>>\n",
      "\n",
      "[!] Confusion Matrix: \n"
     ]
    },
    {
     "data": {
      "image/png": "[encoded data removed]",
      "text/plain": [
       "<Figure size 432x288 with 2 Axes>"
      ]
     },
     "metadata": {
      "needs_background": "light"
     },
     "output_type": "display_data"
    },
    {
     "name": "stdout",
     "output_type": "stream",
     "text": [
      "[!] Accuracy Score: 0.9369369369369369\n",
      "[!] Precision Score: 1.0\n",
      "[!] Recall Score: 0.86\n",
      "\n",
      "\n",
      "<<<<<<<<<< Naive Bayes Classifier Evaluation >>>>>>>>>>>>\n",
      "\n",
      "[!] Confusion Matrix: \n"
     ]
    },
    {
     "data": {
      "image/png": "[encoded data removed]",
      "text/plain": [
       "<Figure size 432x288 with 2 Axes>"
      ]
     },
     "metadata": {
      "needs_background": "light"
     },
     "output_type": "display_data"
    },
    {
     "name": "stdout",
     "output_type": "stream",
     "text": [
      "[!] Accuracy Score: 0.954954954954955\n",
      "[!] Precision Score: 1.0\n",
      "[!] Recall Score: 0.9\n",
      "\n",
      "\n",
      "<<<<<<<<<< Logistic Regressor Classifier Evaluation >>>>>>>>>>>>\n",
      "\n",
      "[!] Confusion Matrix: \n"
     ]
    },
    {
     "data": {
      "image/png": "[encoded data removed]",
      "text/plain": [
       "<Figure size 432x288 with 2 Axes>"
      ]
     },
     "metadata": {
      "needs_background": "light"
     },
     "output_type": "display_data"
    },
    {
     "name": "stdout",
     "output_type": "stream",
     "text": [
      "[!] Accuracy Score: 0.954954954954955\n",
      "[!] Precision Score: 1.0\n",
      "[!] Recall Score: 0.9\n",
      "\n",
      "\n",
      "<<<<<<<<<< Decision Tree Classifier Evaluation >>>>>>>>>>>>\n",
      "\n",
      "[!] Confusion Matrix: \n"
     ]
    },
    {
     "data": {
      "image/png": "[encoded data removed]",
      "text/plain": [
       "<Figure size 432x288 with 2 Axes>"
      ]
     },
     "metadata": {
      "needs_background": "light"
     },
     "output_type": "display_data"
    },
    {
     "name": "stdout",
     "output_type": "stream",
     "text": [
      "[!] Accuracy Score: 0.954954954954955\n",
      "[!] Precision Score: 1.0\n",
      "[!] Recall Score: 0.9\n",
      "\n",
      "\n",
      "<<<<<<<<<< Random Forest Classifier Evaluation >>>>>>>>>>>>\n",
      "\n",
      "[!] Confusion Matrix: \n"
     ]
    },
    {
     "data": {
      "image/png": "[encoded data removed]",
      "text/plain": [
       "<Figure size 432x288 with 2 Axes>"
      ]
     },
     "metadata": {
      "needs_background": "light"
     },
     "output_type": "display_data"
    },
    {
     "name": "stdout",
     "output_type": "stream",
     "text": [
      "[!] Accuracy Score: 0.954954954954955\n",
      "[!] Precision Score: 1.0\n",
      "[!] Recall Score: 0.9\n"
     ]
    }
   ],
   "source": [
    "evaluate_classifier(linear_svm,X_test_gm, y_test_gm, \"SVM-Linear\")\n",
    "evaluate_classifier(gaussian_svm,X_test_gm, y_test_gm, \"SVM-Gaussian\")\n",
    "evaluate_classifier(naive_bayes,X_test_gm, y_test_gm, \"Naive Bayes\")\n",
    "evaluate_classifier(lg_regressor,X_test_gm, y_test_gm, \"Logistic Regressor\")\n",
    "evaluate_classifier(dec_tree,X_test_gm, y_test_gm, \"Decision Tree\")\n",
    "evaluate_classifier(random_forest,X_test_gm, y_test_gm, \"Random Forest\")\n"
   ]
  },
  {
   "cell_type": "markdown",
   "id": "406cdaeb",
   "metadata": {},
   "source": [
    "All models perform very well on the SP500 Classification task, in particular also a Linear SVM perform well.\n",
    "\n",
    "This fact involves a linear separability of data."
   ]
  },
  {
   "cell_type": "markdown",
   "id": "34ca19dd",
   "metadata": {},
   "source": [
    "<a class=\"anchor\" id=\"cls_mix\"></a>\n",
    "### Mixture Dataset Classification"
   ]
  },
  {
   "cell_type": "markdown",
   "id": "2624b733",
   "metadata": {},
   "source": [
    "Experiment setup is similar to 'SP500 Classification' one.\n",
    "\n",
    "Differences resides in dataset and the use of only kmeans for clustering.\n",
    "\n",
    "Dataset was build from original Multi-Variate Time Series one, in particular we select the following 5 features:\n",
    "\n",
    "* SP500\n",
    "* Dividend\n",
    "* Earnings\n",
    "* Consumer Price Index\n",
    "* Real Price"
   ]
  },
  {
   "cell_type": "code",
   "execution_count": 146,
   "id": "b971b2ff",
   "metadata": {},
   "outputs": [
    {
     "data": {
      "text/html": [
       "<div>\n",
       "<style scoped>\n",
       "    .dataframe tbody tr th:only-of-type {\n",
       "        vertical-align: middle;\n",
       "    }\n",
       "\n",
       "    .dataframe tbody tr th {\n",
       "        vertical-align: top;\n",
       "    }\n",
       "\n",
       "    .dataframe thead th {\n",
       "        text-align: right;\n",
       "    }\n",
       "</style>\n",
       "<table border=\"1\" class=\"dataframe\">\n",
       "  <thead>\n",
       "    <tr style=\"text-align: right;\">\n",
       "      <th></th>\n",
       "      <th>SP500</th>\n",
       "      <th>Dividend</th>\n",
       "      <th>Earnings</th>\n",
       "      <th>Consumer Price Index</th>\n",
       "      <th>Real Price</th>\n",
       "    </tr>\n",
       "  </thead>\n",
       "  <tbody>\n",
       "    <tr>\n",
       "      <th>0</th>\n",
       "      <td>4.44</td>\n",
       "      <td>0.26</td>\n",
       "      <td>0.4</td>\n",
       "      <td>12.46</td>\n",
       "      <td>89.00</td>\n",
       "    </tr>\n",
       "    <tr>\n",
       "      <th>1</th>\n",
       "      <td>4.50</td>\n",
       "      <td>0.26</td>\n",
       "      <td>0.4</td>\n",
       "      <td>12.84</td>\n",
       "      <td>87.53</td>\n",
       "    </tr>\n",
       "    <tr>\n",
       "      <th>2</th>\n",
       "      <td>4.61</td>\n",
       "      <td>0.26</td>\n",
       "      <td>0.4</td>\n",
       "      <td>13.03</td>\n",
       "      <td>88.36</td>\n",
       "    </tr>\n",
       "    <tr>\n",
       "      <th>3</th>\n",
       "      <td>4.74</td>\n",
       "      <td>0.26</td>\n",
       "      <td>0.4</td>\n",
       "      <td>12.56</td>\n",
       "      <td>94.29</td>\n",
       "    </tr>\n",
       "    <tr>\n",
       "      <th>4</th>\n",
       "      <td>4.86</td>\n",
       "      <td>0.26</td>\n",
       "      <td>0.4</td>\n",
       "      <td>12.27</td>\n",
       "      <td>98.93</td>\n",
       "    </tr>\n",
       "  </tbody>\n",
       "</table>\n",
       "</div>"
      ],
      "text/plain": [
       "   SP500  Dividend  Earnings  Consumer Price Index  Real Price\n",
       "0   4.44      0.26       0.4                 12.46       89.00\n",
       "1   4.50      0.26       0.4                 12.84       87.53\n",
       "2   4.61      0.26       0.4                 13.03       88.36\n",
       "3   4.74      0.26       0.4                 12.56       94.29\n",
       "4   4.86      0.26       0.4                 12.27       98.93"
      ]
     },
     "execution_count": 146,
     "metadata": {},
     "output_type": "execute_result"
    }
   ],
   "source": [
    "#Preparing Data\n",
    "financial_dataset = full_dataset[['SP500','Dividend' , 'Earnings' , 'Consumer Price Index', 'Real Price']]\n",
    "financial_dataset = financial_dataset.dropna()\n",
    "financial_dataset.head()"
   ]
  },
  {
   "cell_type": "markdown",
   "id": "4c5348a6",
   "metadata": {},
   "source": [
    "#### Clustering"
   ]
  },
  {
   "cell_type": "code",
   "execution_count": 148,
   "id": "aa2289cf",
   "metadata": {},
   "outputs": [
    {
     "name": "stdout",
     "output_type": "stream",
     "text": [
      "[!] Kmeans Clustering - N Sample Class 0: 50\n",
      "[!] Kmeans Clustering - N Sample Class 1: 1010\n",
      "[!] Kmeans Clustering - N Sample Class 2: 113\n",
      "[!] Kmeans Clustering - N Sample Class 3: 102\n",
      "[!] Kmeans Clustering - N Sample Class 4: 399\n",
      "[!] Kmeans Clustering - N Sample Class 5: 90\n",
      "\n",
      "\n",
      "[!] Kmeans Clustering - Cluster Centers: \n",
      "\n",
      "[[2.11948920e+03 4.25024000e+01 9.74872000e+01 2.39453600e+02\n",
      "  2.20867340e+03]\n",
      " [1.06672574e+01 5.74831683e-01 9.56009901e-01 1.38690693e+01\n",
      "  1.83032614e+02]\n",
      " [1.34607752e+03 2.24630973e+01 6.37199115e+01 1.97166018e+02\n",
      "  1.72061159e+03]\n",
      " [4.35201176e+02 1.24073529e+01 2.32037255e+01 1.40500980e+02\n",
      "  7.63956667e+02]\n",
      " [1.02229599e+02 3.87030075e+00 8.02298246e+00 5.31030075e+01\n",
      "  5.01809248e+02]\n",
      " [1.02145600e+03 1.95212222e+01 4.43165556e+01 1.92056111e+02\n",
      "  1.33358167e+03]]\n"
     ]
    },
    {
     "data": {
      "image/png": "[encoded data removed]",
      "text/plain": [
       "<Figure size 864x576 with 1 Axes>"
      ]
     },
     "metadata": {
      "needs_background": "light"
     },
     "output_type": "display_data"
    }
   ],
   "source": [
    "#Fit Kmeans to data\n",
    "kmeans = KMeans(n_clusters=6)\n",
    "kmeans.fit(financial_dataset)\n",
    "\n",
    "\n",
    "#Evaluate Clusters\n",
    "kmeans_clusters         = kmeans.labels_.tolist()\n",
    "\n",
    "labels_0                = [ 1 if label == 0 else 0 for label in kmeans_clusters  ]\n",
    "labels_1                = [ 1 if label == 1 else 0 for label in kmeans_clusters  ]\n",
    "labels_2                = [ 1 if label == 2 else 0 for label in kmeans_clusters  ]\n",
    "labels_3                = [ 1 if label == 3 else 0 for label in kmeans_clusters  ]\n",
    "labels_4                = [ 1 if label == 4 else 0 for label in kmeans_clusters  ]\n",
    "labels_5                = [ 1 if label == 5 else 0 for label in kmeans_clusters  ]\n",
    "\n",
    "ct_labels_0 = reduce( lambda x,y : x+y, labels_0 )\n",
    "ct_labels_1 = reduce( lambda x,y : x+y, labels_1 )\n",
    "ct_labels_2 = reduce( lambda x,y : x+y, labels_2 )\n",
    "ct_labels_3 = reduce( lambda x,y : x+y, labels_3 )\n",
    "ct_labels_4 = reduce( lambda x,y : x+y, labels_4 )\n",
    "ct_labels_5 = reduce( lambda x,y : x+y, labels_5 )\n",
    "\n",
    "\n",
    "print(\"[!] Kmeans Clustering - N Sample Class 0: {}\".format(ct_labels_0))\n",
    "print(\"[!] Kmeans Clustering - N Sample Class 1: {}\".format(ct_labels_1))\n",
    "print(\"[!] Kmeans Clustering - N Sample Class 2: {}\".format(ct_labels_2))\n",
    "print(\"[!] Kmeans Clustering - N Sample Class 3: {}\".format(ct_labels_3))\n",
    "print(\"[!] Kmeans Clustering - N Sample Class 4: {}\".format(ct_labels_4))\n",
    "print(\"[!] Kmeans Clustering - N Sample Class 5: {}\".format(ct_labels_5))\n",
    "\n",
    "\n",
    "#Print Clustering Stats\n",
    "print(\"\\n\\n[!] Kmeans Clustering - Cluster Centers: \\n\\n{}\".format(kmeans.cluster_centers_))\n",
    "\n",
    "\n",
    "# Plot Clusters \n",
    "plt.figure(figsize=(12,8))\n",
    "plt.title(\"Kmeans Clustering\")\n",
    "plot2d(financial_dataset,kmeans_clusters)\n",
    "plt.legend()\n",
    "plt.grid()\n",
    "plt.show()"
   ]
  },
  {
   "cell_type": "markdown",
   "id": "795c02a4",
   "metadata": {},
   "source": [
    "Kmeans clustering return well-separated clusters."
   ]
  },
  {
   "cell_type": "markdown",
   "id": "151980a1",
   "metadata": {},
   "source": [
    "#### Classification"
   ]
  },
  {
   "cell_type": "markdown",
   "id": "7624d3c4",
   "metadata": {},
   "source": [
    "##### Data Preparation"
   ]
  },
  {
   "cell_type": "code",
   "execution_count": 149,
   "id": "82ea52a3",
   "metadata": {},
   "outputs": [],
   "source": [
    "PERC_SPLIT:float                             = 80\n",
    "X_train_km, X_test_km, y_train_km, y_test_km = train_test_split(financial_dataset,kmeans_clusters,shuffle=True ,random_state=123)"
   ]
  },
  {
   "cell_type": "markdown",
   "id": "6ee83e6e",
   "metadata": {},
   "source": [
    "##### Training"
   ]
  },
  {
   "cell_type": "code",
   "execution_count": 150,
   "id": "398847d3",
   "metadata": {},
   "outputs": [
    {
     "data": {
      "text/plain": [
       "RandomForestClassifier(max_depth=2, n_estimators=2)"
      ]
     },
     "execution_count": 150,
     "metadata": {},
     "output_type": "execute_result"
    }
   ],
   "source": [
    "#Train Models\n",
    "linear_svm:SVC                  = SVC(kernel= \"linear\" , C=1 , max_iter=100)\n",
    "linear_svm.fit(X_train_km,y_train_km)\n",
    "\n",
    "gaussian_svm:SVC                = SVC(kernel= \"rbf\" , C=1 , max_iter=100)\n",
    "gaussian_svm.fit(X_train_km,y_train_km)\n",
    "\n",
    "\n",
    "naive_bayes                     = GaussianNB()\n",
    "naive_bayes.fit(X_train_km,y_train_km)\n",
    "\n",
    "Factor\n",
    "\n",
    "random_forest      = RandomForestClassifier(max_depth=2, n_estimators=2)\n",
    "random_forest.fit(X_train_km,y_train_km)"
   ]
  },
  {
   "cell_type": "markdown",
   "id": "8d4c0d21",
   "metadata": {},
   "source": [
    "##### Evaluation"
   ]
  },
  {
   "cell_type": "code",
   "execution_count": 151,
   "id": "9f3bf5d1",
   "metadata": {},
   "outputs": [
    {
     "name": "stdout",
     "output_type": "stream",
     "text": [
      "\n",
      "\n",
      "<<<<<<<<<< SVM-Linear Classifier Evaluation >>>>>>>>>>>>\n",
      "\n",
      "[!] Confusion Matrix: \n"
     ]
    },
    {
     "data": {
      "image/png": "[encoded data removed]",
      "text/plain": [
       "<Figure size 432x288 with 2 Axes>"
      ]
     },
     "metadata": {
      "needs_background": "light"
     },
     "output_type": "display_data"
    },
    {
     "name": "stdout",
     "output_type": "stream",
     "text": [
      "[!] Accuracy Score: 0.9954648526077098\n",
      "[!] Precision Score: 0.9954648526077098\n",
      "[!] Recall Score: 0.9954648526077098\n",
      "\n",
      "\n",
      "<<<<<<<<<< SVM-Gaussian Classifier Evaluation >>>>>>>>>>>>\n",
      "\n",
      "[!] Confusion Matrix: \n"
     ]
    },
    {
     "data": {
      "image/png": "[encoded data removed]",
      "text/plain": [
       "<Figure size 432x288 with 2 Axes>"
      ]
     },
     "metadata": {
      "needs_background": "light"
     },
     "output_type": "display_data"
    },
    {
     "name": "stdout",
     "output_type": "stream",
     "text": [
      "[!] Accuracy Score: 0.9841269841269841\n",
      "[!] Precision Score: 0.9841269841269841\n",
      "[!] Recall Score: 0.9841269841269841\n",
      "\n",
      "\n",
      "<<<<<<<<<< Naive Bayes Classifier Evaluation >>>>>>>>>>>>\n",
      "\n",
      "[!] Confusion Matrix: \n"
     ]
    },
    {
     "data": {
      "image/png": "[encoded data removed]",
      "text/plain": [
       "<Figure size 432x288 with 2 Axes>"
      ]
     },
     "metadata": {
      "needs_background": "light"
     },
     "output_type": "display_data"
    },
    {
     "name": "stdout",
     "output_type": "stream",
     "text": [
      "[!] Accuracy Score: 0.9591836734693877\n",
      "[!] Precision Score: 0.9591836734693877\n",
      "[!] Recall Score: 0.9591836734693877\n",
      "\n",
      "\n",
      "<<<<<<<<<< Logistic Regressor Classifier Evaluation >>>>>>>>>>>>\n",
      "\n",
      "[!] Confusion Matrix: \n"
     ]
    },
    {
     "data": {
      "image/png": "[encoded data removed]",
      "text/plain": [
       "<Figure size 432x288 with 2 Axes>"
      ]
     },
     "metadata": {
      "needs_background": "light"
     },
     "output_type": "display_data"
    },
    {
     "name": "stdout",
     "output_type": "stream",
     "text": [
      "[!] Accuracy Score: 0.9682539682539683\n",
      "[!] Precision Score: 0.9682539682539683\n",
      "[!] Recall Score: 0.9682539682539683\n",
      "\n",
      "\n",
      "<<<<<<<<<< Decision Tree Classifier Evaluation >>>>>>>>>>>>\n",
      "\n",
      "[!] Confusion Matrix: \n"
     ]
    },
    {
     "data": {
      "image/png": "[encoded data removed]",
      "text/plain": [
       "<Figure size 432x288 with 2 Axes>"
      ]
     },
     "metadata": {
      "needs_background": "light"
     },
     "output_type": "display_data"
    },
    {
     "name": "stdout",
     "output_type": "stream",
     "text": [
      "[!] Accuracy Score: 0.8367346938775511\n",
      "[!] Precision Score: 0.8367346938775511\n",
      "[!] Recall Score: 0.8367346938775511\n",
      "\n",
      "\n",
      "<<<<<<<<<< Random Forest Classifier Evaluation >>>>>>>>>>>>\n",
      "\n",
      "[!] Confusion Matrix: \n"
     ]
    },
    {
     "data": {
      "image/png": "[encoded data removed]",
      "text/plain": [
       "<Figure size 432x288 with 2 Axes>"
      ]
     },
     "metadata": {
      "needs_background": "light"
     },
     "output_type": "display_data"
    },
    {
     "name": "stdout",
     "output_type": "stream",
     "text": [
      "[!] Accuracy Score: 0.8253968253968254\n",
      "[!] Precision Score: 0.8253968253968254\n",
      "[!] Recall Score: 0.8253968253968254\n"
     ]
    }
   ],
   "source": [
    "evaluate_classifier(linear_svm,X_test_km, y_test_km, \"SVM-Linear\" , pMultiClass=True)\n",
    "evaluate_classifier(gaussian_svm,X_test_km, y_test_km, \"SVM-Gaussian\", pMultiClass=True)\n",
    "evaluate_classifier(naive_bayes,X_test_km, y_test_km, \"Naive Bayes\", pMultiClass=True)\n",
    "evaluate_classifier(lg_regressor,X_test_km, y_test_km, \"Logistic Regressor\", pMultiClass=True)\n",
    "evaluate_classifier(dec_tree,X_test_km, y_test_km, \"Decision Tree\", pMultiClass=True)\n",
    "evaluate_classifier(random_forest,X_test_km, y_test_km, \"Random Forest\", pMultiClass=True)"
   ]
  },
  {
   "cell_type": "markdown",
   "id": "d3e443b3",
   "metadata": {},
   "source": [
    "Evaluation result underlines the following facts:\n",
    "\n",
    "1. SVM (both Linear and Gaussian), Naive-Bayes and Logistic Regressor perform very well on dataset (all up to 95 % of accuracy)\n",
    "2. Decision Tree and Random Forest perform warste than other models, both are aroung 83 % of Accuracy."
   ]
  },
  {
   "cell_type": "markdown",
   "id": "7cb6dcd0",
   "metadata": {},
   "source": [
    "<a class=\"anchor\" id=\"end\"></a>\n",
    "## Conclusion\n"
   ]
  },
  {
   "cell_type": "markdown",
   "id": "0004fbc7",
   "metadata": {},
   "source": [
    "This project was an important opportunity to study data analysis and in particular Time Series Analysis.\n",
    "\n",
    "In particular, project outcome underlines the following cues:\n",
    "\n",
    "* SP500 series has low seasonal component\n",
    "* In recent years of the series (from 2000) there is an important Trend in SP500 Series\n",
    "* SP500 Series is not stationary and has an high AutoCorrelation\n",
    "* SARIMA model is the best forecast model when we consider the Sequential suddivision 80-20 % of our dataset; this means that model best understands overall behaviour of data on long period\n",
    "* Classification Task of SP500 values is well-accomplished by Linear Models and not"
   ]
  },
  {
   "cell_type": "markdown",
   "id": "51fcf5ff",
   "metadata": {},
   "source": [
    "<a class=\"anchor\" id=\"ref\"></a>\n",
    "## References\n"
   ]
  },
  {
   "cell_type": "markdown",
   "id": "56f1456f",
   "metadata": {},
   "source": [
    "<a class=\"anchor\" id=\"book_1\"></a>\n",
    "- [[1]](https://www.wiley.com/en-us/Time+Series+Analysis+and+Forecasting+by+Example-p-9780470540640) Bisgaard, Kulahci - Time Series Analysis and Forecasting by Example (First Edition)\n",
    "<a class=\"anchor\" id=\"book_2\"></a>\n",
    "- [[2]](https://www.springer.com/gp/book/9783319298528) Brockwell, Davis - Introduction to Time Series and Forecasting (Third Edition)\n",
    "<a class=\"anchor\" id=\"book_3\"></a>\n",
    "- [[3]](https://machinelearningmastery.com/introduction-to-time-series-forecasting-with-python/) Jason Brownlee - Introduction to Time Series Forecasting With Python\n",
    "<a class=\"anchor\" id=\"prophet_paper\"></a>\n",
    "- [[4]](https://peerj.com/preprints/3190.pdf) Taylor et. al. (Facebook Research) - Forecasting at Scale\n",
    "<a class=\"anchor\" id=\"ts_eval\"></a>\n",
    "- [[5]](https://www.researchgate.net/publication/247087596_Out-of_sample_tests_of_forecasting_accuracy_an_analysis_and_review) Tashman - Out-of sample tests of forecasting accuracy: an analysis and review\n",
    "<a class=\"anchor\" id=\"measure\"></a>\n",
    "- [[6]](https://robjhyndman.com/papers/ijf25.pdf) Gooijer et. al. - 25 Years of Time Series Forecasting\n",
    "<a class=\"anchor\" id=\"loess\"></a>\n",
    "- [[7]](https://en.wikipedia.org/wiki/Local_regression) Local Regression\n",
    "<a class=\"anchor\" id=\"loess\"></a>\n",
    "- [[8]](https://www.wessa.net/download/stl.pdf) Cleveland et. al. - STL: A Seasonal-Trend Decomposition Procedure Based on Loess\n",
    "<a class=\"anchor\" id=\"sp\"></a>\n",
    "- [[9]](https://datahub.io/core/s-and-p-500#data-cli) Standard and Poor's (S&P) 500 Index Data\n",
    "<a class=\"anchor\" id=\"scipy\"></a>\n",
    "- [[10]](https://www.scipy.org/) SciPy, python-based ecosystem for mathematics, science, and engineering\n",
    "<a class=\"anchor\" id=\"kats\"></a>\n",
    "- [[11]](https://facebookresearch.github.io/Kats/) Kats, one stop shop for time series analysis in Python"
   ]
  }
 ],
 "metadata": {
  "interpreter": {
   "hash": "2c894b27bbf8b1dabcf92499b4b1bb13ee97a5b985aa3a16849d26e1aa7de3e5"
  },
  "kernelspec": {
   "display_name": "Python 3",
   "language": "python",
   "name": "python3"
  },
  "language_info": {
   "codemirror_mode": {
    "name": "ipython",
    "version": 3
   },
   "file_extension": ".py",
   "mimetype": "text/x-python",
   "name": "python",
   "nbconvert_exporter": "python",
   "pygments_lexer": "ipython3",
   "version": "3.7.10"
  }
 },
 "nbformat": 4,
 "nbformat_minor": 5
}
